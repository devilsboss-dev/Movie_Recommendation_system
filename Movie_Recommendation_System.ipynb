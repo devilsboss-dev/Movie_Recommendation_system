{
  "cells": [
    {
      "cell_type": "markdown",
      "metadata": {
        "id": "dqZ-nhxiganh"
      },
      "source": [
        "## **Movie Recommendation System**"
      ]
    },
    {
      "cell_type": "markdown",
      "metadata": {
        "id": "gScHkw6jjrLo"
      },
      "source": [
        "-------------"
      ]
    },
    {
      "cell_type": "markdown",
      "metadata": {
        "id": "Xns_rCdhh-vZ"
      },
      "source": [
        "### ******Recommender System****** is a system that seeks to predict or filter preferences according to the user's choices.Recommender systems are utilized in a variety of areas including movies,music,news,books,research articles,search queries,social tags,and products in general.Recommender systems produce a list of recommendations in any of the two ways-\n",
        "\n",
        "\n"
      ]
    },
    {
      "cell_type": "markdown",
      "metadata": {
        "id": "-Vbnt9CciKJP"
      },
      "source": [
        "### ******Collaborative filtering:****** Collaborative filtering approaches build a model from the user's past behaviour(i.e. items purchased or searched by the user)as well as similar decisions made by other users.This model is then used to predict items(or ratings for items)that users may have an interest in."
      ]
    },
    {
      "cell_type": "markdown",
      "metadata": {
        "id": "pNjd9bqyG1BA"
      },
      "source": [
        "### ******Content-based filtering:****** Content-based filtering approaches uses a series of discrete characteristics of an item in order to recommend additional items with similar properties.Content-based filtering methods are totally based on a description of the item and a profile of the user's preferences.It recommends items based on the user's past preferences.Let's develop a basic recommendation system using python and pandas\n",
        "### Lets develop a basic recommendation system by suggesting items that are most similar to particular item.In this case,movies.It just tells what movies/items are most similar to the user's movie choice."
      ]
    },
    {
      "cell_type": "markdown",
      "metadata": {
        "id": "sGcv5WqQiNyl"
      },
      "source": []
    },
    {
      "cell_type": "code",
      "execution_count": 2,
      "metadata": {
        "id": "UkK6NH9DiW-X"
      },
      "outputs": [],
      "source": [
        "import pandas as pd\n",
        "import numpy as np"
      ]
    },
    {
      "cell_type": "code",
      "execution_count": 3,
      "metadata": {
        "id": "zcU1fdnGho6M"
      },
      "outputs": [],
      "source": [
        "df = pd.read_csv(r'https://raw.githubusercontent.com/YBI-Foundation/Dataset/main/Movies%20Recommendation.csv')"
      ]
    },
    {
      "cell_type": "code",
      "execution_count": 4,
      "metadata": {
        "id": "kG15arusiZ8Z",
        "colab": {
          "base_uri": "https://localhost:8080/",
          "height": 672
        },
        "outputId": "e1436b87-18e7-42fa-fcc0-a3053d0129c3"
      },
      "outputs": [
        {
          "output_type": "execute_result",
          "data": {
            "text/plain": [
              "   Movie_ID      Movie_Title                       Movie_Genre Movie_Language  \\\n",
              "0         1       Four Rooms                      Crime Comedy             en   \n",
              "1         2        Star Wars  Adventure Action Science Fiction             en   \n",
              "2         3     Finding Nemo                  Animation Family             en   \n",
              "3         4     Forrest Gump              Comedy Drama Romance             en   \n",
              "4         5  American Beauty                             Drama             en   \n",
              "\n",
              "   Movie_Budget  Movie_Popularity Movie_Release_Date  Movie_Revenue  \\\n",
              "0       4000000         22.876230         09-12-1995        4300000   \n",
              "1      11000000        126.393695         25-05-1977      775398007   \n",
              "2      94000000         85.688789         30-05-2003      940335536   \n",
              "3      55000000        138.133331         06-07-1994      677945399   \n",
              "4      15000000         80.878605         15-09-1999      356296601   \n",
              "\n",
              "   Movie_Runtime  Movie_Vote  ...  \\\n",
              "0           98.0         6.5  ...   \n",
              "1          121.0         8.1  ...   \n",
              "2          100.0         7.6  ...   \n",
              "3          142.0         8.2  ...   \n",
              "4          122.0         7.9  ...   \n",
              "\n",
              "                                      Movie_Homepage  \\\n",
              "0                                                NaN   \n",
              "1  http://www.starwars.com/films/star-wars-episod...   \n",
              "2              http://movies.disney.com/finding-nemo   \n",
              "3                                                NaN   \n",
              "4                      http://www.dreamworks.com/ab/   \n",
              "\n",
              "                                      Movie_Keywords  \\\n",
              "0          hotel new year's eve witch bet hotel room   \n",
              "1        android galaxy hermit death star lightsaber   \n",
              "2  father son relationship harbor underwater fish...   \n",
              "3  vietnam veteran hippie mentally disabled runni...   \n",
              "4  male nudity female nudity adultery midlife cri...   \n",
              "\n",
              "                                      Movie_Overview  \\\n",
              "0  It's Ted the Bellhop's first night on the job....   \n",
              "1  Princess Leia is captured and held hostage by ...   \n",
              "2  Nemo, an adventurous young clownfish, is unexp...   \n",
              "3  A man with a low IQ has accomplished great thi...   \n",
              "4  Lester Burnham, a depressed suburban father in...   \n",
              "\n",
              "                              Movie_Production_House  \\\n",
              "0  [{\"name\": \"Miramax Films\", \"id\": 14}, {\"name\":...   \n",
              "1  [{\"name\": \"Lucasfilm\", \"id\": 1}, {\"name\": \"Twe...   \n",
              "2     [{\"name\": \"Pixar Animation Studios\", \"id\": 3}]   \n",
              "3          [{\"name\": \"Paramount Pictures\", \"id\": 4}]   \n",
              "4  [{\"name\": \"DreamWorks SKG\", \"id\": 27}, {\"name\"...   \n",
              "\n",
              "                            Movie_Production_Country  \\\n",
              "0  [{\"iso_3166_1\": \"US\", \"name\": \"United States o...   \n",
              "1  [{\"iso_3166_1\": \"US\", \"name\": \"United States o...   \n",
              "2  [{\"iso_3166_1\": \"US\", \"name\": \"United States o...   \n",
              "3  [{\"iso_3166_1\": \"US\", \"name\": \"United States o...   \n",
              "4  [{\"iso_3166_1\": \"US\", \"name\": \"United States o...   \n",
              "\n",
              "                      Movie_Spoken_Language  \\\n",
              "0  [{\"iso_639_1\": \"en\", \"name\": \"English\"}]   \n",
              "1  [{\"iso_639_1\": \"en\", \"name\": \"English\"}]   \n",
              "2  [{\"iso_639_1\": \"en\", \"name\": \"English\"}]   \n",
              "3  [{\"iso_639_1\": \"en\", \"name\": \"English\"}]   \n",
              "4  [{\"iso_639_1\": \"en\", \"name\": \"English\"}]   \n",
              "\n",
              "                                       Movie_Tagline  \\\n",
              "0  Twelve outrageous guests. Four scandalous requ...   \n",
              "1       A long time ago in a galaxy far, far away...   \n",
              "2  There are 3.7 trillion fish in the ocean, they...   \n",
              "3  The world will never be the same, once you've ...   \n",
              "4                                       Look closer.   \n",
              "\n",
              "                                          Movie_Cast  \\\n",
              "0  Tim Roth Antonio Banderas Jennifer Beals Madon...   \n",
              "1  Mark Hamill Harrison Ford Carrie Fisher Peter ...   \n",
              "2  Albert Brooks Ellen DeGeneres Alexander Gould ...   \n",
              "3  Tom Hanks Robin Wright Gary Sinise Mykelti Wil...   \n",
              "4  Kevin Spacey Annette Bening Thora Birch Wes Be...   \n",
              "\n",
              "                                          Movie_Crew   Movie_Director  \n",
              "0  [{'name': 'Allison Anders', 'gender': 1, 'depa...   Allison Anders  \n",
              "1  [{'name': 'George Lucas', 'gender': 2, 'depart...     George Lucas  \n",
              "2  [{'name': 'Andrew Stanton', 'gender': 2, 'depa...   Andrew Stanton  \n",
              "3  [{'name': 'Alan Silvestri', 'gender': 2, 'depa...  Robert Zemeckis  \n",
              "4  [{'name': 'Thomas Newman', 'gender': 2, 'depar...       Sam Mendes  \n",
              "\n",
              "[5 rows x 21 columns]"
            ],
            "text/html": [
              "\n",
              "  <div id=\"df-dafeae4a-e2f5-4147-b6e9-41615af7df2b\" class=\"colab-df-container\">\n",
              "    <div>\n",
              "<style scoped>\n",
              "    .dataframe tbody tr th:only-of-type {\n",
              "        vertical-align: middle;\n",
              "    }\n",
              "\n",
              "    .dataframe tbody tr th {\n",
              "        vertical-align: top;\n",
              "    }\n",
              "\n",
              "    .dataframe thead th {\n",
              "        text-align: right;\n",
              "    }\n",
              "</style>\n",
              "<table border=\"1\" class=\"dataframe\">\n",
              "  <thead>\n",
              "    <tr style=\"text-align: right;\">\n",
              "      <th></th>\n",
              "      <th>Movie_ID</th>\n",
              "      <th>Movie_Title</th>\n",
              "      <th>Movie_Genre</th>\n",
              "      <th>Movie_Language</th>\n",
              "      <th>Movie_Budget</th>\n",
              "      <th>Movie_Popularity</th>\n",
              "      <th>Movie_Release_Date</th>\n",
              "      <th>Movie_Revenue</th>\n",
              "      <th>Movie_Runtime</th>\n",
              "      <th>Movie_Vote</th>\n",
              "      <th>...</th>\n",
              "      <th>Movie_Homepage</th>\n",
              "      <th>Movie_Keywords</th>\n",
              "      <th>Movie_Overview</th>\n",
              "      <th>Movie_Production_House</th>\n",
              "      <th>Movie_Production_Country</th>\n",
              "      <th>Movie_Spoken_Language</th>\n",
              "      <th>Movie_Tagline</th>\n",
              "      <th>Movie_Cast</th>\n",
              "      <th>Movie_Crew</th>\n",
              "      <th>Movie_Director</th>\n",
              "    </tr>\n",
              "  </thead>\n",
              "  <tbody>\n",
              "    <tr>\n",
              "      <th>0</th>\n",
              "      <td>1</td>\n",
              "      <td>Four Rooms</td>\n",
              "      <td>Crime Comedy</td>\n",
              "      <td>en</td>\n",
              "      <td>4000000</td>\n",
              "      <td>22.876230</td>\n",
              "      <td>09-12-1995</td>\n",
              "      <td>4300000</td>\n",
              "      <td>98.0</td>\n",
              "      <td>6.5</td>\n",
              "      <td>...</td>\n",
              "      <td>NaN</td>\n",
              "      <td>hotel new year's eve witch bet hotel room</td>\n",
              "      <td>It's Ted the Bellhop's first night on the job....</td>\n",
              "      <td>[{\"name\": \"Miramax Films\", \"id\": 14}, {\"name\":...</td>\n",
              "      <td>[{\"iso_3166_1\": \"US\", \"name\": \"United States o...</td>\n",
              "      <td>[{\"iso_639_1\": \"en\", \"name\": \"English\"}]</td>\n",
              "      <td>Twelve outrageous guests. Four scandalous requ...</td>\n",
              "      <td>Tim Roth Antonio Banderas Jennifer Beals Madon...</td>\n",
              "      <td>[{'name': 'Allison Anders', 'gender': 1, 'depa...</td>\n",
              "      <td>Allison Anders</td>\n",
              "    </tr>\n",
              "    <tr>\n",
              "      <th>1</th>\n",
              "      <td>2</td>\n",
              "      <td>Star Wars</td>\n",
              "      <td>Adventure Action Science Fiction</td>\n",
              "      <td>en</td>\n",
              "      <td>11000000</td>\n",
              "      <td>126.393695</td>\n",
              "      <td>25-05-1977</td>\n",
              "      <td>775398007</td>\n",
              "      <td>121.0</td>\n",
              "      <td>8.1</td>\n",
              "      <td>...</td>\n",
              "      <td>http://www.starwars.com/films/star-wars-episod...</td>\n",
              "      <td>android galaxy hermit death star lightsaber</td>\n",
              "      <td>Princess Leia is captured and held hostage by ...</td>\n",
              "      <td>[{\"name\": \"Lucasfilm\", \"id\": 1}, {\"name\": \"Twe...</td>\n",
              "      <td>[{\"iso_3166_1\": \"US\", \"name\": \"United States o...</td>\n",
              "      <td>[{\"iso_639_1\": \"en\", \"name\": \"English\"}]</td>\n",
              "      <td>A long time ago in a galaxy far, far away...</td>\n",
              "      <td>Mark Hamill Harrison Ford Carrie Fisher Peter ...</td>\n",
              "      <td>[{'name': 'George Lucas', 'gender': 2, 'depart...</td>\n",
              "      <td>George Lucas</td>\n",
              "    </tr>\n",
              "    <tr>\n",
              "      <th>2</th>\n",
              "      <td>3</td>\n",
              "      <td>Finding Nemo</td>\n",
              "      <td>Animation Family</td>\n",
              "      <td>en</td>\n",
              "      <td>94000000</td>\n",
              "      <td>85.688789</td>\n",
              "      <td>30-05-2003</td>\n",
              "      <td>940335536</td>\n",
              "      <td>100.0</td>\n",
              "      <td>7.6</td>\n",
              "      <td>...</td>\n",
              "      <td>http://movies.disney.com/finding-nemo</td>\n",
              "      <td>father son relationship harbor underwater fish...</td>\n",
              "      <td>Nemo, an adventurous young clownfish, is unexp...</td>\n",
              "      <td>[{\"name\": \"Pixar Animation Studios\", \"id\": 3}]</td>\n",
              "      <td>[{\"iso_3166_1\": \"US\", \"name\": \"United States o...</td>\n",
              "      <td>[{\"iso_639_1\": \"en\", \"name\": \"English\"}]</td>\n",
              "      <td>There are 3.7 trillion fish in the ocean, they...</td>\n",
              "      <td>Albert Brooks Ellen DeGeneres Alexander Gould ...</td>\n",
              "      <td>[{'name': 'Andrew Stanton', 'gender': 2, 'depa...</td>\n",
              "      <td>Andrew Stanton</td>\n",
              "    </tr>\n",
              "    <tr>\n",
              "      <th>3</th>\n",
              "      <td>4</td>\n",
              "      <td>Forrest Gump</td>\n",
              "      <td>Comedy Drama Romance</td>\n",
              "      <td>en</td>\n",
              "      <td>55000000</td>\n",
              "      <td>138.133331</td>\n",
              "      <td>06-07-1994</td>\n",
              "      <td>677945399</td>\n",
              "      <td>142.0</td>\n",
              "      <td>8.2</td>\n",
              "      <td>...</td>\n",
              "      <td>NaN</td>\n",
              "      <td>vietnam veteran hippie mentally disabled runni...</td>\n",
              "      <td>A man with a low IQ has accomplished great thi...</td>\n",
              "      <td>[{\"name\": \"Paramount Pictures\", \"id\": 4}]</td>\n",
              "      <td>[{\"iso_3166_1\": \"US\", \"name\": \"United States o...</td>\n",
              "      <td>[{\"iso_639_1\": \"en\", \"name\": \"English\"}]</td>\n",
              "      <td>The world will never be the same, once you've ...</td>\n",
              "      <td>Tom Hanks Robin Wright Gary Sinise Mykelti Wil...</td>\n",
              "      <td>[{'name': 'Alan Silvestri', 'gender': 2, 'depa...</td>\n",
              "      <td>Robert Zemeckis</td>\n",
              "    </tr>\n",
              "    <tr>\n",
              "      <th>4</th>\n",
              "      <td>5</td>\n",
              "      <td>American Beauty</td>\n",
              "      <td>Drama</td>\n",
              "      <td>en</td>\n",
              "      <td>15000000</td>\n",
              "      <td>80.878605</td>\n",
              "      <td>15-09-1999</td>\n",
              "      <td>356296601</td>\n",
              "      <td>122.0</td>\n",
              "      <td>7.9</td>\n",
              "      <td>...</td>\n",
              "      <td>http://www.dreamworks.com/ab/</td>\n",
              "      <td>male nudity female nudity adultery midlife cri...</td>\n",
              "      <td>Lester Burnham, a depressed suburban father in...</td>\n",
              "      <td>[{\"name\": \"DreamWorks SKG\", \"id\": 27}, {\"name\"...</td>\n",
              "      <td>[{\"iso_3166_1\": \"US\", \"name\": \"United States o...</td>\n",
              "      <td>[{\"iso_639_1\": \"en\", \"name\": \"English\"}]</td>\n",
              "      <td>Look closer.</td>\n",
              "      <td>Kevin Spacey Annette Bening Thora Birch Wes Be...</td>\n",
              "      <td>[{'name': 'Thomas Newman', 'gender': 2, 'depar...</td>\n",
              "      <td>Sam Mendes</td>\n",
              "    </tr>\n",
              "  </tbody>\n",
              "</table>\n",
              "<p>5 rows × 21 columns</p>\n",
              "</div>\n",
              "    <div class=\"colab-df-buttons\">\n",
              "\n",
              "  <div class=\"colab-df-container\">\n",
              "    <button class=\"colab-df-convert\" onclick=\"convertToInteractive('df-dafeae4a-e2f5-4147-b6e9-41615af7df2b')\"\n",
              "            title=\"Convert this dataframe to an interactive table.\"\n",
              "            style=\"display:none;\">\n",
              "\n",
              "  <svg xmlns=\"http://www.w3.org/2000/svg\" height=\"24px\" viewBox=\"0 -960 960 960\">\n",
              "    <path d=\"M120-120v-720h720v720H120Zm60-500h600v-160H180v160Zm220 220h160v-160H400v160Zm0 220h160v-160H400v160ZM180-400h160v-160H180v160Zm440 0h160v-160H620v160ZM180-180h160v-160H180v160Zm440 0h160v-160H620v160Z\"/>\n",
              "  </svg>\n",
              "    </button>\n",
              "\n",
              "  <style>\n",
              "    .colab-df-container {\n",
              "      display:flex;\n",
              "      gap: 12px;\n",
              "    }\n",
              "\n",
              "    .colab-df-convert {\n",
              "      background-color: #E8F0FE;\n",
              "      border: none;\n",
              "      border-radius: 50%;\n",
              "      cursor: pointer;\n",
              "      display: none;\n",
              "      fill: #1967D2;\n",
              "      height: 32px;\n",
              "      padding: 0 0 0 0;\n",
              "      width: 32px;\n",
              "    }\n",
              "\n",
              "    .colab-df-convert:hover {\n",
              "      background-color: #E2EBFA;\n",
              "      box-shadow: 0px 1px 2px rgba(60, 64, 67, 0.3), 0px 1px 3px 1px rgba(60, 64, 67, 0.15);\n",
              "      fill: #174EA6;\n",
              "    }\n",
              "\n",
              "    .colab-df-buttons div {\n",
              "      margin-bottom: 4px;\n",
              "    }\n",
              "\n",
              "    [theme=dark] .colab-df-convert {\n",
              "      background-color: #3B4455;\n",
              "      fill: #D2E3FC;\n",
              "    }\n",
              "\n",
              "    [theme=dark] .colab-df-convert:hover {\n",
              "      background-color: #434B5C;\n",
              "      box-shadow: 0px 1px 3px 1px rgba(0, 0, 0, 0.15);\n",
              "      filter: drop-shadow(0px 1px 2px rgba(0, 0, 0, 0.3));\n",
              "      fill: #FFFFFF;\n",
              "    }\n",
              "  </style>\n",
              "\n",
              "    <script>\n",
              "      const buttonEl =\n",
              "        document.querySelector('#df-dafeae4a-e2f5-4147-b6e9-41615af7df2b button.colab-df-convert');\n",
              "      buttonEl.style.display =\n",
              "        google.colab.kernel.accessAllowed ? 'block' : 'none';\n",
              "\n",
              "      async function convertToInteractive(key) {\n",
              "        const element = document.querySelector('#df-dafeae4a-e2f5-4147-b6e9-41615af7df2b');\n",
              "        const dataTable =\n",
              "          await google.colab.kernel.invokeFunction('convertToInteractive',\n",
              "                                                    [key], {});\n",
              "        if (!dataTable) return;\n",
              "\n",
              "        const docLinkHtml = 'Like what you see? Visit the ' +\n",
              "          '<a target=\"_blank\" href=https://colab.research.google.com/notebooks/data_table.ipynb>data table notebook</a>'\n",
              "          + ' to learn more about interactive tables.';\n",
              "        element.innerHTML = '';\n",
              "        dataTable['output_type'] = 'display_data';\n",
              "        await google.colab.output.renderOutput(dataTable, element);\n",
              "        const docLink = document.createElement('div');\n",
              "        docLink.innerHTML = docLinkHtml;\n",
              "        element.appendChild(docLink);\n",
              "      }\n",
              "    </script>\n",
              "  </div>\n",
              "\n",
              "\n",
              "<div id=\"df-81dad6cf-9bd7-48e2-b7c7-3b3a71af4703\">\n",
              "  <button class=\"colab-df-quickchart\" onclick=\"quickchart('df-81dad6cf-9bd7-48e2-b7c7-3b3a71af4703')\"\n",
              "            title=\"Suggest charts.\"\n",
              "            style=\"display:none;\">\n",
              "\n",
              "<svg xmlns=\"http://www.w3.org/2000/svg\" height=\"24px\"viewBox=\"0 0 24 24\"\n",
              "     width=\"24px\">\n",
              "    <g>\n",
              "        <path d=\"M19 3H5c-1.1 0-2 .9-2 2v14c0 1.1.9 2 2 2h14c1.1 0 2-.9 2-2V5c0-1.1-.9-2-2-2zM9 17H7v-7h2v7zm4 0h-2V7h2v10zm4 0h-2v-4h2v4z\"/>\n",
              "    </g>\n",
              "</svg>\n",
              "  </button>\n",
              "\n",
              "<style>\n",
              "  .colab-df-quickchart {\n",
              "    background-color: #E8F0FE;\n",
              "    border: none;\n",
              "    border-radius: 50%;\n",
              "    cursor: pointer;\n",
              "    display: none;\n",
              "    fill: #1967D2;\n",
              "    height: 32px;\n",
              "    padding: 0 0 0 0;\n",
              "    width: 32px;\n",
              "  }\n",
              "\n",
              "  .colab-df-quickchart:hover {\n",
              "    background-color: #E2EBFA;\n",
              "    box-shadow: 0px 1px 2px rgba(60, 64, 67, 0.3), 0px 1px 3px 1px rgba(60, 64, 67, 0.15);\n",
              "    fill: #174EA6;\n",
              "  }\n",
              "\n",
              "  [theme=dark] .colab-df-quickchart {\n",
              "    background-color: #3B4455;\n",
              "    fill: #D2E3FC;\n",
              "  }\n",
              "\n",
              "  [theme=dark] .colab-df-quickchart:hover {\n",
              "    background-color: #434B5C;\n",
              "    box-shadow: 0px 1px 3px 1px rgba(0, 0, 0, 0.15);\n",
              "    filter: drop-shadow(0px 1px 2px rgba(0, 0, 0, 0.3));\n",
              "    fill: #FFFFFF;\n",
              "  }\n",
              "</style>\n",
              "\n",
              "  <script>\n",
              "    async function quickchart(key) {\n",
              "      const charts = await google.colab.kernel.invokeFunction(\n",
              "          'suggestCharts', [key], {});\n",
              "    }\n",
              "    (() => {\n",
              "      let quickchartButtonEl =\n",
              "        document.querySelector('#df-81dad6cf-9bd7-48e2-b7c7-3b3a71af4703 button');\n",
              "      quickchartButtonEl.style.display =\n",
              "        google.colab.kernel.accessAllowed ? 'block' : 'none';\n",
              "    })();\n",
              "  </script>\n",
              "</div>\n",
              "    </div>\n",
              "  </div>\n"
            ]
          },
          "metadata": {},
          "execution_count": 4
        }
      ],
      "source": [
        "df.head()"
      ]
    },
    {
      "cell_type": "code",
      "execution_count": 5,
      "metadata": {
        "colab": {
          "base_uri": "https://localhost:8080/"
        },
        "id": "lV0XaQMRG1BL",
        "outputId": "9950d7d2-b0d3-4d42-fd70-086311630ada"
      },
      "outputs": [
        {
          "output_type": "stream",
          "name": "stdout",
          "text": [
            "<class 'pandas.core.frame.DataFrame'>\n",
            "RangeIndex: 4760 entries, 0 to 4759\n",
            "Data columns (total 21 columns):\n",
            " #   Column                    Non-Null Count  Dtype  \n",
            "---  ------                    --------------  -----  \n",
            " 0   Movie_ID                  4760 non-null   int64  \n",
            " 1   Movie_Title               4760 non-null   object \n",
            " 2   Movie_Genre               4760 non-null   object \n",
            " 3   Movie_Language            4760 non-null   object \n",
            " 4   Movie_Budget              4760 non-null   int64  \n",
            " 5   Movie_Popularity          4760 non-null   float64\n",
            " 6   Movie_Release_Date        4760 non-null   object \n",
            " 7   Movie_Revenue             4760 non-null   int64  \n",
            " 8   Movie_Runtime             4758 non-null   float64\n",
            " 9   Movie_Vote                4760 non-null   float64\n",
            " 10  Movie_Vote_Count          4760 non-null   int64  \n",
            " 11  Movie_Homepage            1699 non-null   object \n",
            " 12  Movie_Keywords            4373 non-null   object \n",
            " 13  Movie_Overview            4757 non-null   object \n",
            " 14  Movie_Production_House    4760 non-null   object \n",
            " 15  Movie_Production_Country  4760 non-null   object \n",
            " 16  Movie_Spoken_Language     4760 non-null   object \n",
            " 17  Movie_Tagline             3942 non-null   object \n",
            " 18  Movie_Cast                4733 non-null   object \n",
            " 19  Movie_Crew                4760 non-null   object \n",
            " 20  Movie_Director            4738 non-null   object \n",
            "dtypes: float64(3), int64(4), object(14)\n",
            "memory usage: 781.1+ KB\n"
          ]
        }
      ],
      "source": [
        "df.info()"
      ]
    },
    {
      "cell_type": "code",
      "execution_count": 6,
      "metadata": {
        "colab": {
          "base_uri": "https://localhost:8080/"
        },
        "id": "DaSC4BiBG1BM",
        "outputId": "919dfc87-fd59-4130-e9d1-845c1e32c3b0"
      },
      "outputs": [
        {
          "output_type": "execute_result",
          "data": {
            "text/plain": [
              "(4760, 21)"
            ]
          },
          "metadata": {},
          "execution_count": 6
        }
      ],
      "source": [
        "df.shape\n"
      ]
    },
    {
      "cell_type": "code",
      "execution_count": 7,
      "metadata": {
        "colab": {
          "base_uri": "https://localhost:8080/"
        },
        "id": "63ObTen0G1BN",
        "outputId": "a4f86f88-aadd-4b0a-e338-1ca776ebdfbb"
      },
      "outputs": [
        {
          "output_type": "execute_result",
          "data": {
            "text/plain": [
              "Index(['Movie_ID', 'Movie_Title', 'Movie_Genre', 'Movie_Language',\n",
              "       'Movie_Budget', 'Movie_Popularity', 'Movie_Release_Date',\n",
              "       'Movie_Revenue', 'Movie_Runtime', 'Movie_Vote', 'Movie_Vote_Count',\n",
              "       'Movie_Homepage', 'Movie_Keywords', 'Movie_Overview',\n",
              "       'Movie_Production_House', 'Movie_Production_Country',\n",
              "       'Movie_Spoken_Language', 'Movie_Tagline', 'Movie_Cast', 'Movie_Crew',\n",
              "       'Movie_Director'],\n",
              "      dtype='object')"
            ]
          },
          "metadata": {},
          "execution_count": 7
        }
      ],
      "source": [
        "df.columns"
      ]
    },
    {
      "cell_type": "code",
      "execution_count": 8,
      "metadata": {
        "colab": {
          "base_uri": "https://localhost:8080/",
          "height": 443
        },
        "id": "mxdsRlPwG1BO",
        "outputId": "19aabeb4-b0bf-4bed-fb52-665a329ec1ca"
      },
      "outputs": [
        {
          "output_type": "execute_result",
          "data": {
            "text/plain": [
              "      Movie_ID  Movie_Title  Movie_Genre  Movie_Language  Movie_Budget  \\\n",
              "0        False        False        False           False         False   \n",
              "1        False        False        False           False         False   \n",
              "2        False        False        False           False         False   \n",
              "3        False        False        False           False         False   \n",
              "4        False        False        False           False         False   \n",
              "...        ...          ...          ...             ...           ...   \n",
              "4755     False        False        False           False         False   \n",
              "4756     False        False        False           False         False   \n",
              "4757     False        False        False           False         False   \n",
              "4758     False        False        False           False         False   \n",
              "4759     False        False        False           False         False   \n",
              "\n",
              "      Movie_Popularity  Movie_Release_Date  Movie_Revenue  Movie_Runtime  \\\n",
              "0                False               False          False          False   \n",
              "1                False               False          False          False   \n",
              "2                False               False          False          False   \n",
              "3                False               False          False          False   \n",
              "4                False               False          False          False   \n",
              "...                ...                 ...            ...            ...   \n",
              "4755             False               False          False          False   \n",
              "4756             False               False          False          False   \n",
              "4757             False               False          False          False   \n",
              "4758             False               False          False          False   \n",
              "4759             False               False          False           True   \n",
              "\n",
              "      Movie_Vote  ...  Movie_Homepage  Movie_Keywords  Movie_Overview  \\\n",
              "0          False  ...            True           False           False   \n",
              "1          False  ...           False           False           False   \n",
              "2          False  ...           False           False           False   \n",
              "3          False  ...            True           False           False   \n",
              "4          False  ...           False           False           False   \n",
              "...          ...  ...             ...             ...             ...   \n",
              "4755       False  ...            True            True           False   \n",
              "4756       False  ...           False            True           False   \n",
              "4757       False  ...            True           False           False   \n",
              "4758       False  ...            True            True           False   \n",
              "4759       False  ...            True           False            True   \n",
              "\n",
              "      Movie_Production_House  Movie_Production_Country  Movie_Spoken_Language  \\\n",
              "0                      False                     False                  False   \n",
              "1                      False                     False                  False   \n",
              "2                      False                     False                  False   \n",
              "3                      False                     False                  False   \n",
              "4                      False                     False                  False   \n",
              "...                      ...                       ...                    ...   \n",
              "4755                   False                     False                  False   \n",
              "4756                   False                     False                  False   \n",
              "4757                   False                     False                  False   \n",
              "4758                   False                     False                  False   \n",
              "4759                   False                     False                  False   \n",
              "\n",
              "      Movie_Tagline  Movie_Cast  Movie_Crew  Movie_Director  \n",
              "0             False       False       False           False  \n",
              "1             False       False       False           False  \n",
              "2             False       False       False           False  \n",
              "3             False       False       False           False  \n",
              "4             False       False       False           False  \n",
              "...             ...         ...         ...             ...  \n",
              "4755          False       False       False           False  \n",
              "4756          False       False       False           False  \n",
              "4757          False       False       False           False  \n",
              "4758           True        True       False            True  \n",
              "4759           True       False       False           False  \n",
              "\n",
              "[4760 rows x 21 columns]"
            ],
            "text/html": [
              "\n",
              "  <div id=\"df-80515ef0-a8a4-4300-9450-159b3a04ef78\" class=\"colab-df-container\">\n",
              "    <div>\n",
              "<style scoped>\n",
              "    .dataframe tbody tr th:only-of-type {\n",
              "        vertical-align: middle;\n",
              "    }\n",
              "\n",
              "    .dataframe tbody tr th {\n",
              "        vertical-align: top;\n",
              "    }\n",
              "\n",
              "    .dataframe thead th {\n",
              "        text-align: right;\n",
              "    }\n",
              "</style>\n",
              "<table border=\"1\" class=\"dataframe\">\n",
              "  <thead>\n",
              "    <tr style=\"text-align: right;\">\n",
              "      <th></th>\n",
              "      <th>Movie_ID</th>\n",
              "      <th>Movie_Title</th>\n",
              "      <th>Movie_Genre</th>\n",
              "      <th>Movie_Language</th>\n",
              "      <th>Movie_Budget</th>\n",
              "      <th>Movie_Popularity</th>\n",
              "      <th>Movie_Release_Date</th>\n",
              "      <th>Movie_Revenue</th>\n",
              "      <th>Movie_Runtime</th>\n",
              "      <th>Movie_Vote</th>\n",
              "      <th>...</th>\n",
              "      <th>Movie_Homepage</th>\n",
              "      <th>Movie_Keywords</th>\n",
              "      <th>Movie_Overview</th>\n",
              "      <th>Movie_Production_House</th>\n",
              "      <th>Movie_Production_Country</th>\n",
              "      <th>Movie_Spoken_Language</th>\n",
              "      <th>Movie_Tagline</th>\n",
              "      <th>Movie_Cast</th>\n",
              "      <th>Movie_Crew</th>\n",
              "      <th>Movie_Director</th>\n",
              "    </tr>\n",
              "  </thead>\n",
              "  <tbody>\n",
              "    <tr>\n",
              "      <th>0</th>\n",
              "      <td>False</td>\n",
              "      <td>False</td>\n",
              "      <td>False</td>\n",
              "      <td>False</td>\n",
              "      <td>False</td>\n",
              "      <td>False</td>\n",
              "      <td>False</td>\n",
              "      <td>False</td>\n",
              "      <td>False</td>\n",
              "      <td>False</td>\n",
              "      <td>...</td>\n",
              "      <td>True</td>\n",
              "      <td>False</td>\n",
              "      <td>False</td>\n",
              "      <td>False</td>\n",
              "      <td>False</td>\n",
              "      <td>False</td>\n",
              "      <td>False</td>\n",
              "      <td>False</td>\n",
              "      <td>False</td>\n",
              "      <td>False</td>\n",
              "    </tr>\n",
              "    <tr>\n",
              "      <th>1</th>\n",
              "      <td>False</td>\n",
              "      <td>False</td>\n",
              "      <td>False</td>\n",
              "      <td>False</td>\n",
              "      <td>False</td>\n",
              "      <td>False</td>\n",
              "      <td>False</td>\n",
              "      <td>False</td>\n",
              "      <td>False</td>\n",
              "      <td>False</td>\n",
              "      <td>...</td>\n",
              "      <td>False</td>\n",
              "      <td>False</td>\n",
              "      <td>False</td>\n",
              "      <td>False</td>\n",
              "      <td>False</td>\n",
              "      <td>False</td>\n",
              "      <td>False</td>\n",
              "      <td>False</td>\n",
              "      <td>False</td>\n",
              "      <td>False</td>\n",
              "    </tr>\n",
              "    <tr>\n",
              "      <th>2</th>\n",
              "      <td>False</td>\n",
              "      <td>False</td>\n",
              "      <td>False</td>\n",
              "      <td>False</td>\n",
              "      <td>False</td>\n",
              "      <td>False</td>\n",
              "      <td>False</td>\n",
              "      <td>False</td>\n",
              "      <td>False</td>\n",
              "      <td>False</td>\n",
              "      <td>...</td>\n",
              "      <td>False</td>\n",
              "      <td>False</td>\n",
              "      <td>False</td>\n",
              "      <td>False</td>\n",
              "      <td>False</td>\n",
              "      <td>False</td>\n",
              "      <td>False</td>\n",
              "      <td>False</td>\n",
              "      <td>False</td>\n",
              "      <td>False</td>\n",
              "    </tr>\n",
              "    <tr>\n",
              "      <th>3</th>\n",
              "      <td>False</td>\n",
              "      <td>False</td>\n",
              "      <td>False</td>\n",
              "      <td>False</td>\n",
              "      <td>False</td>\n",
              "      <td>False</td>\n",
              "      <td>False</td>\n",
              "      <td>False</td>\n",
              "      <td>False</td>\n",
              "      <td>False</td>\n",
              "      <td>...</td>\n",
              "      <td>True</td>\n",
              "      <td>False</td>\n",
              "      <td>False</td>\n",
              "      <td>False</td>\n",
              "      <td>False</td>\n",
              "      <td>False</td>\n",
              "      <td>False</td>\n",
              "      <td>False</td>\n",
              "      <td>False</td>\n",
              "      <td>False</td>\n",
              "    </tr>\n",
              "    <tr>\n",
              "      <th>4</th>\n",
              "      <td>False</td>\n",
              "      <td>False</td>\n",
              "      <td>False</td>\n",
              "      <td>False</td>\n",
              "      <td>False</td>\n",
              "      <td>False</td>\n",
              "      <td>False</td>\n",
              "      <td>False</td>\n",
              "      <td>False</td>\n",
              "      <td>False</td>\n",
              "      <td>...</td>\n",
              "      <td>False</td>\n",
              "      <td>False</td>\n",
              "      <td>False</td>\n",
              "      <td>False</td>\n",
              "      <td>False</td>\n",
              "      <td>False</td>\n",
              "      <td>False</td>\n",
              "      <td>False</td>\n",
              "      <td>False</td>\n",
              "      <td>False</td>\n",
              "    </tr>\n",
              "    <tr>\n",
              "      <th>...</th>\n",
              "      <td>...</td>\n",
              "      <td>...</td>\n",
              "      <td>...</td>\n",
              "      <td>...</td>\n",
              "      <td>...</td>\n",
              "      <td>...</td>\n",
              "      <td>...</td>\n",
              "      <td>...</td>\n",
              "      <td>...</td>\n",
              "      <td>...</td>\n",
              "      <td>...</td>\n",
              "      <td>...</td>\n",
              "      <td>...</td>\n",
              "      <td>...</td>\n",
              "      <td>...</td>\n",
              "      <td>...</td>\n",
              "      <td>...</td>\n",
              "      <td>...</td>\n",
              "      <td>...</td>\n",
              "      <td>...</td>\n",
              "      <td>...</td>\n",
              "    </tr>\n",
              "    <tr>\n",
              "      <th>4755</th>\n",
              "      <td>False</td>\n",
              "      <td>False</td>\n",
              "      <td>False</td>\n",
              "      <td>False</td>\n",
              "      <td>False</td>\n",
              "      <td>False</td>\n",
              "      <td>False</td>\n",
              "      <td>False</td>\n",
              "      <td>False</td>\n",
              "      <td>False</td>\n",
              "      <td>...</td>\n",
              "      <td>True</td>\n",
              "      <td>True</td>\n",
              "      <td>False</td>\n",
              "      <td>False</td>\n",
              "      <td>False</td>\n",
              "      <td>False</td>\n",
              "      <td>False</td>\n",
              "      <td>False</td>\n",
              "      <td>False</td>\n",
              "      <td>False</td>\n",
              "    </tr>\n",
              "    <tr>\n",
              "      <th>4756</th>\n",
              "      <td>False</td>\n",
              "      <td>False</td>\n",
              "      <td>False</td>\n",
              "      <td>False</td>\n",
              "      <td>False</td>\n",
              "      <td>False</td>\n",
              "      <td>False</td>\n",
              "      <td>False</td>\n",
              "      <td>False</td>\n",
              "      <td>False</td>\n",
              "      <td>...</td>\n",
              "      <td>False</td>\n",
              "      <td>True</td>\n",
              "      <td>False</td>\n",
              "      <td>False</td>\n",
              "      <td>False</td>\n",
              "      <td>False</td>\n",
              "      <td>False</td>\n",
              "      <td>False</td>\n",
              "      <td>False</td>\n",
              "      <td>False</td>\n",
              "    </tr>\n",
              "    <tr>\n",
              "      <th>4757</th>\n",
              "      <td>False</td>\n",
              "      <td>False</td>\n",
              "      <td>False</td>\n",
              "      <td>False</td>\n",
              "      <td>False</td>\n",
              "      <td>False</td>\n",
              "      <td>False</td>\n",
              "      <td>False</td>\n",
              "      <td>False</td>\n",
              "      <td>False</td>\n",
              "      <td>...</td>\n",
              "      <td>True</td>\n",
              "      <td>False</td>\n",
              "      <td>False</td>\n",
              "      <td>False</td>\n",
              "      <td>False</td>\n",
              "      <td>False</td>\n",
              "      <td>False</td>\n",
              "      <td>False</td>\n",
              "      <td>False</td>\n",
              "      <td>False</td>\n",
              "    </tr>\n",
              "    <tr>\n",
              "      <th>4758</th>\n",
              "      <td>False</td>\n",
              "      <td>False</td>\n",
              "      <td>False</td>\n",
              "      <td>False</td>\n",
              "      <td>False</td>\n",
              "      <td>False</td>\n",
              "      <td>False</td>\n",
              "      <td>False</td>\n",
              "      <td>False</td>\n",
              "      <td>False</td>\n",
              "      <td>...</td>\n",
              "      <td>True</td>\n",
              "      <td>True</td>\n",
              "      <td>False</td>\n",
              "      <td>False</td>\n",
              "      <td>False</td>\n",
              "      <td>False</td>\n",
              "      <td>True</td>\n",
              "      <td>True</td>\n",
              "      <td>False</td>\n",
              "      <td>True</td>\n",
              "    </tr>\n",
              "    <tr>\n",
              "      <th>4759</th>\n",
              "      <td>False</td>\n",
              "      <td>False</td>\n",
              "      <td>False</td>\n",
              "      <td>False</td>\n",
              "      <td>False</td>\n",
              "      <td>False</td>\n",
              "      <td>False</td>\n",
              "      <td>False</td>\n",
              "      <td>True</td>\n",
              "      <td>False</td>\n",
              "      <td>...</td>\n",
              "      <td>True</td>\n",
              "      <td>False</td>\n",
              "      <td>True</td>\n",
              "      <td>False</td>\n",
              "      <td>False</td>\n",
              "      <td>False</td>\n",
              "      <td>True</td>\n",
              "      <td>False</td>\n",
              "      <td>False</td>\n",
              "      <td>False</td>\n",
              "    </tr>\n",
              "  </tbody>\n",
              "</table>\n",
              "<p>4760 rows × 21 columns</p>\n",
              "</div>\n",
              "    <div class=\"colab-df-buttons\">\n",
              "\n",
              "  <div class=\"colab-df-container\">\n",
              "    <button class=\"colab-df-convert\" onclick=\"convertToInteractive('df-80515ef0-a8a4-4300-9450-159b3a04ef78')\"\n",
              "            title=\"Convert this dataframe to an interactive table.\"\n",
              "            style=\"display:none;\">\n",
              "\n",
              "  <svg xmlns=\"http://www.w3.org/2000/svg\" height=\"24px\" viewBox=\"0 -960 960 960\">\n",
              "    <path d=\"M120-120v-720h720v720H120Zm60-500h600v-160H180v160Zm220 220h160v-160H400v160Zm0 220h160v-160H400v160ZM180-400h160v-160H180v160Zm440 0h160v-160H620v160ZM180-180h160v-160H180v160Zm440 0h160v-160H620v160Z\"/>\n",
              "  </svg>\n",
              "    </button>\n",
              "\n",
              "  <style>\n",
              "    .colab-df-container {\n",
              "      display:flex;\n",
              "      gap: 12px;\n",
              "    }\n",
              "\n",
              "    .colab-df-convert {\n",
              "      background-color: #E8F0FE;\n",
              "      border: none;\n",
              "      border-radius: 50%;\n",
              "      cursor: pointer;\n",
              "      display: none;\n",
              "      fill: #1967D2;\n",
              "      height: 32px;\n",
              "      padding: 0 0 0 0;\n",
              "      width: 32px;\n",
              "    }\n",
              "\n",
              "    .colab-df-convert:hover {\n",
              "      background-color: #E2EBFA;\n",
              "      box-shadow: 0px 1px 2px rgba(60, 64, 67, 0.3), 0px 1px 3px 1px rgba(60, 64, 67, 0.15);\n",
              "      fill: #174EA6;\n",
              "    }\n",
              "\n",
              "    .colab-df-buttons div {\n",
              "      margin-bottom: 4px;\n",
              "    }\n",
              "\n",
              "    [theme=dark] .colab-df-convert {\n",
              "      background-color: #3B4455;\n",
              "      fill: #D2E3FC;\n",
              "    }\n",
              "\n",
              "    [theme=dark] .colab-df-convert:hover {\n",
              "      background-color: #434B5C;\n",
              "      box-shadow: 0px 1px 3px 1px rgba(0, 0, 0, 0.15);\n",
              "      filter: drop-shadow(0px 1px 2px rgba(0, 0, 0, 0.3));\n",
              "      fill: #FFFFFF;\n",
              "    }\n",
              "  </style>\n",
              "\n",
              "    <script>\n",
              "      const buttonEl =\n",
              "        document.querySelector('#df-80515ef0-a8a4-4300-9450-159b3a04ef78 button.colab-df-convert');\n",
              "      buttonEl.style.display =\n",
              "        google.colab.kernel.accessAllowed ? 'block' : 'none';\n",
              "\n",
              "      async function convertToInteractive(key) {\n",
              "        const element = document.querySelector('#df-80515ef0-a8a4-4300-9450-159b3a04ef78');\n",
              "        const dataTable =\n",
              "          await google.colab.kernel.invokeFunction('convertToInteractive',\n",
              "                                                    [key], {});\n",
              "        if (!dataTable) return;\n",
              "\n",
              "        const docLinkHtml = 'Like what you see? Visit the ' +\n",
              "          '<a target=\"_blank\" href=https://colab.research.google.com/notebooks/data_table.ipynb>data table notebook</a>'\n",
              "          + ' to learn more about interactive tables.';\n",
              "        element.innerHTML = '';\n",
              "        dataTable['output_type'] = 'display_data';\n",
              "        await google.colab.output.renderOutput(dataTable, element);\n",
              "        const docLink = document.createElement('div');\n",
              "        docLink.innerHTML = docLinkHtml;\n",
              "        element.appendChild(docLink);\n",
              "      }\n",
              "    </script>\n",
              "  </div>\n",
              "\n",
              "\n",
              "<div id=\"df-34428f0e-3a5d-4279-b226-f348c1425e8a\">\n",
              "  <button class=\"colab-df-quickchart\" onclick=\"quickchart('df-34428f0e-3a5d-4279-b226-f348c1425e8a')\"\n",
              "            title=\"Suggest charts.\"\n",
              "            style=\"display:none;\">\n",
              "\n",
              "<svg xmlns=\"http://www.w3.org/2000/svg\" height=\"24px\"viewBox=\"0 0 24 24\"\n",
              "     width=\"24px\">\n",
              "    <g>\n",
              "        <path d=\"M19 3H5c-1.1 0-2 .9-2 2v14c0 1.1.9 2 2 2h14c1.1 0 2-.9 2-2V5c0-1.1-.9-2-2-2zM9 17H7v-7h2v7zm4 0h-2V7h2v10zm4 0h-2v-4h2v4z\"/>\n",
              "    </g>\n",
              "</svg>\n",
              "  </button>\n",
              "\n",
              "<style>\n",
              "  .colab-df-quickchart {\n",
              "    background-color: #E8F0FE;\n",
              "    border: none;\n",
              "    border-radius: 50%;\n",
              "    cursor: pointer;\n",
              "    display: none;\n",
              "    fill: #1967D2;\n",
              "    height: 32px;\n",
              "    padding: 0 0 0 0;\n",
              "    width: 32px;\n",
              "  }\n",
              "\n",
              "  .colab-df-quickchart:hover {\n",
              "    background-color: #E2EBFA;\n",
              "    box-shadow: 0px 1px 2px rgba(60, 64, 67, 0.3), 0px 1px 3px 1px rgba(60, 64, 67, 0.15);\n",
              "    fill: #174EA6;\n",
              "  }\n",
              "\n",
              "  [theme=dark] .colab-df-quickchart {\n",
              "    background-color: #3B4455;\n",
              "    fill: #D2E3FC;\n",
              "  }\n",
              "\n",
              "  [theme=dark] .colab-df-quickchart:hover {\n",
              "    background-color: #434B5C;\n",
              "    box-shadow: 0px 1px 3px 1px rgba(0, 0, 0, 0.15);\n",
              "    filter: drop-shadow(0px 1px 2px rgba(0, 0, 0, 0.3));\n",
              "    fill: #FFFFFF;\n",
              "  }\n",
              "</style>\n",
              "\n",
              "  <script>\n",
              "    async function quickchart(key) {\n",
              "      const charts = await google.colab.kernel.invokeFunction(\n",
              "          'suggestCharts', [key], {});\n",
              "    }\n",
              "    (() => {\n",
              "      let quickchartButtonEl =\n",
              "        document.querySelector('#df-34428f0e-3a5d-4279-b226-f348c1425e8a button');\n",
              "      quickchartButtonEl.style.display =\n",
              "        google.colab.kernel.accessAllowed ? 'block' : 'none';\n",
              "    })();\n",
              "  </script>\n",
              "</div>\n",
              "    </div>\n",
              "  </div>\n"
            ]
          },
          "metadata": {},
          "execution_count": 8
        }
      ],
      "source": [
        "df.isnull()"
      ]
    },
    {
      "cell_type": "code",
      "execution_count": 9,
      "metadata": {
        "id": "lW-OIRK0iuzO"
      },
      "outputs": [],
      "source": [
        "df_features=df[['Movie_Genre','Movie_Keywords','Movie_Tagline','Movie_Cast','Movie_Director']].fillna('')"
      ]
    },
    {
      "cell_type": "code",
      "execution_count": 10,
      "metadata": {
        "colab": {
          "base_uri": "https://localhost:8080/"
        },
        "id": "CJNlUBD6G1BP",
        "outputId": "17089072-40fc-4a21-f0b8-03ba81ae97a2"
      },
      "outputs": [
        {
          "output_type": "execute_result",
          "data": {
            "text/plain": [
              "(4760, 5)"
            ]
          },
          "metadata": {},
          "execution_count": 10
        }
      ],
      "source": [
        "df_features.shape"
      ]
    },
    {
      "cell_type": "code",
      "execution_count": 11,
      "metadata": {
        "colab": {
          "base_uri": "https://localhost:8080/",
          "height": 493
        },
        "id": "X-QpHtdKG1BQ",
        "outputId": "50f27c41-743a-48d4-cfaa-800a4da584ea"
      },
      "outputs": [
        {
          "output_type": "execute_result",
          "data": {
            "text/plain": [
              "                           Movie_Genre  \\\n",
              "0                         Crime Comedy   \n",
              "1     Adventure Action Science Fiction   \n",
              "2                     Animation Family   \n",
              "3                 Comedy Drama Romance   \n",
              "4                                Drama   \n",
              "...                                ...   \n",
              "4755                            Horror   \n",
              "4756               Comedy Family Drama   \n",
              "4757                    Thriller Drama   \n",
              "4758                            Family   \n",
              "4759                       Documentary   \n",
              "\n",
              "                                         Movie_Keywords  \\\n",
              "0             hotel new year's eve witch bet hotel room   \n",
              "1           android galaxy hermit death star lightsaber   \n",
              "2     father son relationship harbor underwater fish...   \n",
              "3     vietnam veteran hippie mentally disabled runni...   \n",
              "4     male nudity female nudity adultery midlife cri...   \n",
              "...                                                 ...   \n",
              "4755                                                      \n",
              "4756                                                      \n",
              "4757                     christian film sex trafficking   \n",
              "4758                                                      \n",
              "4759  music actors legendary perfomer classic hollyw...   \n",
              "\n",
              "                                          Movie_Tagline  \\\n",
              "0     Twelve outrageous guests. Four scandalous requ...   \n",
              "1          A long time ago in a galaxy far, far away...   \n",
              "2     There are 3.7 trillion fish in the ocean, they...   \n",
              "3     The world will never be the same, once you've ...   \n",
              "4                                          Look closer.   \n",
              "...                                                 ...   \n",
              "4755                The hot spot where Satan's waitin'.   \n",
              "4756           It’s better to stand out than to fit in.   \n",
              "4757           She never knew it could happen to her...   \n",
              "4758                                                      \n",
              "4759                                                      \n",
              "\n",
              "                                             Movie_Cast     Movie_Director  \n",
              "0     Tim Roth Antonio Banderas Jennifer Beals Madon...     Allison Anders  \n",
              "1     Mark Hamill Harrison Ford Carrie Fisher Peter ...       George Lucas  \n",
              "2     Albert Brooks Ellen DeGeneres Alexander Gould ...     Andrew Stanton  \n",
              "3     Tom Hanks Robin Wright Gary Sinise Mykelti Wil...    Robert Zemeckis  \n",
              "4     Kevin Spacey Annette Bening Thora Birch Wes Be...         Sam Mendes  \n",
              "...                                                 ...                ...  \n",
              "4755  Lisa Hart Carroll Michael Des Barres Paul Drak...         Pece Dingo  \n",
              "4756  Roni Akurati Brighton Sharbino Jason Lee Anjul...       Frank Lotito  \n",
              "4757  Nicole Smolen Kim Baldwin Ariana Stephens Brys...       Jaco Booyens  \n",
              "4758                                                                        \n",
              "4759                                    Tony Oppedisano  Simon Napier-Bell  \n",
              "\n",
              "[4760 rows x 5 columns]"
            ],
            "text/html": [
              "\n",
              "  <div id=\"df-55a20fd9-b415-4564-a30c-e1230026b2d2\" class=\"colab-df-container\">\n",
              "    <div>\n",
              "<style scoped>\n",
              "    .dataframe tbody tr th:only-of-type {\n",
              "        vertical-align: middle;\n",
              "    }\n",
              "\n",
              "    .dataframe tbody tr th {\n",
              "        vertical-align: top;\n",
              "    }\n",
              "\n",
              "    .dataframe thead th {\n",
              "        text-align: right;\n",
              "    }\n",
              "</style>\n",
              "<table border=\"1\" class=\"dataframe\">\n",
              "  <thead>\n",
              "    <tr style=\"text-align: right;\">\n",
              "      <th></th>\n",
              "      <th>Movie_Genre</th>\n",
              "      <th>Movie_Keywords</th>\n",
              "      <th>Movie_Tagline</th>\n",
              "      <th>Movie_Cast</th>\n",
              "      <th>Movie_Director</th>\n",
              "    </tr>\n",
              "  </thead>\n",
              "  <tbody>\n",
              "    <tr>\n",
              "      <th>0</th>\n",
              "      <td>Crime Comedy</td>\n",
              "      <td>hotel new year's eve witch bet hotel room</td>\n",
              "      <td>Twelve outrageous guests. Four scandalous requ...</td>\n",
              "      <td>Tim Roth Antonio Banderas Jennifer Beals Madon...</td>\n",
              "      <td>Allison Anders</td>\n",
              "    </tr>\n",
              "    <tr>\n",
              "      <th>1</th>\n",
              "      <td>Adventure Action Science Fiction</td>\n",
              "      <td>android galaxy hermit death star lightsaber</td>\n",
              "      <td>A long time ago in a galaxy far, far away...</td>\n",
              "      <td>Mark Hamill Harrison Ford Carrie Fisher Peter ...</td>\n",
              "      <td>George Lucas</td>\n",
              "    </tr>\n",
              "    <tr>\n",
              "      <th>2</th>\n",
              "      <td>Animation Family</td>\n",
              "      <td>father son relationship harbor underwater fish...</td>\n",
              "      <td>There are 3.7 trillion fish in the ocean, they...</td>\n",
              "      <td>Albert Brooks Ellen DeGeneres Alexander Gould ...</td>\n",
              "      <td>Andrew Stanton</td>\n",
              "    </tr>\n",
              "    <tr>\n",
              "      <th>3</th>\n",
              "      <td>Comedy Drama Romance</td>\n",
              "      <td>vietnam veteran hippie mentally disabled runni...</td>\n",
              "      <td>The world will never be the same, once you've ...</td>\n",
              "      <td>Tom Hanks Robin Wright Gary Sinise Mykelti Wil...</td>\n",
              "      <td>Robert Zemeckis</td>\n",
              "    </tr>\n",
              "    <tr>\n",
              "      <th>4</th>\n",
              "      <td>Drama</td>\n",
              "      <td>male nudity female nudity adultery midlife cri...</td>\n",
              "      <td>Look closer.</td>\n",
              "      <td>Kevin Spacey Annette Bening Thora Birch Wes Be...</td>\n",
              "      <td>Sam Mendes</td>\n",
              "    </tr>\n",
              "    <tr>\n",
              "      <th>...</th>\n",
              "      <td>...</td>\n",
              "      <td>...</td>\n",
              "      <td>...</td>\n",
              "      <td>...</td>\n",
              "      <td>...</td>\n",
              "    </tr>\n",
              "    <tr>\n",
              "      <th>4755</th>\n",
              "      <td>Horror</td>\n",
              "      <td></td>\n",
              "      <td>The hot spot where Satan's waitin'.</td>\n",
              "      <td>Lisa Hart Carroll Michael Des Barres Paul Drak...</td>\n",
              "      <td>Pece Dingo</td>\n",
              "    </tr>\n",
              "    <tr>\n",
              "      <th>4756</th>\n",
              "      <td>Comedy Family Drama</td>\n",
              "      <td></td>\n",
              "      <td>It’s better to stand out than to fit in.</td>\n",
              "      <td>Roni Akurati Brighton Sharbino Jason Lee Anjul...</td>\n",
              "      <td>Frank Lotito</td>\n",
              "    </tr>\n",
              "    <tr>\n",
              "      <th>4757</th>\n",
              "      <td>Thriller Drama</td>\n",
              "      <td>christian film sex trafficking</td>\n",
              "      <td>She never knew it could happen to her...</td>\n",
              "      <td>Nicole Smolen Kim Baldwin Ariana Stephens Brys...</td>\n",
              "      <td>Jaco Booyens</td>\n",
              "    </tr>\n",
              "    <tr>\n",
              "      <th>4758</th>\n",
              "      <td>Family</td>\n",
              "      <td></td>\n",
              "      <td></td>\n",
              "      <td></td>\n",
              "      <td></td>\n",
              "    </tr>\n",
              "    <tr>\n",
              "      <th>4759</th>\n",
              "      <td>Documentary</td>\n",
              "      <td>music actors legendary perfomer classic hollyw...</td>\n",
              "      <td></td>\n",
              "      <td>Tony Oppedisano</td>\n",
              "      <td>Simon Napier-Bell</td>\n",
              "    </tr>\n",
              "  </tbody>\n",
              "</table>\n",
              "<p>4760 rows × 5 columns</p>\n",
              "</div>\n",
              "    <div class=\"colab-df-buttons\">\n",
              "\n",
              "  <div class=\"colab-df-container\">\n",
              "    <button class=\"colab-df-convert\" onclick=\"convertToInteractive('df-55a20fd9-b415-4564-a30c-e1230026b2d2')\"\n",
              "            title=\"Convert this dataframe to an interactive table.\"\n",
              "            style=\"display:none;\">\n",
              "\n",
              "  <svg xmlns=\"http://www.w3.org/2000/svg\" height=\"24px\" viewBox=\"0 -960 960 960\">\n",
              "    <path d=\"M120-120v-720h720v720H120Zm60-500h600v-160H180v160Zm220 220h160v-160H400v160Zm0 220h160v-160H400v160ZM180-400h160v-160H180v160Zm440 0h160v-160H620v160ZM180-180h160v-160H180v160Zm440 0h160v-160H620v160Z\"/>\n",
              "  </svg>\n",
              "    </button>\n",
              "\n",
              "  <style>\n",
              "    .colab-df-container {\n",
              "      display:flex;\n",
              "      gap: 12px;\n",
              "    }\n",
              "\n",
              "    .colab-df-convert {\n",
              "      background-color: #E8F0FE;\n",
              "      border: none;\n",
              "      border-radius: 50%;\n",
              "      cursor: pointer;\n",
              "      display: none;\n",
              "      fill: #1967D2;\n",
              "      height: 32px;\n",
              "      padding: 0 0 0 0;\n",
              "      width: 32px;\n",
              "    }\n",
              "\n",
              "    .colab-df-convert:hover {\n",
              "      background-color: #E2EBFA;\n",
              "      box-shadow: 0px 1px 2px rgba(60, 64, 67, 0.3), 0px 1px 3px 1px rgba(60, 64, 67, 0.15);\n",
              "      fill: #174EA6;\n",
              "    }\n",
              "\n",
              "    .colab-df-buttons div {\n",
              "      margin-bottom: 4px;\n",
              "    }\n",
              "\n",
              "    [theme=dark] .colab-df-convert {\n",
              "      background-color: #3B4455;\n",
              "      fill: #D2E3FC;\n",
              "    }\n",
              "\n",
              "    [theme=dark] .colab-df-convert:hover {\n",
              "      background-color: #434B5C;\n",
              "      box-shadow: 0px 1px 3px 1px rgba(0, 0, 0, 0.15);\n",
              "      filter: drop-shadow(0px 1px 2px rgba(0, 0, 0, 0.3));\n",
              "      fill: #FFFFFF;\n",
              "    }\n",
              "  </style>\n",
              "\n",
              "    <script>\n",
              "      const buttonEl =\n",
              "        document.querySelector('#df-55a20fd9-b415-4564-a30c-e1230026b2d2 button.colab-df-convert');\n",
              "      buttonEl.style.display =\n",
              "        google.colab.kernel.accessAllowed ? 'block' : 'none';\n",
              "\n",
              "      async function convertToInteractive(key) {\n",
              "        const element = document.querySelector('#df-55a20fd9-b415-4564-a30c-e1230026b2d2');\n",
              "        const dataTable =\n",
              "          await google.colab.kernel.invokeFunction('convertToInteractive',\n",
              "                                                    [key], {});\n",
              "        if (!dataTable) return;\n",
              "\n",
              "        const docLinkHtml = 'Like what you see? Visit the ' +\n",
              "          '<a target=\"_blank\" href=https://colab.research.google.com/notebooks/data_table.ipynb>data table notebook</a>'\n",
              "          + ' to learn more about interactive tables.';\n",
              "        element.innerHTML = '';\n",
              "        dataTable['output_type'] = 'display_data';\n",
              "        await google.colab.output.renderOutput(dataTable, element);\n",
              "        const docLink = document.createElement('div');\n",
              "        docLink.innerHTML = docLinkHtml;\n",
              "        element.appendChild(docLink);\n",
              "      }\n",
              "    </script>\n",
              "  </div>\n",
              "\n",
              "\n",
              "<div id=\"df-b02df4f1-324f-43c3-9309-382755f1d969\">\n",
              "  <button class=\"colab-df-quickchart\" onclick=\"quickchart('df-b02df4f1-324f-43c3-9309-382755f1d969')\"\n",
              "            title=\"Suggest charts.\"\n",
              "            style=\"display:none;\">\n",
              "\n",
              "<svg xmlns=\"http://www.w3.org/2000/svg\" height=\"24px\"viewBox=\"0 0 24 24\"\n",
              "     width=\"24px\">\n",
              "    <g>\n",
              "        <path d=\"M19 3H5c-1.1 0-2 .9-2 2v14c0 1.1.9 2 2 2h14c1.1 0 2-.9 2-2V5c0-1.1-.9-2-2-2zM9 17H7v-7h2v7zm4 0h-2V7h2v10zm4 0h-2v-4h2v4z\"/>\n",
              "    </g>\n",
              "</svg>\n",
              "  </button>\n",
              "\n",
              "<style>\n",
              "  .colab-df-quickchart {\n",
              "    background-color: #E8F0FE;\n",
              "    border: none;\n",
              "    border-radius: 50%;\n",
              "    cursor: pointer;\n",
              "    display: none;\n",
              "    fill: #1967D2;\n",
              "    height: 32px;\n",
              "    padding: 0 0 0 0;\n",
              "    width: 32px;\n",
              "  }\n",
              "\n",
              "  .colab-df-quickchart:hover {\n",
              "    background-color: #E2EBFA;\n",
              "    box-shadow: 0px 1px 2px rgba(60, 64, 67, 0.3), 0px 1px 3px 1px rgba(60, 64, 67, 0.15);\n",
              "    fill: #174EA6;\n",
              "  }\n",
              "\n",
              "  [theme=dark] .colab-df-quickchart {\n",
              "    background-color: #3B4455;\n",
              "    fill: #D2E3FC;\n",
              "  }\n",
              "\n",
              "  [theme=dark] .colab-df-quickchart:hover {\n",
              "    background-color: #434B5C;\n",
              "    box-shadow: 0px 1px 3px 1px rgba(0, 0, 0, 0.15);\n",
              "    filter: drop-shadow(0px 1px 2px rgba(0, 0, 0, 0.3));\n",
              "    fill: #FFFFFF;\n",
              "  }\n",
              "</style>\n",
              "\n",
              "  <script>\n",
              "    async function quickchart(key) {\n",
              "      const charts = await google.colab.kernel.invokeFunction(\n",
              "          'suggestCharts', [key], {});\n",
              "    }\n",
              "    (() => {\n",
              "      let quickchartButtonEl =\n",
              "        document.querySelector('#df-b02df4f1-324f-43c3-9309-382755f1d969 button');\n",
              "      quickchartButtonEl.style.display =\n",
              "        google.colab.kernel.accessAllowed ? 'block' : 'none';\n",
              "    })();\n",
              "  </script>\n",
              "</div>\n",
              "    </div>\n",
              "  </div>\n"
            ]
          },
          "metadata": {},
          "execution_count": 11
        }
      ],
      "source": [
        "df_features"
      ]
    },
    {
      "cell_type": "code",
      "execution_count": 12,
      "metadata": {
        "id": "QBCakTuli57t"
      },
      "outputs": [],
      "source": [
        "x = df_features['Movie_Genre']+' '+df_features['Movie_Keywords']+' '+df_features['Movie_Tagline']+' '+df_features['Movie_Cast']+' '+df_features['Movie_Director']"
      ]
    },
    {
      "cell_type": "code",
      "execution_count": 13,
      "metadata": {
        "colab": {
          "base_uri": "https://localhost:8080/"
        },
        "id": "Cv16-s14G1BR",
        "outputId": "9adae1c9-03f6-456e-b29f-ddf66afb4dc5"
      },
      "outputs": [
        {
          "output_type": "execute_result",
          "data": {
            "text/plain": [
              "0       Crime Comedy hotel new year's eve witch bet ho...\n",
              "1       Adventure Action Science Fiction android galax...\n",
              "2       Animation Family father son relationship harbo...\n",
              "3       Comedy Drama Romance vietnam veteran hippie me...\n",
              "4       Drama male nudity female nudity adultery midli...\n",
              "                              ...                        \n",
              "4755    Horror  The hot spot where Satan's waitin'. Li...\n",
              "4756    Comedy Family Drama  It’s better to stand out ...\n",
              "4757    Thriller Drama christian film sex trafficking ...\n",
              "4758                                           Family    \n",
              "4759    Documentary music actors legendary perfomer cl...\n",
              "Length: 4760, dtype: object"
            ]
          },
          "metadata": {},
          "execution_count": 13
        }
      ],
      "source": [
        "x"
      ]
    },
    {
      "cell_type": "code",
      "execution_count": 14,
      "metadata": {
        "colab": {
          "base_uri": "https://localhost:8080/"
        },
        "id": "WJ776r-KG1BS",
        "outputId": "b910c16b-3d92-4b11-b6ab-c1bfc2e5524e"
      },
      "outputs": [
        {
          "output_type": "execute_result",
          "data": {
            "text/plain": [
              "(4760,)"
            ]
          },
          "metadata": {},
          "execution_count": 14
        }
      ],
      "source": [
        "x.shape"
      ]
    },
    {
      "cell_type": "code",
      "execution_count": 15,
      "metadata": {
        "id": "u60YYaOFi-Dw"
      },
      "outputs": [],
      "source": [
        "from sklearn.feature_extraction.text import TfidfVectorizer"
      ]
    },
    {
      "cell_type": "code",
      "execution_count": 16,
      "metadata": {
        "id": "m0CZYCi6G1BT"
      },
      "outputs": [],
      "source": [
        "tfidf=TfidfVectorizer()"
      ]
    },
    {
      "cell_type": "code",
      "execution_count": 17,
      "metadata": {
        "id": "sWI9igBxG1BT"
      },
      "outputs": [],
      "source": [
        "x=tfidf.fit_transform(x)"
      ]
    },
    {
      "cell_type": "code",
      "execution_count": 18,
      "metadata": {
        "colab": {
          "base_uri": "https://localhost:8080/"
        },
        "id": "j4xxyfBPG1BT",
        "outputId": "beab8d10-f601-4cec-88bb-cb0f6a5edfd3"
      },
      "outputs": [
        {
          "output_type": "execute_result",
          "data": {
            "text/plain": [
              "(4760, 17258)"
            ]
          },
          "metadata": {},
          "execution_count": 18
        }
      ],
      "source": [
        "x.shape"
      ]
    },
    {
      "cell_type": "code",
      "execution_count": 19,
      "metadata": {
        "colab": {
          "base_uri": "https://localhost:8080/"
        },
        "id": "SOAewfj9G1BU",
        "outputId": "e13615ff-3cae-4845-f13e-719c3e355479"
      },
      "outputs": [
        {
          "output_type": "stream",
          "name": "stdout",
          "text": [
            "  (0, 617)\t0.1633382144407513\n",
            "  (0, 492)\t0.1432591540388685\n",
            "  (0, 15413)\t0.1465525095337543\n",
            "  (0, 9675)\t0.14226057295252661\n",
            "  (0, 9465)\t0.1659841367820977\n",
            "  (0, 1390)\t0.16898383612799558\n",
            "  (0, 7825)\t0.09799561597509843\n",
            "  (0, 1214)\t0.13865857545144072\n",
            "  (0, 729)\t0.13415063359531618\n",
            "  (0, 13093)\t0.1432591540388685\n",
            "  (0, 15355)\t0.10477815972666779\n",
            "  (0, 9048)\t0.0866842116160778\n",
            "  (0, 11161)\t0.06250380151644369\n",
            "  (0, 16773)\t0.17654247479915475\n",
            "  (0, 5612)\t0.08603537588547631\n",
            "  (0, 16735)\t0.10690083751525419\n",
            "  (0, 7904)\t0.13348000542112332\n",
            "  (0, 15219)\t0.09800472886453934\n",
            "  (0, 11242)\t0.07277788238484746\n",
            "  (0, 3878)\t0.11998399582562203\n",
            "  (0, 5499)\t0.11454057510303811\n",
            "  (0, 7071)\t0.19822417598406614\n",
            "  (0, 7454)\t0.14745635785412262\n",
            "  (0, 1495)\t0.19712637387361423\n",
            "  (0, 9206)\t0.15186283580984414\n",
            "  :\t:\n",
            "  (4757, 5455)\t0.12491480594769522\n",
            "  (4757, 2967)\t0.16273475835631626\n",
            "  (4757, 8464)\t0.23522565554066333\n",
            "  (4757, 6938)\t0.17088173678136628\n",
            "  (4757, 8379)\t0.17480603856721913\n",
            "  (4757, 15303)\t0.07654356007668191\n",
            "  (4757, 15384)\t0.09754322497537371\n",
            "  (4757, 7649)\t0.11479421494340192\n",
            "  (4757, 10896)\t0.14546473055066447\n",
            "  (4757, 4494)\t0.05675298448720501\n",
            "  (4758, 5238)\t1.0\n",
            "  (4759, 11264)\t0.33947721804318337\n",
            "  (4759, 11708)\t0.33947721804318337\n",
            "  (4759, 205)\t0.3237911628497312\n",
            "  (4759, 8902)\t0.3040290704566037\n",
            "  (4759, 14062)\t0.3237911628497312\n",
            "  (4759, 3058)\t0.2812896191863103\n",
            "  (4759, 7130)\t0.26419662449963793\n",
            "  (4759, 10761)\t0.3126617295732147\n",
            "  (4759, 4358)\t0.18306542312175342\n",
            "  (4759, 14051)\t0.20084315377640435\n",
            "  (4759, 5690)\t0.19534291014627303\n",
            "  (4759, 15431)\t0.19628653185946862\n",
            "  (4759, 1490)\t0.21197258705292082\n",
            "  (4759, 10666)\t0.15888268987343043\n"
          ]
        }
      ],
      "source": [
        "print(x)"
      ]
    },
    {
      "cell_type": "code",
      "execution_count": 20,
      "metadata": {
        "id": "XQqmrHimG1BU"
      },
      "outputs": [],
      "source": [
        "from sklearn.metrics.pairwise import cosine_similarity"
      ]
    },
    {
      "cell_type": "code",
      "execution_count": 21,
      "metadata": {
        "id": "e7aT0zV-G1BV"
      },
      "outputs": [],
      "source": [
        "similarity_score= cosine_similarity(x)"
      ]
    },
    {
      "cell_type": "code",
      "execution_count": 22,
      "metadata": {
        "colab": {
          "base_uri": "https://localhost:8080/"
        },
        "id": "hu5KMS4NG1BV",
        "outputId": "9587cc71-bd88-4702-fbd2-387495b20d62"
      },
      "outputs": [
        {
          "output_type": "execute_result",
          "data": {
            "text/plain": [
              "array([[1.        , 0.01351235, 0.03570468, ..., 0.        , 0.        ,\n",
              "        0.        ],\n",
              "       [0.01351235, 1.        , 0.00806674, ..., 0.        , 0.        ,\n",
              "        0.        ],\n",
              "       [0.03570468, 0.00806674, 1.        , ..., 0.        , 0.08014876,\n",
              "        0.        ],\n",
              "       ...,\n",
              "       [0.        , 0.        , 0.        , ..., 1.        , 0.        ,\n",
              "        0.        ],\n",
              "       [0.        , 0.        , 0.08014876, ..., 0.        , 1.        ,\n",
              "        0.        ],\n",
              "       [0.        , 0.        , 0.        , ..., 0.        , 0.        ,\n",
              "        1.        ]])"
            ]
          },
          "metadata": {},
          "execution_count": 22
        }
      ],
      "source": [
        "similarity_score"
      ]
    },
    {
      "cell_type": "code",
      "execution_count": 23,
      "metadata": {
        "colab": {
          "base_uri": "https://localhost:8080/"
        },
        "id": "_xvSBZaeG1BW",
        "outputId": "f430f1d2-8642-47c9-b42f-b45183c0d67b"
      },
      "outputs": [
        {
          "output_type": "execute_result",
          "data": {
            "text/plain": [
              "(4760, 4760)"
            ]
          },
          "metadata": {},
          "execution_count": 23
        }
      ],
      "source": [
        "similarity_score.shape"
      ]
    },
    {
      "cell_type": "code",
      "execution_count": 35,
      "metadata": {
        "colab": {
          "base_uri": "https://localhost:8080/"
        },
        "id": "5s7NQaSUG1BW",
        "outputId": "069775f4-e000-4f29-c3da-ca8bca49d052"
      },
      "outputs": [
        {
          "name": "stdout",
          "output_type": "stream",
          "text": [
            "Enter your favourite movie name:monsters\n"
          ]
        }
      ],
      "source": [
        "favourite_movie_name=input('Enter your favourite movie name:')"
      ]
    },
    {
      "cell_type": "code",
      "execution_count": 36,
      "metadata": {
        "id": "5bXtH0DHG1BW"
      },
      "outputs": [],
      "source": [
        "all_movies_title_list=df['Movie_Title'].tolist()"
      ]
    },
    {
      "cell_type": "code",
      "execution_count": 37,
      "metadata": {
        "id": "Toq58wpkjCw7"
      },
      "outputs": [],
      "source": [
        "import difflib"
      ]
    },
    {
      "cell_type": "code",
      "execution_count": 38,
      "metadata": {
        "colab": {
          "base_uri": "https://localhost:8080/"
        },
        "id": "KUYPtYYTG1BX",
        "outputId": "3b49114d-0ad3-4b89-c9d3-0aefb46bbe8f"
      },
      "outputs": [
        {
          "output_type": "stream",
          "name": "stdout",
          "text": [
            "['Monsters', 'Monster', 'Monster House']\n"
          ]
        }
      ],
      "source": [
        "Movie_Recommendation=difflib.get_close_matches(favourite_movie_name,all_movies_title_list)\n",
        "print(Movie_Recommendation)"
      ]
    },
    {
      "cell_type": "code",
      "execution_count": 39,
      "metadata": {
        "colab": {
          "base_uri": "https://localhost:8080/"
        },
        "id": "_7SA0C1PG1BY",
        "outputId": "785b4edc-4286-498f-dbd3-d0cf48902355"
      },
      "outputs": [
        {
          "output_type": "stream",
          "name": "stdout",
          "text": [
            "Monsters\n"
          ]
        }
      ],
      "source": [
        "Close_Match=Movie_Recommendation[0]\n",
        "print(Close_Match)"
      ]
    },
    {
      "cell_type": "code",
      "execution_count": 40,
      "metadata": {
        "colab": {
          "base_uri": "https://localhost:8080/"
        },
        "id": "ejqCFFNmG1BY",
        "outputId": "c4f1cbf3-f4c2-4487-b110-619e70585b8b"
      },
      "outputs": [
        {
          "output_type": "stream",
          "name": "stdout",
          "text": [
            "3333\n"
          ]
        }
      ],
      "source": [
        "Index_of_Close_Match_Movie=df[df.Movie_Title ==Close_Match]['Movie_ID'].values[0]\n",
        "print(Index_of_Close_Match_Movie)"
      ]
    },
    {
      "cell_type": "code",
      "execution_count": 41,
      "metadata": {
        "colab": {
          "base_uri": "https://localhost:8080/"
        },
        "id": "G4FnLSzGG1Ba",
        "outputId": "4e3d3298-5712-44b4-9466-56e4e52a8468"
      },
      "outputs": [
        {
          "output_type": "stream",
          "name": "stdout",
          "text": [
            "[(0, 0.0), (1, 0.0), (2, 0.0), (3, 0.016016317609826275), (4, 0.06424377253883033), (5, 0.01827302799378026), (6, 0.0), (7, 0.0), (8, 0.0), (9, 0.0), (10, 0.0), (11, 0.0), (12, 0.0), (13, 0.0), (14, 0.0), (15, 0.016804424212821554), (16, 0.0), (17, 0.0), (18, 0.048025626291474624), (19, 0.0), (20, 0.0), (21, 0.026751225016988393), (22, 0.0), (23, 0.0), (24, 0.0), (25, 0.0), (26, 0.0), (27, 0.0), (28, 0.0), (29, 0.0), (30, 0.0), (31, 0.0), (32, 0.0), (33, 0.01610079031762199), (34, 0.018957938583597164), (35, 0.0), (36, 0.0), (37, 0.0), (38, 0.0), (39, 0.0), (40, 0.0), (41, 0.0), (42, 0.0), (43, 0.0), (44, 0.015165859199726432), (45, 0.0), (46, 0.0), (47, 0.0), (48, 0.02756334217786341), (49, 0.04230055140905712), (50, 0.0), (51, 0.0), (52, 0.017419828980353505), (53, 0.0), (54, 0.0), (55, 0.0), (56, 0.0), (57, 0.0), (58, 0.0), (59, 0.022433746697256486), (60, 0.0), (61, 0.017987107305048853), (62, 0.0), (63, 0.0), (64, 0.0), (65, 0.0), (66, 0.0), (67, 0.0), (68, 0.0), (69, 0.0), (70, 0.01992693472181025), (71, 0.0), (72, 0.0), (73, 0.0), (74, 0.019376379047984425), (75, 0.0), (76, 0.0), (77, 0.0), (78, 0.0), (79, 0.0), (80, 0.0), (81, 0.0), (82, 0.0), (83, 0.0), (84, 0.017838430075387483), (85, 0.024065214228584), (86, 0.0), (87, 0.0), (88, 0.015026739051487699), (89, 0.0), (90, 0.0), (91, 0.019276589201613376), (92, 0.0), (93, 0.0), (94, 0.0), (95, 0.0), (96, 0.03372393553336462), (97, 0.0), (98, 0.0), (99, 0.0332848355215481), (100, 0.0), (101, 0.0), (102, 0.0), (103, 0.0), (104, 0.0), (105, 0.0), (106, 0.0), (107, 0.0), (108, 0.015491669482271441), (109, 0.01816362054584484), (110, 0.0), (111, 0.0), (112, 0.0), (113, 0.0), (114, 0.0), (115, 0.018629137402247167), (116, 0.023609734672691934), (117, 0.0), (118, 0.0), (119, 0.0), (120, 0.0), (121, 0.0), (122, 0.016782818369800938), (123, 0.0), (124, 0.0), (125, 0.0), (126, 0.057981466142926624), (127, 0.017739514362839662), (128, 0.0), (129, 0.0), (130, 0.0), (131, 0.0), (132, 0.02217801194396119), (133, 0.018782324123176385), (134, 0.019441603130480205), (135, 0.0), (136, 0.0), (137, 0.0), (138, 0.03900255591554458), (139, 0.0), (140, 0.0), (141, 0.0), (142, 0.02069680729687623), (143, 0.0), (144, 0.033837096481622475), (145, 0.0), (146, 0.033746018331701426), (147, 0.0), (148, 0.0), (149, 0.015044850954870613), (150, 0.0), (151, 0.0), (152, 0.0), (153, 0.0), (154, 0.0293658197248436), (155, 0.0), (156, 0.0), (157, 0.019302649767744526), (158, 0.0), (159, 0.0), (160, 0.016699283112999952), (161, 0.0), (162, 0.027475466574942962), (163, 0.0), (164, 0.0), (165, 0.0), (166, 0.03532000165271493), (167, 0.0), (168, 0.0), (169, 0.0), (170, 0.0), (171, 0.0), (172, 0.0), (173, 0.0), (174, 0.0), (175, 0.0), (176, 0.0), (177, 0.0), (178, 0.0), (179, 0.0), (180, 0.0346022951007355), (181, 0.0), (182, 0.01836409703012048), (183, 0.0), (184, 0.0), (185, 0.0), (186, 0.0), (187, 0.0), (188, 0.0), (189, 0.018866339182053885), (190, 0.0), (191, 0.0), (192, 0.03940983485084897), (193, 0.0), (194, 0.0), (195, 0.015313506647963483), (196, 0.0), (197, 0.0), (198, 0.036970301842826146), (199, 0.0), (200, 0.0), (201, 0.02609946076909507), (202, 0.0), (203, 0.0), (204, 0.019033684295900608), (205, 0.02146115686597498), (206, 0.0), (207, 0.0), (208, 0.0), (209, 0.06152541385191814), (210, 0.0), (211, 0.06364302895758042), (212, 0.0), (213, 0.016956659569933637), (214, 0.0), (215, 0.0), (216, 0.0), (217, 0.0), (218, 0.0), (219, 0.0), (220, 0.0), (221, 0.0), (222, 0.0), (223, 0.019598693061603806), (224, 0.0), (225, 0.0), (226, 0.0), (227, 0.0), (228, 0.0), (229, 0.0), (230, 0.0), (231, 0.0), (232, 0.0), (233, 0.0), (234, 0.0), (235, 0.0), (236, 0.0), (237, 0.014780536936119408), (238, 0.0), (239, 0.0), (240, 0.054353522448757075), (241, 0.0), (242, 0.0), (243, 0.01761168009339901), (244, 0.01782289535533195), (245, 0.0), (246, 0.0), (247, 0.0), (248, 0.016854439263518015), (249, 0.0), (250, 0.0), (251, 0.0), (252, 0.0), (253, 0.0), (254, 0.0), (255, 0.0), (256, 0.0695857068603318), (257, 0.0), (258, 0.0), (259, 0.0), (260, 0.0), (261, 0.0), (262, 0.0), (263, 0.0), (264, 0.0), (265, 0.0), (266, 0.0), (267, 0.0), (268, 0.0), (269, 0.0), (270, 0.019053948929484216), (271, 0.0), (272, 0.0), (273, 0.0), (274, 0.0), (275, 0.0), (276, 0.0), (277, 0.0), (278, 0.0), (279, 0.0), (280, 0.0), (281, 0.0), (282, 0.021450953269323406), (283, 0.01593437694495671), (284, 0.0), (285, 0.0), (286, 0.0), (287, 0.0), (288, 0.0), (289, 0.0), (290, 0.0), (291, 0.036453920644018895), (292, 0.0), (293, 0.03102976637471209), (294, 0.0145062257020097), (295, 0.0), (296, 0.0), (297, 0.0), (298, 0.0), (299, 0.0), (300, 0.0), (301, 0.0), (302, 0.0), (303, 0.0), (304, 0.033593554750430195), (305, 0.0), (306, 0.0), (307, 0.0), (308, 0.0), (309, 0.0), (310, 0.0), (311, 0.0), (312, 0.0), (313, 0.0), (314, 0.0), (315, 0.0), (316, 0.0), (317, 0.0), (318, 0.0), (319, 0.0), (320, 0.0), (321, 0.0), (322, 0.024633091319461366), (323, 0.0), (324, 0.0), (325, 0.0), (326, 0.0), (327, 0.0), (328, 0.0), (329, 0.0), (330, 0.0), (331, 0.0), (332, 0.0), (333, 0.0), (334, 0.019592896749058526), (335, 0.01684298504565119), (336, 0.0), (337, 0.0), (338, 0.0), (339, 0.0), (340, 0.0), (341, 0.0), (342, 0.0), (343, 0.0), (344, 0.0), (345, 0.0), (346, 0.0), (347, 0.03572675146504126), (348, 0.0), (349, 0.0), (350, 0.0), (351, 0.0), (352, 0.0), (353, 0.0), (354, 0.0), (355, 0.0328322926891793), (356, 0.0), (357, 0.0), (358, 0.0), (359, 0.0), (360, 0.0), (361, 0.0), (362, 0.0), (363, 0.0), (364, 0.0), (365, 0.0), (366, 0.0), (367, 0.0), (368, 0.0), (369, 0.0), (370, 0.0), (371, 0.0), (372, 0.0), (373, 0.0), (374, 0.0), (375, 0.018005280417593462), (376, 0.0), (377, 0.018771616460864216), (378, 0.0), (379, 0.0), (380, 0.0), (381, 0.0), (382, 0.0), (383, 0.0), (384, 0.0), (385, 0.0), (386, 0.0), (387, 0.0), (388, 0.050811853277398636), (389, 0.0), (390, 0.0), (391, 0.0), (392, 0.0), (393, 0.0), (394, 0.018608241538846233), (395, 0.019546945514456), (396, 0.019476417716867853), (397, 0.033315783649671527), (398, 0.0), (399, 0.0), (400, 0.0), (401, 0.0), (402, 0.0), (403, 0.0), (404, 0.0), (405, 0.0), (406, 0.0), (407, 0.0), (408, 0.017225045814922724), (409, 0.0), (410, 0.0), (411, 0.0), (412, 0.04465290669271998), (413, 0.0), (414, 0.0), (415, 0.0), (416, 0.0), (417, 0.0), (418, 0.03854203703672775), (419, 0.0), (420, 0.0654728635842827), (421, 0.0), (422, 0.06806961608039822), (423, 0.0), (424, 0.0), (425, 0.0), (426, 0.0), (427, 0.017475175295814615), (428, 0.0), (429, 0.021240928705128094), (430, 0.0), (431, 0.0), (432, 0.0), (433, 0.0), (434, 0.0), (435, 0.0), (436, 0.0), (437, 0.0), (438, 0.014894028043237348), (439, 0.0), (440, 0.0), (441, 0.0), (442, 0.0), (443, 0.0210725237020538), (444, 0.0), (445, 0.015596577654620348), (446, 0.0), (447, 0.01891788992104314), (448, 0.0), (449, 0.0), (450, 0.0), (451, 0.0), (452, 0.0), (453, 0.0), (454, 0.0), (455, 0.0), (456, 0.0), (457, 0.01998454142797661), (458, 0.0), (459, 0.0), (460, 0.0), (461, 0.0), (462, 0.024582089731294568), (463, 0.0), (464, 0.0), (465, 0.0), (466, 0.0), (467, 0.0), (468, 0.0), (469, 0.0), (470, 0.019215098580605106), (471, 0.0), (472, 0.0), (473, 0.0), (474, 0.0), (475, 0.0), (476, 0.0), (477, 0.0), (478, 0.0), (479, 0.0), (480, 0.0), (481, 0.019813103112809788), (482, 0.0), (483, 0.04288829748626066), (484, 0.03334802565845984), (485, 0.0), (486, 0.018276486499616988), (487, 0.018218572689536153), (488, 0.0), (489, 0.0), (490, 0.0), (491, 0.0), (492, 0.0), (493, 0.0), (494, 0.0), (495, 0.0), (496, 0.0), (497, 0.0), (498, 0.0), (499, 0.0), (500, 0.035528858305333845), (501, 0.0), (502, 0.0), (503, 0.0), (504, 0.0), (505, 0.0), (506, 0.0), (507, 0.0), (508, 0.0), (509, 0.0), (510, 0.0), (511, 0.0), (512, 0.0), (513, 0.0), (514, 0.0), (515, 0.016422214282542532), (516, 0.036557135671149286), (517, 0.018933074185536136), (518, 0.0), (519, 0.0), (520, 0.0), (521, 0.0), (522, 0.0), (523, 0.0), (524, 0.03342696838266171), (525, 0.0), (526, 0.0), (527, 0.0), (528, 0.0), (529, 0.0), (530, 0.0), (531, 0.0), (532, 0.0), (533, 0.0), (534, 0.0), (535, 0.0), (536, 0.0), (537, 0.0), (538, 0.017961374423409737), (539, 0.0), (540, 0.0), (541, 0.07048875569823183), (542, 0.024968703480418034), (543, 0.018975143468464857), (544, 0.0), (545, 0.0), (546, 0.0), (547, 0.0), (548, 0.0), (549, 0.01765762627161622), (550, 0.0), (551, 0.0), (552, 0.0), (553, 0.0), (554, 0.0), (555, 0.0), (556, 0.0), (557, 0.0), (558, 0.0), (559, 0.0), (560, 0.0), (561, 0.0), (562, 0.0), (563, 0.02255700907366419), (564, 0.0), (565, 0.01701650489731569), (566, 0.0), (567, 0.0), (568, 0.0), (569, 0.0), (570, 0.0), (571, 0.0), (572, 0.0), (573, 0.017647244294386116), (574, 0.022129724813720213), (575, 0.031249740025163227), (576, 0.0), (577, 0.0), (578, 0.0), (579, 0.0), (580, 0.021178762600884506), (581, 0.0), (582, 0.0), (583, 0.0), (584, 0.0), (585, 0.0), (586, 0.0), (587, 0.023946823398691672), (588, 0.0), (589, 0.0), (590, 0.0), (591, 0.0), (592, 0.0), (593, 0.0), (594, 0.0), (595, 0.0), (596, 0.0), (597, 0.0), (598, 0.0), (599, 0.0), (600, 0.0), (601, 0.0), (602, 0.0), (603, 0.0), (604, 0.0), (605, 0.016031067771093987), (606, 0.018813181418047997), (607, 0.0), (608, 0.0), (609, 0.0321369125530693), (610, 0.0), (611, 0.0), (612, 0.0), (613, 0.017957837776423333), (614, 0.0), (615, 0.036329888272028904), (616, 0.0), (617, 0.0), (618, 0.0), (619, 0.0), (620, 0.0), (621, 0.017148101414760527), (622, 0.0), (623, 0.0), (624, 0.0), (625, 0.0), (626, 0.0), (627, 0.0), (628, 0.0), (629, 0.0), (630, 0.0), (631, 0.0), (632, 0.0), (633, 0.019855365203777408), (634, 0.0), (635, 0.0), (636, 0.0), (637, 0.0), (638, 0.03358316900229994), (639, 0.0), (640, 0.0), (641, 0.0), (642, 0.027022727051653542), (643, 0.0), (644, 0.0), (645, 0.016622954741969922), (646, 0.0), (647, 0.03384275155088309), (648, 0.0), (649, 0.0), (650, 0.0), (651, 0.030204005665503263), (652, 0.0), (653, 0.0), (654, 0.0), (655, 0.034026499381567286), (656, 0.0), (657, 0.0), (658, 0.0), (659, 0.01697067753748148), (660, 0.021260093518979718), (661, 0.0), (662, 0.0), (663, 0.0), (664, 0.0), (665, 0.0), (666, 0.028149493820387603), (667, 0.04270637189661829), (668, 0.0), (669, 0.0), (670, 0.0), (671, 0.0), (672, 0.0), (673, 0.0), (674, 0.0), (675, 0.0), (676, 0.0242519510819251), (677, 0.019966358822384612), (678, 0.0), (679, 0.0), (680, 0.0), (681, 0.0), (682, 0.0), (683, 0.028240670648412798), (684, 0.0), (685, 0.0), (686, 0.0), (687, 0.0), (688, 0.02018226643519587), (689, 0.0), (690, 0.0), (691, 0.0), (692, 0.0), (693, 0.0), (694, 0.03426494182152789), (695, 0.05608163010755567), (696, 0.0), (697, 0.018294980345685597), (698, 0.0), (699, 0.03153919754709679), (700, 0.0), (701, 0.0), (702, 0.0), (703, 0.035524826852255255), (704, 0.020578492868574307), (705, 0.06378044777064641), (706, 0.0), (707, 0.0), (708, 0.0375938829369836), (709, 0.0), (710, 0.0), (711, 0.0), (712, 0.0), (713, 0.0), (714, 0.0), (715, 0.0), (716, 0.0), (717, 0.0), (718, 0.04351506439528195), (719, 0.054873601311653995), (720, 0.0), (721, 0.0), (722, 0.0), (723, 0.021176802856376544), (724, 0.0), (725, 0.0), (726, 0.01523375571838012), (727, 0.0), (728, 0.0), (729, 0.02789511082668553), (730, 0.0), (731, 0.0), (732, 0.0), (733, 0.031526834788886224), (734, 0.0), (735, 0.0), (736, 0.040775110134968706), (737, 0.0), (738, 0.0), (739, 0.020789321628930983), (740, 0.0), (741, 0.0), (742, 0.017125646144085932), (743, 0.0), (744, 0.0), (745, 0.0), (746, 0.017791176457054584), (747, 0.0), (748, 0.0), (749, 0.06092445262016648), (750, 0.03627470721101527), (751, 0.021984867878548964), (752, 0.0), (753, 0.047087168189162615), (754, 0.0), (755, 0.0), (756, 0.015998204846146485), (757, 0.0), (758, 0.0), (759, 0.0), (760, 0.0), (761, 0.0), (762, 0.0), (763, 0.0), (764, 0.0), (765, 0.0), (766, 0.0), (767, 0.0), (768, 0.0), (769, 0.03596063431147801), (770, 0.0), (771, 0.0), (772, 0.0), (773, 0.035248974563777076), (774, 0.0), (775, 0.0), (776, 0.05434076202972529), (777, 0.0), (778, 0.036092724163530966), (779, 0.0), (780, 0.0), (781, 0.0), (782, 0.0), (783, 0.0), (784, 0.0), (785, 0.0), (786, 0.0), (787, 0.011143922078493096), (788, 0.022968331955566378), (789, 0.0), (790, 0.01964395231903754), (791, 0.019571972118899824), (792, 0.0), (793, 0.0), (794, 0.0), (795, 0.0), (796, 0.0), (797, 0.0), (798, 0.020779089752898418), (799, 0.0), (800, 0.0), (801, 0.0), (802, 0.0), (803, 0.0), (804, 0.02813828726364122), (805, 0.016847416966028674), (806, 0.046731025238907764), (807, 0.040174742943156906), (808, 0.0), (809, 0.0), (810, 0.017021662448872998), (811, 0.0), (812, 0.0), (813, 0.0), (814, 0.03326297324717752), (815, 0.019452910449709315), (816, 0.07484149027226013), (817, 0.0), (818, 0.0), (819, 0.03374825821336745), (820, 0.0), (821, 0.0), (822, 0.0), (823, 0.0), (824, 0.012686990301714166), (825, 0.0), (826, 0.0), (827, 0.0), (828, 0.0), (829, 0.0), (830, 0.01915150986871353), (831, 0.0), (832, 0.0), (833, 0.0), (834, 0.0), (835, 0.0), (836, 0.0), (837, 0.0), (838, 0.0), (839, 0.0), (840, 0.0), (841, 0.0), (842, 0.024886346616697495), (843, 0.0), (844, 0.0), (845, 0.019073419950545952), (846, 0.0), (847, 0.0), (848, 0.0), (849, 0.0), (850, 0.0), (851, 0.0), (852, 0.0), (853, 0.0), (854, 0.0), (855, 0.0), (856, 0.032524803181904496), (857, 0.0), (858, 0.0), (859, 0.0), (860, 0.0), (861, 0.03066138484258908), (862, 0.0), (863, 0.0), (864, 0.0), (865, 0.0), (866, 0.0), (867, 0.0), (868, 0.0), (869, 0.0), (870, 0.0), (871, 0.018719498791268926), (872, 0.0), (873, 0.019509466663856986), (874, 0.0), (875, 0.019996010649778597), (876, 0.0), (877, 0.0), (878, 0.023627469225558185), (879, 0.03263899337964803), (880, 0.021461485090513727), (881, 0.04526396232880241), (882, 0.0), (883, 0.0), (884, 0.0), (885, 0.0), (886, 0.01708025771820683), (887, 0.0), (888, 0.0), (889, 0.0), (890, 0.0), (891, 0.0), (892, 0.0315666665159559), (893, 0.0), (894, 0.0), (895, 0.0), (896, 0.0), (897, 0.0), (898, 0.0), (899, 0.0), (900, 0.017034319016283377), (901, 0.045270612374674966), (902, 0.0), (903, 0.0), (904, 0.0), (905, 0.0), (906, 0.0), (907, 0.0), (908, 0.0), (909, 0.0), (910, 0.0), (911, 0.0), (912, 0.0), (913, 0.0), (914, 0.0), (915, 0.0), (916, 0.0), (917, 0.0), (918, 0.0), (919, 0.0), (920, 0.0), (921, 0.0), (922, 0.0), (923, 0.0), (924, 0.0158694449494893), (925, 0.0), (926, 0.0), (927, 0.01787073473231377), (928, 0.0), (929, 0.013142413457598654), (930, 0.038675354913754706), (931, 0.0), (932, 0.01946449608649846), (933, 0.0), (934, 0.0), (935, 0.018851374094383307), (936, 0.0), (937, 0.0), (938, 0.0), (939, 0.0), (940, 0.0382516866123249), (941, 0.0), (942, 0.0), (943, 0.0), (944, 0.0), (945, 0.0), (946, 0.0), (947, 0.0), (948, 0.0), (949, 0.0), (950, 0.0), (951, 0.030760218652939694), (952, 0.0), (953, 0.0), (954, 0.0), (955, 0.0), (956, 0.0), (957, 0.0), (958, 0.016652333640060694), (959, 0.03539202362424778), (960, 0.0), (961, 0.0), (962, 0.0), (963, 0.0), (964, 0.0), (965, 0.0), (966, 0.0), (967, 0.020114595767431707), (968, 0.0), (969, 0.018595630727495024), (970, 0.0), (971, 0.0), (972, 0.0), (973, 0.0), (974, 0.017055137124216482), (975, 0.017055608535573107), (976, 0.019202625050648396), (977, 0.0), (978, 0.0), (979, 0.016110146833112404), (980, 0.0), (981, 0.0), (982, 0.02004145486760705), (983, 0.0), (984, 0.0), (985, 0.0), (986, 0.0), (987, 0.0), (988, 0.0), (989, 0.0), (990, 0.0), (991, 0.0), (992, 0.0), (993, 0.0), (994, 0.0), (995, 0.0), (996, 0.0), (997, 0.0), (998, 0.0), (999, 0.0), (1000, 0.0), (1001, 0.0), (1002, 0.0), (1003, 0.08295261570005749), (1004, 0.0), (1005, 0.0), (1006, 0.0), (1007, 0.0), (1008, 0.0), (1009, 0.0), (1010, 0.0), (1011, 0.0), (1012, 0.0), (1013, 0.0), (1014, 0.0), (1015, 0.0), (1016, 0.0), (1017, 0.024314578308758782), (1018, 0.0), (1019, 0.0), (1020, 0.0), (1021, 0.0), (1022, 0.0), (1023, 0.0), (1024, 0.0), (1025, 0.0), (1026, 0.035755318560316156), (1027, 0.03404778740224903), (1028, 0.0), (1029, 0.0), (1030, 0.017635653517674252), (1031, 0.0), (1032, 0.0), (1033, 0.0), (1034, 0.0), (1035, 0.0), (1036, 0.0), (1037, 0.0), (1038, 0.0), (1039, 0.01730199414632388), (1040, 0.0), (1041, 0.0), (1042, 0.0), (1043, 0.0), (1044, 0.0), (1045, 0.0), (1046, 0.0), (1047, 0.02268616713531604), (1048, 0.0), (1049, 0.0), (1050, 0.0), (1051, 0.0), (1052, 0.05257532578241352), (1053, 0.023938811897044644), (1054, 0.0), (1055, 0.01858420421316643), (1056, 0.0), (1057, 0.0), (1058, 0.0), (1059, 0.01803435235026014), (1060, 0.0), (1061, 0.0), (1062, 0.0), (1063, 0.0), (1064, 0.0), (1065, 0.018602337688944183), (1066, 0.0), (1067, 0.017376427416540587), (1068, 0.03369751564132969), (1069, 0.0), (1070, 0.030432574424794898), (1071, 0.0), (1072, 0.0), (1073, 0.0), (1074, 0.018274781566922985), (1075, 0.0), (1076, 0.0), (1077, 0.0), (1078, 0.0), (1079, 0.0), (1080, 0.03280235153620444), (1081, 0.0), (1082, 0.0), (1083, 0.0), (1084, 0.0), (1085, 0.018573267489907685), (1086, 0.01777576494798696), (1087, 0.0), (1088, 0.0), (1089, 0.0), (1090, 0.0), (1091, 0.0), (1092, 0.0), (1093, 0.0), (1094, 0.0), (1095, 0.0), (1096, 0.0), (1097, 0.019876544375038743), (1098, 0.0), (1099, 0.0), (1100, 0.0), (1101, 0.055554846776451824), (1102, 0.0), (1103, 0.039264494204469404), (1104, 0.0), (1105, 0.0), (1106, 0.01914683612079022), (1107, 0.01695093110756521), (1108, 0.0), (1109, 0.0), (1110, 0.0), (1111, 0.0), (1112, 0.0), (1113, 0.0), (1114, 0.0), (1115, 0.0487107384412163), (1116, 0.0), (1117, 0.0), (1118, 0.0), (1119, 0.0), (1120, 0.0), (1121, 0.0), (1122, 0.0), (1123, 0.0), (1124, 0.0), (1125, 0.0), (1126, 0.0), (1127, 0.0), (1128, 0.0), (1129, 0.0), (1130, 0.0357049830573868), (1131, 0.0), (1132, 0.0), (1133, 0.018179642696929486), (1134, 0.0), (1135, 0.0), (1136, 0.0), (1137, 0.0), (1138, 0.0), (1139, 0.01914344475848627), (1140, 0.01950733636000886), (1141, 0.0), (1142, 0.0), (1143, 0.020988349490111212), (1144, 0.0), (1145, 0.0), (1146, 0.0), (1147, 0.01983829630220127), (1148, 0.0), (1149, 0.06564893281274574), (1150, 0.0), (1151, 0.0), (1152, 0.0), (1153, 0.03832178221346748), (1154, 0.0), (1155, 0.0), (1156, 0.04486841436189939), (1157, 0.0), (1158, 0.0), (1159, 0.0), (1160, 0.0), (1161, 0.0), (1162, 0.0), (1163, 0.0), (1164, 0.0), (1165, 0.0), (1166, 0.0), (1167, 0.019959817854829046), (1168, 0.0), (1169, 0.0), (1170, 0.0), (1171, 0.0), (1172, 0.0), (1173, 0.01648737628839725), (1174, 0.0), (1175, 0.036772859958975224), (1176, 0.0), (1177, 0.05531662241567659), (1178, 0.0), (1179, 0.02177113744481422), (1180, 0.0), (1181, 0.0), (1182, 0.0), (1183, 0.0), (1184, 0.0), (1185, 0.0), (1186, 0.0), (1187, 0.0), (1188, 0.0), (1189, 0.0), (1190, 0.0), (1191, 0.0), (1192, 0.0), (1193, 0.019942722479737957), (1194, 0.045862424020685556), (1195, 0.0), (1196, 0.0), (1197, 0.0), (1198, 0.0), (1199, 0.019207961808243773), (1200, 0.0), (1201, 0.0), (1202, 0.015453614947770884), (1203, 0.0), (1204, 0.0), (1205, 0.0), (1206, 0.0), (1207, 0.0), (1208, 0.0), (1209, 0.0), (1210, 0.0), (1211, 0.0), (1212, 0.0), (1213, 0.027481820854924847), (1214, 0.0), (1215, 0.0), (1216, 0.0), (1217, 0.0), (1218, 0.0), (1219, 0.0), (1220, 0.0), (1221, 0.0), (1222, 0.0), (1223, 0.0), (1224, 0.048842270159952475), (1225, 0.0), (1226, 0.036070784169514494), (1227, 0.0), (1228, 0.0), (1229, 0.0), (1230, 0.0), (1231, 0.0), (1232, 0.025208477993450027), (1233, 0.0), (1234, 0.0), (1235, 0.0), (1236, 0.0), (1237, 0.04247372223338473), (1238, 0.040343405657361484), (1239, 0.01805331865990172), (1240, 0.0), (1241, 0.0), (1242, 0.03257286616194734), (1243, 0.01987170258641778), (1244, 0.0), (1245, 0.030325523714590377), (1246, 0.0), (1247, 0.0), (1248, 0.055929191225248434), (1249, 0.04620062302031409), (1250, 0.035745770007610214), (1251, 0.0), (1252, 0.0), (1253, 0.01796456730251459), (1254, 0.0), (1255, 0.03462132817498809), (1256, 0.0), (1257, 0.0), (1258, 0.0), (1259, 0.0), (1260, 0.0), (1261, 0.017639450947462346), (1262, 0.0), (1263, 0.021472252448755356), (1264, 0.0), (1265, 0.0), (1266, 0.0), (1267, 0.01959262244638572), (1268, 0.0), (1269, 0.0), (1270, 0.061323207723711456), (1271, 0.0), (1272, 0.035901952560145986), (1273, 0.0), (1274, 0.0), (1275, 0.0), (1276, 0.042798842597681935), (1277, 0.04045852654163142), (1278, 0.0), (1279, 0.03539649750397131), (1280, 0.0), (1281, 0.12172892631791651), (1282, 0.0), (1283, 0.0), (1284, 0.0), (1285, 0.0), (1286, 0.0), (1287, 0.0), (1288, 0.0), (1289, 0.0), (1290, 0.0), (1291, 0.0), (1292, 0.0), (1293, 0.0), (1294, 0.0), (1295, 0.036080457793879396), (1296, 0.0), (1297, 0.0), (1298, 0.0), (1299, 0.0), (1300, 0.0), (1301, 0.0), (1302, 0.0), (1303, 0.0), (1304, 0.0), (1305, 0.0), (1306, 0.01587303878534438), (1307, 0.0), (1308, 0.0), (1309, 0.0), (1310, 0.0), (1311, 0.0), (1312, 0.0), (1313, 0.0), (1314, 0.017922169104643667), (1315, 0.0), (1316, 0.017125097689071913), (1317, 0.0), (1318, 0.0), (1319, 0.0), (1320, 0.0), (1321, 0.0), (1322, 0.0), (1323, 0.0), (1324, 0.01943411343939129), (1325, 0.0), (1326, 0.0), (1327, 0.0), (1328, 0.036984117816314756), (1329, 0.017978589408851695), (1330, 0.0), (1331, 0.0), (1332, 0.0), (1333, 0.0), (1334, 0.0), (1335, 0.0), (1336, 0.0), (1337, 0.0), (1338, 0.0), (1339, 0.019365123895351215), (1340, 0.015472212050020681), (1341, 0.0), (1342, 0.015213637977908286), (1343, 0.0), (1344, 0.01473212042705882), (1345, 0.02172588793904535), (1346, 0.0), (1347, 0.01759754849281628), (1348, 0.0), (1349, 0.0), (1350, 0.0), (1351, 0.0), (1352, 0.0), (1353, 0.0338796921797789), (1354, 0.0), (1355, 0.0), (1356, 0.0), (1357, 0.0), (1358, 0.0), (1359, 0.0), (1360, 0.0), (1361, 0.018506589515101268), (1362, 0.04061646845514847), (1363, 0.0), (1364, 0.0), (1365, 0.0), (1366, 0.0), (1367, 0.03042875749720048), (1368, 0.0), (1369, 0.0), (1370, 0.0), (1371, 0.0), (1372, 0.0), (1373, 0.0), (1374, 0.0), (1375, 0.0), (1376, 0.0), (1377, 0.0), (1378, 0.0), (1379, 0.0), (1380, 0.0), (1381, 0.0), (1382, 0.0), (1383, 0.0), (1384, 0.0), (1385, 0.0), (1386, 0.0), (1387, 0.022582560480948134), (1388, 0.0), (1389, 0.0), (1390, 0.0), (1391, 0.0), (1392, 0.016198341295287726), (1393, 0.0), (1394, 0.032282966610052255), (1395, 0.0), (1396, 0.0), (1397, 0.0), (1398, 0.0), (1399, 0.0), (1400, 0.0), (1401, 0.0), (1402, 0.01910444894414725), (1403, 0.0), (1404, 0.0), (1405, 0.0), (1406, 0.0), (1407, 0.019361212736336248), (1408, 0.0), (1409, 0.0), (1410, 0.0), (1411, 0.0), (1412, 0.0), (1413, 0.0), (1414, 0.0), (1415, 0.0), (1416, 0.0), (1417, 0.0), (1418, 0.0), (1419, 0.04066871119026026), (1420, 0.049880842328253745), (1421, 0.019620763631899792), (1422, 0.0), (1423, 0.0), (1424, 0.0), (1425, 0.0), (1426, 0.0), (1427, 0.0), (1428, 0.01727031533313445), (1429, 0.0), (1430, 0.01694059527731404), (1431, 0.0), (1432, 0.0), (1433, 0.02910557102035852), (1434, 0.0), (1435, 0.0), (1436, 0.0), (1437, 0.0), (1438, 0.0), (1439, 0.0), (1440, 0.0), (1441, 0.0), (1442, 0.0), (1443, 0.025809121821273318), (1444, 0.0), (1445, 0.0), (1446, 0.01950403361976416), (1447, 0.0), (1448, 0.016834319308186168), (1449, 0.0), (1450, 0.11647724694095188), (1451, 0.0), (1452, 0.0), (1453, 0.0), (1454, 0.04748726974204719), (1455, 0.0), (1456, 0.0), (1457, 0.0), (1458, 0.0), (1459, 0.0), (1460, 0.0), (1461, 0.0), (1462, 0.0), (1463, 0.017565829990567994), (1464, 0.0), (1465, 0.0), (1466, 0.0), (1467, 0.0), (1468, 0.0), (1469, 0.03772178846763013), (1470, 0.0), (1471, 0.0), (1472, 0.0), (1473, 0.0), (1474, 0.0), (1475, 0.0), (1476, 0.0), (1477, 0.0), (1478, 0.0), (1479, 0.03996434719991051), (1480, 0.03386804684217738), (1481, 0.0), (1482, 0.0), (1483, 0.0), (1484, 0.038543720492882634), (1485, 0.016437221283013496), (1486, 0.0), (1487, 0.0), (1488, 0.0), (1489, 0.0), (1490, 0.0), (1491, 0.03880215607830401), (1492, 0.01576639278665838), (1493, 0.017564590054631696), (1494, 0.0), (1495, 0.0), (1496, 0.0), (1497, 0.0), (1498, 0.0), (1499, 0.0), (1500, 0.0), (1501, 0.0), (1502, 0.0), (1503, 0.0), (1504, 0.036088658324849775), (1505, 0.03654311360887332), (1506, 0.0), (1507, 0.0), (1508, 0.0), (1509, 0.0), (1510, 0.0), (1511, 0.022008182434843763), (1512, 0.020485342103065404), (1513, 0.0), (1514, 0.0), (1515, 0.0), (1516, 0.0), (1517, 0.0), (1518, 0.0), (1519, 0.0), (1520, 0.0), (1521, 0.0), (1522, 0.0), (1523, 0.0), (1524, 0.0), (1525, 0.0), (1526, 0.0), (1527, 0.0), (1528, 0.0), (1529, 0.0), (1530, 0.0), (1531, 0.0), (1532, 0.034587568903823786), (1533, 0.03696169942135589), (1534, 0.0), (1535, 0.0), (1536, 0.06331597467758936), (1537, 0.0), (1538, 0.0), (1539, 0.0), (1540, 0.0), (1541, 0.0), (1542, 0.020983995239700744), (1543, 0.018672780561696595), (1544, 0.0), (1545, 0.017470669339279387), (1546, 0.0), (1547, 0.0), (1548, 0.0), (1549, 0.03233286137382514), (1550, 0.017964966277438342), (1551, 0.017906177722118787), (1552, 0.0), (1553, 0.048237574193551125), (1554, 0.0), (1555, 0.0), (1556, 0.0), (1557, 0.0), (1558, 0.0), (1559, 0.03153531172042883), (1560, 0.0), (1561, 0.017511726202687178), (1562, 0.03375049970296433), (1563, 0.0), (1564, 0.0), (1565, 0.0), (1566, 0.0), (1567, 0.01835935431930954), (1568, 0.0), (1569, 0.0), (1570, 0.0), (1571, 0.0), (1572, 0.0), (1573, 0.0), (1574, 0.0), (1575, 0.019507158165786867), (1576, 0.0), (1577, 0.0), (1578, 0.0), (1579, 0.020467030419686186), (1580, 0.0), (1581, 0.0), (1582, 0.017490825941665313), (1583, 0.0), (1584, 0.0), (1585, 0.01864339199697216), (1586, 0.017395721663182567), (1587, 0.0), (1588, 0.0), (1589, 0.017846478166564858), (1590, 0.0), (1591, 0.0), (1592, 0.01766954868835737), (1593, 0.0), (1594, 0.020398218452653313), (1595, 0.016487488271619676), (1596, 0.0), (1597, 0.0), (1598, 0.020091128039889484), (1599, 0.0), (1600, 0.0), (1601, 0.0), (1602, 0.0), (1603, 0.0), (1604, 0.0), (1605, 0.0), (1606, 0.0), (1607, 0.0), (1608, 0.0), (1609, 0.0), (1610, 0.0), (1611, 0.0), (1612, 0.0), (1613, 0.018950416502839858), (1614, 0.06066213517124788), (1615, 0.0), (1616, 0.0), (1617, 0.0), (1618, 0.0), (1619, 0.0), (1620, 0.050638058375161214), (1621, 0.03084130166795685), (1622, 0.0), (1623, 0.0), (1624, 0.028974450019681082), (1625, 0.0), (1626, 0.055170672033889125), (1627, 0.0), (1628, 0.0), (1629, 0.0), (1630, 0.0), (1631, 0.020658331442929084), (1632, 0.0), (1633, 0.07754544934917039), (1634, 0.0), (1635, 0.0), (1636, 0.0), (1637, 0.0), (1638, 0.0), (1639, 0.018433219341013968), (1640, 0.0), (1641, 0.0), (1642, 0.030336563244737335), (1643, 0.0), (1644, 0.0), (1645, 0.01760046137444055), (1646, 0.0), (1647, 0.0344437550560998), (1648, 0.0), (1649, 0.0), (1650, 0.0), (1651, 0.0), (1652, 0.0), (1653, 0.0), (1654, 0.017390513271324837), (1655, 0.0), (1656, 0.0), (1657, 0.04523430744429416), (1658, 0.0), (1659, 0.0), (1660, 0.0), (1661, 0.0), (1662, 0.0), (1663, 0.03354362027141482), (1664, 0.0), (1665, 0.0), (1666, 0.0), (1667, 0.0), (1668, 0.0), (1669, 0.0), (1670, 0.0), (1671, 0.03135019900358083), (1672, 0.0), (1673, 0.020270829850794373), (1674, 0.0), (1675, 0.0), (1676, 0.03999029613088139), (1677, 0.0), (1678, 0.0), (1679, 0.0), (1680, 0.05529812962728321), (1681, 0.0), (1682, 0.0), (1683, 0.0), (1684, 0.0), (1685, 0.0), (1686, 0.0), (1687, 0.0), (1688, 0.0), (1689, 0.0), (1690, 0.0), (1691, 0.0), (1692, 0.0), (1693, 0.019109516217890928), (1694, 0.0), (1695, 0.0), (1696, 0.0), (1697, 0.0), (1698, 0.0), (1699, 0.01576280283242993), (1700, 0.0), (1701, 0.0), (1702, 0.0), (1703, 0.0), (1704, 0.0), (1705, 0.0), (1706, 0.0), (1707, 0.0), (1708, 0.0), (1709, 0.0), (1710, 0.019198608966196757), (1711, 0.0), (1712, 0.0), (1713, 0.0), (1714, 0.0), (1715, 0.0), (1716, 0.0), (1717, 0.033757801471460264), (1718, 0.0), (1719, 0.0), (1720, 0.018146023319372612), (1721, 0.0), (1722, 0.0), (1723, 0.0), (1724, 0.0), (1725, 0.0), (1726, 0.0), (1727, 0.0), (1728, 0.0), (1729, 0.01983182981390031), (1730, 0.0), (1731, 0.0), (1732, 0.0), (1733, 0.0), (1734, 0.0), (1735, 0.0), (1736, 0.0), (1737, 0.021710397581186747), (1738, 0.0), (1739, 0.0), (1740, 0.0), (1741, 0.0), (1742, 0.0), (1743, 0.0), (1744, 0.0), (1745, 0.0), (1746, 0.0), (1747, 0.014178364339516298), (1748, 0.0), (1749, 0.0), (1750, 0.016282009937213352), (1751, 0.0), (1752, 0.03306557259560022), (1753, 0.0), (1754, 0.0), (1755, 0.0), (1756, 0.0), (1757, 0.0), (1758, 0.0), (1759, 0.019230504928100148), (1760, 0.0), (1761, 0.0), (1762, 0.0), (1763, 0.0), (1764, 0.0), (1765, 0.0), (1766, 0.0), (1767, 0.0342041665396261), (1768, 0.0), (1769, 0.0), (1770, 0.0), (1771, 0.0), (1772, 0.0), (1773, 0.0), (1774, 0.0333215931593364), (1775, 0.01901043670893263), (1776, 0.0), (1777, 0.0), (1778, 0.030160721426923272), (1779, 0.01939694688384929), (1780, 0.0), (1781, 0.0), (1782, 0.016663136393007916), (1783, 0.0), (1784, 0.01654354398692251), (1785, 0.0), (1786, 0.0), (1787, 0.0), (1788, 0.0), (1789, 0.0), (1790, 0.0), (1791, 0.0), (1792, 0.0), (1793, 0.023446169501025113), (1794, 0.0), (1795, 0.016473595789788284), (1796, 0.0), (1797, 0.0), (1798, 0.0), (1799, 0.0), (1800, 0.0), (1801, 0.03411337127542924), (1802, 0.08289535604665026), (1803, 0.0), (1804, 0.0), (1805, 0.022081859017269286), (1806, 0.0), (1807, 0.0), (1808, 0.019527758670524278), (1809, 0.0), (1810, 0.0), (1811, 0.0), (1812, 0.0), (1813, 0.0), (1814, 0.0), (1815, 0.02895765898487341), (1816, 0.036616381488571575), (1817, 0.0), (1818, 0.0), (1819, 0.0), (1820, 0.0), (1821, 0.0), (1822, 0.0), (1823, 0.0), (1824, 0.0572335816115887), (1825, 0.0), (1826, 0.0), (1827, 0.03294989413131801), (1828, 0.0), (1829, 0.019831254150483865), (1830, 0.0), (1831, 0.01801386025603729), (1832, 0.020699454582232605), (1833, 0.0), (1834, 0.0), (1835, 0.0), (1836, 0.0), (1837, 0.0), (1838, 0.015700702912010076), (1839, 0.0), (1840, 0.01844050542243433), (1841, 0.0), (1842, 0.03060983890306268), (1843, 0.0), (1844, 0.0), (1845, 0.0), (1846, 0.0), (1847, 0.0), (1848, 0.0), (1849, 0.0), (1850, 0.0), (1851, 0.0), (1852, 0.0), (1853, 0.0), (1854, 0.03399559210605982), (1855, 0.0), (1856, 0.0), (1857, 0.0), (1858, 0.020385986016547723), (1859, 0.0), (1860, 0.0), (1861, 0.023713641067356777), (1862, 0.0), (1863, 0.015734552601799262), (1864, 0.0), (1865, 0.02269388823989004), (1866, 0.0), (1867, 0.0), (1868, 0.0), (1869, 0.0), (1870, 0.0), (1871, 0.0), (1872, 0.0), (1873, 0.018236851971561205), (1874, 0.0), (1875, 0.0), (1876, 0.0), (1877, 0.0), (1878, 0.0), (1879, 0.0), (1880, 0.0), (1881, 0.03386841622164341), (1882, 0.0), (1883, 0.0), (1884, 0.0), (1885, 0.0), (1886, 0.0), (1887, 0.0), (1888, 0.017896913667074712), (1889, 0.0), (1890, 0.0), (1891, 0.0), (1892, 0.0), (1893, 0.0), (1894, 0.02062338891025037), (1895, 0.0), (1896, 0.0), (1897, 0.0), (1898, 0.0), (1899, 0.0), (1900, 0.0), (1901, 0.0), (1902, 0.0), (1903, 0.01903899016103998), (1904, 0.0), (1905, 0.0), (1906, 0.0), (1907, 0.0), (1908, 0.0), (1909, 0.0), (1910, 0.0), (1911, 0.0), (1912, 0.0), (1913, 0.017979121486640697), (1914, 0.0), (1915, 0.036681948130821235), (1916, 0.0), (1917, 0.0), (1918, 0.0), (1919, 0.02546770638819076), (1920, 0.0), (1921, 0.0), (1922, 0.0), (1923, 0.0), (1924, 0.0), (1925, 0.0), (1926, 0.0), (1927, 0.0), (1928, 0.0), (1929, 0.0), (1930, 0.0), (1931, 0.0), (1932, 0.0), (1933, 0.0), (1934, 0.018172987078339278), (1935, 0.0), (1936, 0.01862041617383002), (1937, 0.0), (1938, 0.0), (1939, 0.0), (1940, 0.0), (1941, 0.02435980112587949), (1942, 0.0), (1943, 0.0), (1944, 0.03026328084864736), (1945, 0.0), (1946, 0.0), (1947, 0.0), (1948, 0.0), (1949, 0.0335699265463131), (1950, 0.0), (1951, 0.0), (1952, 0.0), (1953, 0.0), (1954, 0.0), (1955, 0.0), (1956, 0.06158717860298956), (1957, 0.0), (1958, 0.0), (1959, 0.0), (1960, 0.0), (1961, 0.0), (1962, 0.0), (1963, 0.0), (1964, 0.03293805943847278), (1965, 0.0), (1966, 0.0), (1967, 0.0), (1968, 0.0), (1969, 0.0), (1970, 0.09916169471084559), (1971, 0.0), (1972, 0.020658315177385696), (1973, 0.0), (1974, 0.033299577573111236), (1975, 0.0), (1976, 0.0), (1977, 0.0), (1978, 0.016238106757919427), (1979, 0.0), (1980, 0.0), (1981, 0.03382492646264676), (1982, 0.0), (1983, 0.037949172825109755), (1984, 0.0), (1985, 0.061525431520636845), (1986, 0.0), (1987, 0.0), (1988, 0.0), (1989, 0.0), (1990, 0.0), (1991, 0.0), (1992, 0.02034215929638746), (1993, 0.01739489052335367), (1994, 0.0), (1995, 0.0), (1996, 0.0), (1997, 0.0), (1998, 0.0), (1999, 0.0), (2000, 0.014518364423956008), (2001, 0.0), (2002, 0.0), (2003, 0.017601127594337757), (2004, 0.0), (2005, 0.0), (2006, 0.0), (2007, 0.029918840871222065), (2008, 0.0), (2009, 0.0), (2010, 0.0), (2011, 0.0), (2012, 0.0), (2013, 0.0), (2014, 0.018120382933872643), (2015, 0.0), (2016, 0.0), (2017, 0.0), (2018, 0.0), (2019, 0.0), (2020, 0.0), (2021, 0.0), (2022, 0.0), (2023, 0.0), (2024, 0.0), (2025, 0.0), (2026, 0.0), (2027, 0.0), (2028, 0.0), (2029, 0.017786934432622154), (2030, 0.0), (2031, 0.0), (2032, 0.0), (2033, 0.0), (2034, 0.0), (2035, 0.0), (2036, 0.0), (2037, 0.022087497540933903), (2038, 0.0), (2039, 0.01831569695739586), (2040, 0.0), (2041, 0.0), (2042, 0.0), (2043, 0.0), (2044, 0.0), (2045, 0.0), (2046, 0.0), (2047, 0.01924105616625937), (2048, 0.0), (2049, 0.0), (2050, 0.0), (2051, 0.0), (2052, 0.0), (2053, 0.0), (2054, 0.0), (2055, 0.0), (2056, 0.0), (2057, 0.017668433239477237), (2058, 0.0), (2059, 0.0), (2060, 0.04631455313997714), (2061, 0.0), (2062, 0.0), (2063, 0.0), (2064, 0.04818207047304718), (2065, 0.022474445177462297), (2066, 0.0), (2067, 0.0), (2068, 0.0), (2069, 0.017900297003677144), (2070, 0.018624440320145066), (2071, 0.0), (2072, 0.0), (2073, 0.0), (2074, 0.0), (2075, 0.0), (2076, 0.0), (2077, 0.0), (2078, 0.0), (2079, 0.0), (2080, 0.0), (2081, 0.01905176553994507), (2082, 0.0), (2083, 0.0), (2084, 0.0), (2085, 0.018981741567473377), (2086, 0.0), (2087, 0.0), (2088, 0.0), (2089, 0.0), (2090, 0.0), (2091, 0.0), (2092, 0.0), (2093, 0.0), (2094, 0.0), (2095, 0.0), (2096, 0.0), (2097, 0.0), (2098, 0.0), (2099, 0.0), (2100, 0.01751892184576006), (2101, 0.0), (2102, 0.0), (2103, 0.0), (2104, 0.03891425494241798), (2105, 0.0), (2106, 0.0), (2107, 0.0), (2108, 0.0), (2109, 0.0), (2110, 0.03726965690826062), (2111, 0.0), (2112, 0.0), (2113, 0.0), (2114, 0.018331239048621776), (2115, 0.0), (2116, 0.0), (2117, 0.0), (2118, 0.04531200687212687), (2119, 0.0), (2120, 0.0), (2121, 0.0), (2122, 0.0), (2123, 0.02097820445307068), (2124, 0.0), (2125, 0.0), (2126, 0.0), (2127, 0.0), (2128, 0.0), (2129, 0.04688600126503357), (2130, 0.0), (2131, 0.04898964548309316), (2132, 0.029746552777366393), (2133, 0.0), (2134, 0.0), (2135, 0.0), (2136, 0.0), (2137, 0.0), (2138, 0.0), (2139, 0.0), (2140, 0.018096169540142672), (2141, 0.0), (2142, 0.0), (2143, 0.0), (2144, 0.0), (2145, 0.0), (2146, 0.0), (2147, 0.0), (2148, 0.0), (2149, 0.0), (2150, 0.02108571294257746), (2151, 0.0), (2152, 0.015492782277201293), (2153, 0.0), (2154, 0.0), (2155, 0.0), (2156, 0.018047211058689717), (2157, 0.0), (2158, 0.021242282386583173), (2159, 0.0), (2160, 0.0), (2161, 0.0), (2162, 0.01956480027408895), (2163, 0.0), (2164, 0.0), (2165, 0.0), (2166, 0.0), (2167, 0.0), (2168, 0.0), (2169, 0.0), (2170, 0.0), (2171, 0.0), (2172, 0.0), (2173, 0.0), (2174, 0.0), (2175, 0.01757419956574499), (2176, 0.0), (2177, 0.0), (2178, 0.0), (2179, 0.01787872405983583), (2180, 0.020825847676362867), (2181, 0.0), (2182, 0.0), (2183, 0.0), (2184, 0.0), (2185, 0.0), (2186, 0.0), (2187, 0.0), (2188, 0.0), (2189, 0.0), (2190, 0.0), (2191, 0.0), (2192, 0.0), (2193, 0.0), (2194, 0.0), (2195, 0.0), (2196, 0.01926633823446644), (2197, 0.0), (2198, 0.0), (2199, 0.0), (2200, 0.0), (2201, 0.0), (2202, 0.0728131455850185), (2203, 0.0), (2204, 0.0), (2205, 0.0), (2206, 0.0), (2207, 0.0), (2208, 0.0), (2209, 0.0), (2210, 0.0), (2211, 0.018244881916769474), (2212, 0.0), (2213, 0.016246836880833247), (2214, 0.0), (2215, 0.0), (2216, 0.0), (2217, 0.0), (2218, 0.0), (2219, 0.014957321498020393), (2220, 0.013663809628417628), (2221, 0.0), (2222, 0.0), (2223, 0.0), (2224, 0.0), (2225, 0.0), (2226, 0.0), (2227, 0.015138901282949759), (2228, 0.0), (2229, 0.0), (2230, 0.0), (2231, 0.0), (2232, 0.0), (2233, 0.0), (2234, 0.020903609647028178), (2235, 0.0), (2236, 0.0), (2237, 0.0), (2238, 0.0), (2239, 0.0), (2240, 0.02876439571664844), (2241, 0.0), (2242, 0.0), (2243, 0.0), (2244, 0.02093122608805), (2245, 0.0), (2246, 0.0), (2247, 0.02244513538234855), (2248, 0.017109843496121546), (2249, 0.021195410449488007), (2250, 0.036358986918840396), (2251, 0.0), (2252, 0.0), (2253, 0.0), (2254, 0.0), (2255, 0.0), (2256, 0.03346964580151322), (2257, 0.0), (2258, 0.019755839410373437), (2259, 0.0), (2260, 0.0), (2261, 0.0), (2262, 0.0), (2263, 0.0), (2264, 0.019344389118729804), (2265, 0.0), (2266, 0.0), (2267, 0.0), (2268, 0.0), (2269, 0.04229003975452093), (2270, 0.0), (2271, 0.0), (2272, 0.0), (2273, 0.0), (2274, 0.0), (2275, 0.0), (2276, 0.0), (2277, 0.0), (2278, 0.0), (2279, 0.0), (2280, 0.018047570754919657), (2281, 0.0), (2282, 0.0), (2283, 0.0), (2284, 0.0), (2285, 0.0), (2286, 0.0), (2287, 0.0), (2288, 0.0), (2289, 0.0), (2290, 0.0), (2291, 0.0), (2292, 0.0), (2293, 0.0), (2294, 0.0), (2295, 0.0), (2296, 0.062386059159382515), (2297, 0.036512596754960915), (2298, 0.03087178928069266), (2299, 0.0), (2300, 0.01911086210311454), (2301, 0.0), (2302, 0.0), (2303, 0.0), (2304, 0.0), (2305, 0.0), (2306, 0.0), (2307, 0.0), (2308, 0.0), (2309, 0.0), (2310, 0.0), (2311, 0.0), (2312, 0.0), (2313, 0.0), (2314, 0.0), (2315, 0.0), (2316, 0.0), (2317, 0.0), (2318, 0.01571387791954977), (2319, 0.0), (2320, 0.0), (2321, 0.02082298052131423), (2322, 0.0), (2323, 0.03288218901867249), (2324, 0.0), (2325, 0.0), (2326, 0.015914676181442326), (2327, 0.0), (2328, 0.0), (2329, 0.0), (2330, 0.0), (2331, 0.0), (2332, 0.0), (2333, 0.0), (2334, 0.0), (2335, 0.020532598660501278), (2336, 0.0), (2337, 0.0), (2338, 0.0), (2339, 0.0), (2340, 0.054791859392434396), (2341, 0.020979875186152075), (2342, 0.022686846553603878), (2343, 0.02103394550208279), (2344, 0.0), (2345, 0.019840134203037426), (2346, 0.0), (2347, 0.016747992672515366), (2348, 0.0), (2349, 0.0), (2350, 0.0), (2351, 0.0), (2352, 0.042307185248783324), (2353, 0.018757806647155057), (2354, 0.0), (2355, 0.0), (2356, 0.0), (2357, 0.0), (2358, 0.05484805805672477), (2359, 0.018173913340998406), (2360, 0.019243460044449538), (2361, 0.0), (2362, 0.0), (2363, 0.0), (2364, 0.0), (2365, 0.0), (2366, 0.0), (2367, 0.0), (2368, 0.02171446812850872), (2369, 0.0), (2370, 0.0), (2371, 0.0), (2372, 0.0), (2373, 0.0), (2374, 0.0), (2375, 0.0), (2376, 0.0), (2377, 0.017284720127042963), (2378, 0.0), (2379, 0.0), (2380, 0.0), (2381, 0.0), (2382, 0.018652235805867393), (2383, 0.0), (2384, 0.0), (2385, 0.0), (2386, 0.0), (2387, 0.0), (2388, 0.0), (2389, 0.0), (2390, 0.0), (2391, 0.0), (2392, 0.0), (2393, 0.0), (2394, 0.0), (2395, 0.0), (2396, 0.0), (2397, 0.0), (2398, 0.0), (2399, 0.0), (2400, 0.0), (2401, 0.0), (2402, 0.0), (2403, 0.0), (2404, 0.0), (2405, 0.0), (2406, 0.0), (2407, 0.0), (2408, 0.018040661712071478), (2409, 0.0173520086083257), (2410, 0.019986591491612565), (2411, 0.0), (2412, 0.0), (2413, 0.0), (2414, 0.0), (2415, 0.0), (2416, 0.0), (2417, 0.0), (2418, 0.0), (2419, 0.0), (2420, 0.0), (2421, 0.0), (2422, 0.0), (2423, 0.0), (2424, 0.0), (2425, 0.0), (2426, 0.0), (2427, 0.0), (2428, 0.0), (2429, 0.037653943392581955), (2430, 0.0), (2431, 0.0), (2432, 0.0), (2433, 0.0), (2434, 0.0), (2435, 0.0), (2436, 0.0), (2437, 0.0), (2438, 0.0), (2439, 0.02053807412348713), (2440, 0.01850241864901439), (2441, 0.014753148173810147), (2442, 0.0), (2443, 0.026265134733058092), (2444, 0.0), (2445, 0.0), (2446, 0.0), (2447, 0.07089705745288827), (2448, 0.0), (2449, 0.0), (2450, 0.0), (2451, 0.0), (2452, 0.0), (2453, 0.0), (2454, 0.0), (2455, 0.0), (2456, 0.02247343276496627), (2457, 0.0), (2458, 0.0), (2459, 0.0), (2460, 0.0), (2461, 0.0), (2462, 0.0), (2463, 0.0), (2464, 0.0), (2465, 0.03511796356687059), (2466, 0.0), (2467, 0.0), (2468, 0.0), (2469, 0.0), (2470, 0.0), (2471, 0.03762634373796675), (2472, 0.0), (2473, 0.0), (2474, 0.013977788185068167), (2475, 0.0), (2476, 0.024758844132202588), (2477, 0.019684039974327265), (2478, 0.0), (2479, 0.0), (2480, 0.0361244646743246), (2481, 0.0), (2482, 0.0), (2483, 0.0), (2484, 0.04182999105175584), (2485, 0.0), (2486, 0.0), (2487, 0.0), (2488, 0.0), (2489, 0.0), (2490, 0.0), (2491, 0.0), (2492, 0.0), (2493, 0.0), (2494, 0.0), (2495, 0.0), (2496, 0.0), (2497, 0.016826406412178526), (2498, 0.0), (2499, 0.020234983207468183), (2500, 0.0), (2501, 0.0), (2502, 0.0), (2503, 0.0), (2504, 0.0), (2505, 0.0), (2506, 0.0), (2507, 0.0), (2508, 0.0), (2509, 0.014971803220906051), (2510, 0.0), (2511, 0.0), (2512, 0.0), (2513, 0.0), (2514, 0.0), (2515, 0.0), (2516, 0.01930398072070702), (2517, 0.0), (2518, 0.0), (2519, 0.0), (2520, 0.0), (2521, 0.0), (2522, 0.0), (2523, 0.030770488613479134), (2524, 0.0), (2525, 0.0), (2526, 0.0), (2527, 0.0), (2528, 0.0), (2529, 0.0), (2530, 0.0), (2531, 0.0), (2532, 0.0), (2533, 0.0), (2534, 0.009079164712908623), (2535, 0.0), (2536, 0.0), (2537, 0.0), (2538, 0.0), (2539, 0.0), (2540, 0.0), (2541, 0.018477607605085572), (2542, 0.0367661672483926), (2543, 0.0), (2544, 0.0), (2545, 0.0), (2546, 0.0), (2547, 0.03294150590464006), (2548, 0.016834288953147095), (2549, 0.0), (2550, 0.0), (2551, 0.0), (2552, 0.037977407993033264), (2553, 0.01776168744706204), (2554, 0.033066777687168335), (2555, 0.0), (2556, 0.0), (2557, 0.0), (2558, 0.018221219114180506), (2559, 0.0), (2560, 0.0), (2561, 0.0), (2562, 0.03285831090316217), (2563, 0.0), (2564, 0.0), (2565, 0.0), (2566, 0.0), (2567, 0.0), (2568, 0.0), (2569, 0.07201850959551208), (2570, 0.0), (2571, 0.01760203934205174), (2572, 0.0), (2573, 0.0), (2574, 0.017759543489213308), (2575, 0.0), (2576, 0.0), (2577, 0.0), (2578, 0.017029501272789575), (2579, 0.0), (2580, 0.0556161127520076), (2581, 0.0), (2582, 0.0), (2583, 0.0), (2584, 0.0), (2585, 0.020281491508718153), (2586, 0.0), (2587, 0.0), (2588, 0.03350987680592368), (2589, 0.0), (2590, 0.0), (2591, 0.0326901651631283), (2592, 0.0), (2593, 0.0), (2594, 0.0), (2595, 0.0), (2596, 0.0), (2597, 0.03142707566027301), (2598, 0.06765536172841968), (2599, 0.0), (2600, 0.0), (2601, 0.0), (2602, 0.0), (2603, 0.0), (2604, 0.0), (2605, 0.0), (2606, 0.0), (2607, 0.0), (2608, 0.07123037171108712), (2609, 0.0), (2610, 0.0), (2611, 0.0), (2612, 0.0), (2613, 0.0), (2614, 0.0), (2615, 0.0), (2616, 0.0), (2617, 0.03212549123910773), (2618, 0.017351558925514377), (2619, 0.0), (2620, 0.0), (2621, 0.0), (2622, 0.030914168751241967), (2623, 0.0), (2624, 0.039870650647447034), (2625, 0.0), (2626, 0.0), (2627, 0.031348302844581954), (2628, 0.0), (2629, 0.0), (2630, 0.0), (2631, 0.0), (2632, 0.0), (2633, 0.0), (2634, 0.0), (2635, 0.0), (2636, 0.0), (2637, 0.0), (2638, 0.0), (2639, 0.0), (2640, 0.0), (2641, 0.0), (2642, 0.0), (2643, 0.0), (2644, 0.0), (2645, 0.0), (2646, 0.0), (2647, 0.0), (2648, 0.0), (2649, 0.0), (2650, 0.018928855341953814), (2651, 0.0), (2652, 0.0), (2653, 0.0), (2654, 0.0), (2655, 0.0), (2656, 0.0), (2657, 0.0), (2658, 0.03699852966582755), (2659, 0.0), (2660, 0.022900859344061282), (2661, 0.0), (2662, 0.0), (2663, 0.0), (2664, 0.0), (2665, 0.0), (2666, 0.0), (2667, 0.0), (2668, 0.025739103862513445), (2669, 0.0), (2670, 0.0), (2671, 0.0), (2672, 0.0), (2673, 0.0), (2674, 0.0), (2675, 0.0), (2676, 0.0), (2677, 0.0), (2678, 0.0), (2679, 0.0), (2680, 0.0), (2681, 0.02093360043693667), (2682, 0.07061956281129024), (2683, 0.0), (2684, 0.0), (2685, 0.0), (2686, 0.0), (2687, 0.0), (2688, 0.0), (2689, 0.03862589409606376), (2690, 0.0), (2691, 0.034101759206859435), (2692, 0.0), (2693, 0.01959242889069046), (2694, 0.0), (2695, 0.0), (2696, 0.0), (2697, 0.0), (2698, 0.0), (2699, 0.03781662562680789), (2700, 0.0), (2701, 0.0), (2702, 0.0), (2703, 0.0), (2704, 0.0), (2705, 0.0), (2706, 0.0), (2707, 0.0), (2708, 0.0), (2709, 0.0), (2710, 0.0), (2711, 0.0), (2712, 0.053513008525133084), (2713, 0.0), (2714, 0.0), (2715, 0.0), (2716, 0.0), (2717, 0.0), (2718, 0.0), (2719, 0.0), (2720, 0.0), (2721, 0.0), (2722, 0.0), (2723, 0.0), (2724, 0.0), (2725, 0.0), (2726, 0.0), (2727, 0.0), (2728, 0.019819422546496268), (2729, 0.0), (2730, 0.0), (2731, 0.0), (2732, 0.0), (2733, 0.0), (2734, 0.0), (2735, 0.0), (2736, 0.017347629363488184), (2737, 0.0), (2738, 0.0), (2739, 0.019993548315904667), (2740, 0.0), (2741, 0.0), (2742, 0.0), (2743, 0.0), (2744, 0.0), (2745, 0.0), (2746, 0.01852430734105249), (2747, 0.0), (2748, 0.0), (2749, 0.0), (2750, 0.022451368786166215), (2751, 0.0), (2752, 0.0), (2753, 0.0), (2754, 0.0), (2755, 0.0), (2756, 0.0), (2757, 0.0), (2758, 0.0), (2759, 0.017752697872886962), (2760, 0.0), (2761, 0.0), (2762, 0.06536771620252106), (2763, 0.0), (2764, 0.0), (2765, 0.0), (2766, 0.057165262948742065), (2767, 0.0), (2768, 0.0), (2769, 0.0), (2770, 0.0), (2771, 0.0), (2772, 0.0), (2773, 0.0), (2774, 0.0), (2775, 0.0), (2776, 0.0), (2777, 0.0), (2778, 0.0), (2779, 0.0), (2780, 0.0), (2781, 0.0), (2782, 0.0), (2783, 0.0), (2784, 0.0), (2785, 0.0), (2786, 0.0), (2787, 0.0), (2788, 0.0), (2789, 0.0), (2790, 0.05603032397493255), (2791, 0.01996918265975465), (2792, 0.0), (2793, 0.0), (2794, 0.0), (2795, 0.0), (2796, 0.0), (2797, 0.0), (2798, 0.0), (2799, 0.0), (2800, 0.0), (2801, 0.015628561759063526), (2802, 0.0), (2803, 0.0), (2804, 0.04063273319308176), (2805, 0.015931540661714882), (2806, 0.0), (2807, 0.0), (2808, 0.0), (2809, 0.0), (2810, 0.0), (2811, 0.0), (2812, 0.0), (2813, 0.0), (2814, 0.0), (2815, 0.0), (2816, 0.0), (2817, 0.0), (2818, 0.0), (2819, 0.019299939039661807), (2820, 0.0), (2821, 0.01934124150648701), (2822, 0.0), (2823, 0.0), (2824, 0.0), (2825, 0.0), (2826, 0.0), (2827, 0.016947794925639418), (2828, 0.0), (2829, 0.0), (2830, 0.0), (2831, 0.0), (2832, 0.0), (2833, 0.0), (2834, 0.0), (2835, 0.0), (2836, 0.0), (2837, 0.0), (2838, 0.0), (2839, 0.02010664186366629), (2840, 0.0), (2841, 0.012162102963617171), (2842, 0.015751744389660552), (2843, 0.02260103969274506), (2844, 0.0), (2845, 0.0875863612570148), (2846, 0.0), (2847, 0.0), (2848, 0.02473910551234144), (2849, 0.0), (2850, 0.0), (2851, 0.038491065463006645), (2852, 0.0), (2853, 0.018127538476045493), (2854, 0.0), (2855, 0.0), (2856, 0.0), (2857, 0.0), (2858, 0.0), (2859, 0.030699391787677003), (2860, 0.0), (2861, 0.0), (2862, 0.0), (2863, 0.0), (2864, 0.0), (2865, 0.0), (2866, 0.0), (2867, 0.0), (2868, 0.0), (2869, 0.023585682989331627), (2870, 0.0), (2871, 0.0), (2872, 0.0), (2873, 0.0), (2874, 0.03304650288929242), (2875, 0.0), (2876, 0.0), (2877, 0.0), (2878, 0.0), (2879, 0.0), (2880, 0.0), (2881, 0.0), (2882, 0.0), (2883, 0.0), (2884, 0.0), (2885, 0.0), (2886, 0.0), (2887, 0.0), (2888, 0.0), (2889, 0.0), (2890, 0.0), (2891, 0.0), (2892, 0.0), (2893, 0.0), (2894, 0.018696141768541234), (2895, 0.0), (2896, 0.0), (2897, 0.0), (2898, 0.0), (2899, 0.03425285425970691), (2900, 0.0), (2901, 0.0), (2902, 0.0), (2903, 0.0), (2904, 0.0), (2905, 0.019746677340726815), (2906, 0.0), (2907, 0.0), (2908, 0.014640736998450653), (2909, 0.02123596018238882), (2910, 0.0), (2911, 0.0), (2912, 0.0), (2913, 0.0), (2914, 0.0), (2915, 0.0), (2916, 0.0), (2917, 0.0), (2918, 0.0), (2919, 0.0887426759175475), (2920, 0.0), (2921, 0.0), (2922, 0.0), (2923, 0.0), (2924, 0.021129116209341603), (2925, 0.0), (2926, 0.0), (2927, 0.0), (2928, 0.0), (2929, 0.036228320833258), (2930, 0.0), (2931, 0.016480409152140673), (2932, 0.0), (2933, 0.0), (2934, 0.0), (2935, 0.0), (2936, 0.0), (2937, 0.0), (2938, 0.0), (2939, 0.0), (2940, 0.0), (2941, 0.0), (2942, 0.0), (2943, 0.0), (2944, 0.0), (2945, 0.0), (2946, 0.0), (2947, 0.0), (2948, 0.0), (2949, 0.01946639612966508), (2950, 0.0), (2951, 0.0), (2952, 0.0), (2953, 0.0), (2954, 0.0), (2955, 0.0), (2956, 0.0), (2957, 0.0), (2958, 0.0), (2959, 0.0), (2960, 0.0), (2961, 0.0), (2962, 0.0), (2963, 0.0), (2964, 0.0), (2965, 0.0), (2966, 0.0), (2967, 0.0), (2968, 0.019886239888794875), (2969, 0.0), (2970, 0.0), (2971, 0.0), (2972, 0.0), (2973, 0.0), (2974, 0.0), (2975, 0.028447865021723535), (2976, 0.0), (2977, 0.0), (2978, 0.039620363263739494), (2979, 0.0), (2980, 0.0), (2981, 0.06407628497145687), (2982, 0.0), (2983, 0.0), (2984, 0.0), (2985, 0.0), (2986, 0.0), (2987, 0.0), (2988, 0.018790627293050005), (2989, 0.0), (2990, 0.0), (2991, 0.0), (2992, 0.037874687733339366), (2993, 0.0), (2994, 0.0), (2995, 0.06647788068500421), (2996, 0.0), (2997, 0.0), (2998, 0.0), (2999, 0.0), (3000, 0.050685252559974324), (3001, 0.0), (3002, 0.0), (3003, 0.0), (3004, 0.0), (3005, 0.03682823120854302), (3006, 0.01909001494904286), (3007, 0.0), (3008, 0.0), (3009, 0.0), (3010, 0.017568411566726817), (3011, 0.017592899683577995), (3012, 0.0), (3013, 0.0), (3014, 0.0), (3015, 0.0), (3016, 0.04170047703550661), (3017, 0.0), (3018, 0.0), (3019, 0.0), (3020, 0.0), (3021, 0.0), (3022, 0.0), (3023, 0.0), (3024, 0.0), (3025, 0.023442009264391914), (3026, 0.0), (3027, 0.0), (3028, 0.0), (3029, 0.019952159756538756), (3030, 0.0), (3031, 0.0), (3032, 0.0), (3033, 0.0), (3034, 0.0), (3035, 0.0), (3036, 0.0), (3037, 0.0), (3038, 0.0), (3039, 0.0), (3040, 0.0), (3041, 0.0), (3042, 0.0), (3043, 0.0), (3044, 0.0), (3045, 0.017981268508584742), (3046, 0.0), (3047, 0.0), (3048, 0.0), (3049, 0.0), (3050, 0.0), (3051, 0.0), (3052, 0.0), (3053, 0.0), (3054, 0.0), (3055, 0.0), (3056, 0.0), (3057, 0.0), (3058, 0.0), (3059, 0.0), (3060, 0.0), (3061, 0.0), (3062, 0.0), (3063, 0.0), (3064, 0.0), (3065, 0.0), (3066, 0.0), (3067, 0.0), (3068, 0.03116424490038678), (3069, 0.0), (3070, 0.0), (3071, 0.036128240149854614), (3072, 0.0), (3073, 0.08007068775130248), (3074, 0.0), (3075, 0.0), (3076, 0.0), (3077, 0.017205203643746236), (3078, 0.0), (3079, 0.0), (3080, 0.0), (3081, 0.0), (3082, 0.0), (3083, 0.050808670492067616), (3084, 0.0), (3085, 0.03480935459565602), (3086, 0.0), (3087, 0.0), (3088, 0.0), (3089, 0.0), (3090, 0.0), (3091, 0.0), (3092, 0.01968218328186124), (3093, 0.0), (3094, 0.0), (3095, 0.02175916201016488), (3096, 0.0), (3097, 0.0), (3098, 0.018489342736767216), (3099, 0.02915528548585639), (3100, 0.0), (3101, 0.02012816794883133), (3102, 0.018568428523222706), (3103, 0.0), (3104, 0.024956922520410808), (3105, 0.0), (3106, 0.0), (3107, 0.03976632819326384), (3108, 0.0), (3109, 0.0), (3110, 0.0), (3111, 0.016306185668997174), (3112, 0.0), (3113, 0.0), (3114, 0.0), (3115, 0.0), (3116, 0.0), (3117, 0.020885895944620588), (3118, 0.0), (3119, 0.0), (3120, 0.0), (3121, 0.0), (3122, 0.0), (3123, 0.0), (3124, 0.0), (3125, 0.0), (3126, 0.0), (3127, 0.0), (3128, 0.0), (3129, 0.043473044276276254), (3130, 0.0), (3131, 0.0), (3132, 0.0), (3133, 0.0), (3134, 0.0), (3135, 0.0), (3136, 0.0), (3137, 0.0), (3138, 0.0), (3139, 0.0), (3140, 0.0), (3141, 0.017552587427768416), (3142, 0.08118918544369161), (3143, 0.0), (3144, 0.014170533675418089), (3145, 0.024725521278216648), (3146, 0.0), (3147, 0.016960750259226026), (3148, 0.0), (3149, 0.035146501473987554), (3150, 0.0), (3151, 0.0), (3152, 0.024413155625457806), (3153, 0.0), (3154, 0.0), (3155, 0.0), (3156, 0.0), (3157, 0.0), (3158, 0.0), (3159, 0.0), (3160, 0.030806432845059777), (3161, 0.0), (3162, 0.0), (3163, 0.0), (3164, 0.0), (3165, 0.0), (3166, 0.0), (3167, 0.01631591011179551), (3168, 0.0), (3169, 0.0), (3170, 0.0), (3171, 0.0), (3172, 0.0), (3173, 0.0), (3174, 0.0), (3175, 0.019522720366317962), (3176, 0.04631078872538712), (3177, 0.0), (3178, 0.0), (3179, 0.037415408577461236), (3180, 0.0), (3181, 0.0), (3182, 0.02064614560015952), (3183, 0.0), (3184, 0.0), (3185, 0.0), (3186, 0.023077286723342794), (3187, 0.0), (3188, 0.018198054802586065), (3189, 0.0), (3190, 0.0), (3191, 0.0), (3192, 0.0), (3193, 0.030417796520010948), (3194, 0.0), (3195, 0.0), (3196, 0.0), (3197, 0.0), (3198, 0.0), (3199, 0.0), (3200, 0.03095990759391123), (3201, 0.0), (3202, 0.0), (3203, 0.0), (3204, 0.0), (3205, 0.0), (3206, 0.0), (3207, 0.0), (3208, 0.0), (3209, 0.0), (3210, 0.0), (3211, 0.05271786603000715), (3212, 0.0), (3213, 0.0), (3214, 0.0), (3215, 0.0), (3216, 0.0), (3217, 0.0), (3218, 0.0), (3219, 0.0), (3220, 0.0), (3221, 0.0), (3222, 0.015867939114184746), (3223, 0.0), (3224, 0.0), (3225, 0.018669689773980036), (3226, 0.0), (3227, 0.0), (3228, 0.0), (3229, 0.0), (3230, 0.0), (3231, 0.0), (3232, 0.0), (3233, 0.0), (3234, 0.01991419167655359), (3235, 0.0), (3236, 0.0), (3237, 0.0), (3238, 0.0), (3239, 0.0), (3240, 0.0), (3241, 0.0), (3242, 0.0), (3243, 0.03412734000404146), (3244, 0.0), (3245, 0.0), (3246, 0.0), (3247, 0.0), (3248, 0.0), (3249, 0.0), (3250, 0.0), (3251, 0.02179882218600357), (3252, 0.0), (3253, 0.0), (3254, 0.0), (3255, 0.024243873050631116), (3256, 0.0), (3257, 0.0), (3258, 0.0), (3259, 0.0), (3260, 0.0), (3261, 0.038119846982316345), (3262, 0.0), (3263, 0.022172573808807546), (3264, 0.0), (3265, 0.0), (3266, 0.0), (3267, 0.0), (3268, 0.0), (3269, 0.0), (3270, 0.0), (3271, 0.0), (3272, 0.0), (3273, 0.0), (3274, 0.0), (3275, 0.0), (3276, 0.0), (3277, 0.0), (3278, 0.0), (3279, 0.031222950458971367), (3280, 0.0), (3281, 0.0), (3282, 0.0), (3283, 0.0), (3284, 0.0), (3285, 0.0574586119060404), (3286, 0.0), (3287, 0.0), (3288, 0.0), (3289, 0.037342269124151325), (3290, 0.0), (3291, 0.0), (3292, 0.0), (3293, 0.0), (3294, 0.0), (3295, 0.0), (3296, 0.0), (3297, 0.0387176390767533), (3298, 0.0), (3299, 0.0), (3300, 0.0), (3301, 0.0), (3302, 0.0), (3303, 0.0), (3304, 0.0), (3305, 0.0), (3306, 0.0), (3307, 0.0), (3308, 0.021568974994330633), (3309, 0.0), (3310, 0.04023833661939458), (3311, 0.0), (3312, 0.0), (3313, 0.0), (3314, 0.0), (3315, 0.05816506200793897), (3316, 0.0), (3317, 0.0), (3318, 0.03284002850337368), (3319, 0.0), (3320, 0.0), (3321, 0.0), (3322, 0.0), (3323, 0.0), (3324, 0.0), (3325, 0.0), (3326, 0.0), (3327, 0.0), (3328, 0.023949958487052603), (3329, 0.016655756371496133), (3330, 0.0), (3331, 0.0), (3332, 0.0), (3333, 1.0000000000000002), (3334, 0.0), (3335, 0.01840787392168145), (3336, 0.03279673726743975), (3337, 0.0), (3338, 0.02914661416514387), (3339, 0.0), (3340, 0.0), (3341, 0.0), (3342, 0.0), (3343, 0.0), (3344, 0.030945121188742146), (3345, 0.022218748496456553), (3346, 0.0), (3347, 0.0), (3348, 0.0), (3349, 0.0), (3350, 0.0), (3351, 0.0), (3352, 0.017520250346737206), (3353, 0.0), (3354, 0.0), (3355, 0.0), (3356, 0.03322177612416714), (3357, 0.0), (3358, 0.0), (3359, 0.03814614595279651), (3360, 0.01618328669737637), (3361, 0.0), (3362, 0.028853309921355336), (3363, 0.0), (3364, 0.0), (3365, 0.0), (3366, 0.0), (3367, 0.0), (3368, 0.0), (3369, 0.03746827351327388), (3370, 0.0), (3371, 0.036310056986276484), (3372, 0.0), (3373, 0.0), (3374, 0.0), (3375, 0.019647818468971165), (3376, 0.0), (3377, 0.04263828775012061), (3378, 0.0), (3379, 0.0), (3380, 0.03234559531922353), (3381, 0.018804382195802802), (3382, 0.0), (3383, 0.0), (3384, 0.0), (3385, 0.0), (3386, 0.018460114519565737), (3387, 0.020118763086177528), (3388, 0.0), (3389, 0.016755990876835967), (3390, 0.0), (3391, 0.0), (3392, 0.02657334134426209), (3393, 0.0), (3394, 0.03177724517879746), (3395, 0.0), (3396, 0.0), (3397, 0.0), (3398, 0.0), (3399, 0.0), (3400, 0.0), (3401, 0.021572879303923858), (3402, 0.0), (3403, 0.0), (3404, 0.0), (3405, 0.0), (3406, 0.04220676391364406), (3407, 0.0), (3408, 0.021068689735734232), (3409, 0.0), (3410, 0.0), (3411, 0.0), (3412, 0.0), (3413, 0.024446107872919804), (3414, 0.0), (3415, 0.0), (3416, 0.0), (3417, 0.0), (3418, 0.018470403922244073), (3419, 0.0), (3420, 0.01762083301914978), (3421, 0.026685126576468866), (3422, 0.0), (3423, 0.0), (3424, 0.0), (3425, 0.0), (3426, 0.0), (3427, 0.0), (3428, 0.04508638206835031), (3429, 0.0), (3430, 0.016940995239785477), (3431, 0.0), (3432, 0.0), (3433, 0.03430941735662643), (3434, 0.0), (3435, 0.018041740886100076), (3436, 0.0), (3437, 0.0), (3438, 0.0), (3439, 0.0), (3440, 0.0), (3441, 0.0), (3442, 0.0), (3443, 0.04006563906121108), (3444, 0.0), (3445, 0.0), (3446, 0.0), (3447, 0.0), (3448, 0.0), (3449, 0.03847588981114864), (3450, 0.0), (3451, 0.0), (3452, 0.0), (3453, 0.02751474174820854), (3454, 0.0), (3455, 0.0), (3456, 0.0), (3457, 0.0), (3458, 0.012481802112131698), (3459, 0.0), (3460, 0.016753155451611657), (3461, 0.0), (3462, 0.0), (3463, 0.01879382490482948), (3464, 0.0), (3465, 0.0), (3466, 0.01715134077974315), (3467, 0.0), (3468, 0.0), (3469, 0.0), (3470, 0.0), (3471, 0.04054781885134283), (3472, 0.0), (3473, 0.0), (3474, 0.01655484609309654), (3475, 0.0), (3476, 0.0), (3477, 0.0), (3478, 0.0), (3479, 0.0), (3480, 0.0), (3481, 0.0), (3482, 0.0), (3483, 0.0), (3484, 0.0), (3485, 0.0), (3486, 0.0), (3487, 0.0), (3488, 0.0), (3489, 0.0), (3490, 0.0), (3491, 0.0), (3492, 0.0), (3493, 0.0), (3494, 0.0), (3495, 0.0), (3496, 0.0), (3497, 0.0), (3498, 0.05561896617182954), (3499, 0.0), (3500, 0.03768588500577995), (3501, 0.0), (3502, 0.0), (3503, 0.0), (3504, 0.0), (3505, 0.0), (3506, 0.0), (3507, 0.0), (3508, 0.0), (3509, 0.018891270298834223), (3510, 0.019640997034124776), (3511, 0.021424069686055192), (3512, 0.0), (3513, 0.0), (3514, 0.0), (3515, 0.0), (3516, 0.02204236516538586), (3517, 0.0), (3518, 0.0), (3519, 0.0), (3520, 0.0), (3521, 0.0), (3522, 0.0), (3523, 0.0), (3524, 0.021435446183563817), (3525, 0.0), (3526, 0.0), (3527, 0.0), (3528, 0.01678273578291276), (3529, 0.0), (3530, 0.0), (3531, 0.0), (3532, 0.037739133926795475), (3533, 0.03538639492754549), (3534, 0.0), (3535, 0.0), (3536, 0.0), (3537, 0.02700752363142482), (3538, 0.0), (3539, 0.0), (3540, 0.0), (3541, 0.0), (3542, 0.0), (3543, 0.0), (3544, 0.0), (3545, 0.0), (3546, 0.0), (3547, 0.0), (3548, 0.0), (3549, 0.0), (3550, 0.0), (3551, 0.0), (3552, 0.0), (3553, 0.03209241336027846), (3554, 0.0), (3555, 0.0), (3556, 0.0), (3557, 0.0), (3558, 0.0), (3559, 0.0), (3560, 0.0), (3561, 0.0), (3562, 0.0), (3563, 0.0), (3564, 0.06541176006695115), (3565, 0.0), (3566, 0.0), (3567, 0.0), (3568, 0.0), (3569, 0.0), (3570, 0.0), (3571, 0.0), (3572, 0.0), (3573, 0.02225830262212227), (3574, 0.0), (3575, 0.0), (3576, 0.0), (3577, 0.0), (3578, 0.0), (3579, 0.0), (3580, 0.017849743490667067), (3581, 0.0), (3582, 0.0), (3583, 0.0), (3584, 0.0), (3585, 0.018549212856900112), (3586, 0.0), (3587, 0.0), (3588, 0.0), (3589, 0.0), (3590, 0.0), (3591, 0.0), (3592, 0.0), (3593, 0.0), (3594, 0.0), (3595, 0.0), (3596, 0.0), (3597, 0.018645729246390418), (3598, 0.0), (3599, 0.0), (3600, 0.0), (3601, 0.0), (3602, 0.0), (3603, 0.0), (3604, 0.0), (3605, 0.0), (3606, 0.0), (3607, 0.0), (3608, 0.0), (3609, 0.0), (3610, 0.0), (3611, 0.02070066972781646), (3612, 0.021782482566942762), (3613, 0.0), (3614, 0.06596225088482467), (3615, 0.0), (3616, 0.0), (3617, 0.0), (3618, 0.0), (3619, 0.0178566325981965), (3620, 0.0), (3621, 0.0), (3622, 0.0), (3623, 0.0), (3624, 0.0), (3625, 0.0), (3626, 0.0), (3627, 0.0), (3628, 0.0), (3629, 0.0), (3630, 0.0), (3631, 0.0), (3632, 0.0), (3633, 0.0), (3634, 0.0), (3635, 0.0), (3636, 0.0), (3637, 0.01593268528246159), (3638, 0.0), (3639, 0.0), (3640, 0.0), (3641, 0.0), (3642, 0.05761452743584211), (3643, 0.0), (3644, 0.0), (3645, 0.016412129866877272), (3646, 0.0), (3647, 0.0), (3648, 0.0), (3649, 0.0), (3650, 0.018460429423711823), (3651, 0.0), (3652, 0.0), (3653, 0.0), (3654, 0.0), (3655, 0.0), (3656, 0.0), (3657, 0.0), (3658, 0.03403541109800529), (3659, 0.01985642449974443), (3660, 0.0), (3661, 0.0), (3662, 0.0), (3663, 0.04584074050679569), (3664, 0.0), (3665, 0.03552145178971372), (3666, 0.0), (3667, 0.0), (3668, 0.0), (3669, 0.0), (3670, 0.0), (3671, 0.0), (3672, 0.0), (3673, 0.0), (3674, 0.0), (3675, 0.0), (3676, 0.0), (3677, 0.0), (3678, 0.0), (3679, 0.0), (3680, 0.0), (3681, 0.0), (3682, 0.021131269374254292), (3683, 0.0), (3684, 0.027150843822398397), (3685, 0.0), (3686, 0.0), (3687, 0.0), (3688, 0.0), (3689, 0.0), (3690, 0.0), (3691, 0.0), (3692, 0.0), (3693, 0.0), (3694, 0.0), (3695, 0.0), (3696, 0.0), (3697, 0.0), (3698, 0.0), (3699, 0.0), (3700, 0.0), (3701, 0.0), (3702, 0.0), (3703, 0.0), (3704, 0.0), (3705, 0.0), (3706, 0.0), (3707, 0.020627751068478917), (3708, 0.0), (3709, 0.01983734868385583), (3710, 0.0), (3711, 0.0), (3712, 0.03847745851304127), (3713, 0.0), (3714, 0.0), (3715, 0.0), (3716, 0.0), (3717, 0.02763641735695441), (3718, 0.0), (3719, 0.0), (3720, 0.0), (3721, 0.0), (3722, 0.0), (3723, 0.0), (3724, 0.0), (3725, 0.0), (3726, 0.0), (3727, 0.0), (3728, 0.0), (3729, 0.0), (3730, 0.0), (3731, 0.0), (3732, 0.0), (3733, 0.0), (3734, 0.0), (3735, 0.0), (3736, 0.0), (3737, 0.0), (3738, 0.01666419097002899), (3739, 0.0), (3740, 0.0), (3741, 0.0), (3742, 0.0), (3743, 0.0), (3744, 0.0), (3745, 0.0), (3746, 0.0), (3747, 0.019242456858147572), (3748, 0.0), (3749, 0.0), (3750, 0.012869810665666335), (3751, 0.0), (3752, 0.0), (3753, 0.0), (3754, 0.0), (3755, 0.0), (3756, 0.0), (3757, 0.0), (3758, 0.0), (3759, 0.0), (3760, 0.03394826705363741), (3761, 0.0), (3762, 0.0), (3763, 0.0), (3764, 0.018805995577167566), (3765, 0.0), (3766, 0.0), (3767, 0.0), (3768, 0.0), (3769, 0.0), (3770, 0.0), (3771, 0.0), (3772, 0.0), (3773, 0.0), (3774, 0.019509044595311845), (3775, 0.0), (3776, 0.0), (3777, 0.0), (3778, 0.0), (3779, 0.0), (3780, 0.02164011918254534), (3781, 0.0), (3782, 0.0), (3783, 0.0), (3784, 0.0), (3785, 0.0), (3786, 0.0), (3787, 0.0), (3788, 0.0), (3789, 0.0), (3790, 0.0), (3791, 0.0), (3792, 0.0), (3793, 0.0), (3794, 0.0), (3795, 0.0), (3796, 0.0), (3797, 0.02016085590481821), (3798, 0.0), (3799, 0.0), (3800, 0.0), (3801, 0.0), (3802, 0.019949255598938686), (3803, 0.0), (3804, 0.0), (3805, 0.0), (3806, 0.015369837774474194), (3807, 0.018123294015426096), (3808, 0.0), (3809, 0.0), (3810, 0.0), (3811, 0.0), (3812, 0.0), (3813, 0.0), (3814, 0.017919983202871265), (3815, 0.0), (3816, 0.0), (3817, 0.0), (3818, 0.0), (3819, 0.0), (3820, 0.0), (3821, 0.0), (3822, 0.0), (3823, 0.0), (3824, 0.0), (3825, 0.017183216732180397), (3826, 0.0), (3827, 0.0), (3828, 0.0), (3829, 0.0), (3830, 0.03281810923061258), (3831, 0.035508662584705225), (3832, 0.0), (3833, 0.0726204561132196), (3834, 0.0), (3835, 0.0), (3836, 0.0), (3837, 0.0), (3838, 0.021296928568069855), (3839, 0.036888247570862405), (3840, 0.0), (3841, 0.0), (3842, 0.01658241700403322), (3843, 0.0), (3844, 0.0), (3845, 0.022711506989513068), (3846, 0.0), (3847, 0.018869346814559398), (3848, 0.0), (3849, 0.021050767706783304), (3850, 0.0), (3851, 0.0), (3852, 0.0), (3853, 0.0344055177009183), (3854, 0.0), (3855, 0.0), (3856, 0.049148675501287625), (3857, 0.02023555651753407), (3858, 0.0), (3859, 0.0), (3860, 0.0), (3861, 0.0), (3862, 0.0), (3863, 0.0), (3864, 0.0), (3865, 0.0), (3866, 0.0), (3867, 0.0), (3868, 0.017432317882951506), (3869, 0.0), (3870, 0.0), (3871, 0.0), (3872, 0.017556082286597892), (3873, 0.0), (3874, 0.0), (3875, 0.0), (3876, 0.03008812482418359), (3877, 0.022565737620636298), (3878, 0.0), (3879, 0.01973200854079028), (3880, 0.0), (3881, 0.0), (3882, 0.02142044324042526), (3883, 0.0), (3884, 0.0), (3885, 0.0), (3886, 0.0), (3887, 0.019067680660518026), (3888, 0.0), (3889, 0.01975859776257816), (3890, 0.0), (3891, 0.0180228098006513), (3892, 0.0), (3893, 0.0), (3894, 0.0), (3895, 0.0), (3896, 0.0), (3897, 0.0), (3898, 0.038547223398659985), (3899, 0.0), (3900, 0.0), (3901, 0.0), (3902, 0.0), (3903, 0.0), (3904, 0.0), (3905, 0.0), (3906, 0.0), (3907, 0.0), (3908, 0.0), (3909, 0.033220315242902705), (3910, 0.0159949573647797), (3911, 0.0), (3912, 0.0), (3913, 0.0), (3914, 0.0), (3915, 0.019788750079253896), (3916, 0.0), (3917, 0.0), (3918, 0.047704101762952034), (3919, 0.01904525324541182), (3920, 0.0), (3921, 0.0), (3922, 0.0), (3923, 0.0), (3924, 0.0), (3925, 0.0), (3926, 0.0), (3927, 0.033810264175833105), (3928, 0.015897374214334514), (3929, 0.018598369706424908), (3930, 0.0), (3931, 0.0), (3932, 0.0), (3933, 0.0), (3934, 0.0), (3935, 0.0), (3936, 0.0), (3937, 0.0), (3938, 0.019753788048493894), (3939, 0.0), (3940, 0.0), (3941, 0.0), (3942, 0.0), (3943, 0.0), (3944, 0.0), (3945, 0.0), (3946, 0.0), (3947, 0.0), (3948, 0.0), (3949, 0.0), (3950, 0.0), (3951, 0.0), (3952, 0.0), (3953, 0.0), (3954, 0.0), (3955, 0.0), (3956, 0.05477305181310336), (3957, 0.016705497387042672), (3958, 0.01562368670090047), (3959, 0.0), (3960, 0.0), (3961, 0.0), (3962, 0.0), (3963, 0.0), (3964, 0.0), (3965, 0.017399748244561725), (3966, 0.0), (3967, 0.0), (3968, 0.0), (3969, 0.0), (3970, 0.0), (3971, 0.0), (3972, 0.0), (3973, 0.021578740468560377), (3974, 0.0), (3975, 0.0), (3976, 0.0403936222411138), (3977, 0.0), (3978, 0.0), (3979, 0.0), (3980, 0.0), (3981, 0.12866171341003277), (3982, 0.0), (3983, 0.03932527936829911), (3984, 0.0), (3985, 0.04875103937062668), (3986, 0.0), (3987, 0.0), (3988, 0.0), (3989, 0.02608617752587489), (3990, 0.0), (3991, 0.0), (3992, 0.028276956957972277), (3993, 0.0), (3994, 0.0), (3995, 0.0), (3996, 0.0), (3997, 0.0), (3998, 0.0), (3999, 0.0), (4000, 0.0), (4001, 0.0), (4002, 0.0), (4003, 0.0), (4004, 0.0), (4005, 0.0), (4006, 0.01820808827171866), (4007, 0.0), (4008, 0.0), (4009, 0.0), (4010, 0.0), (4011, 0.0), (4012, 0.0), (4013, 0.022065918193644136), (4014, 0.0), (4015, 0.0), (4016, 0.0), (4017, 0.0), (4018, 0.015528343914148767), (4019, 0.0), (4020, 0.017873489527849677), (4021, 0.0), (4022, 0.03453788893338568), (4023, 0.042048996518795324), (4024, 0.0), (4025, 0.0), (4026, 0.0), (4027, 0.021491378532810496), (4028, 0.022143789661434595), (4029, 0.017854313893161864), (4030, 0.0), (4031, 0.0), (4032, 0.0), (4033, 0.0), (4034, 0.0), (4035, 0.0), (4036, 0.0), (4037, 0.0), (4038, 0.0), (4039, 0.0), (4040, 0.0), (4041, 0.03315322938629651), (4042, 0.0), (4043, 0.0), (4044, 0.0), (4045, 0.019247470885269777), (4046, 0.0), (4047, 0.0), (4048, 0.0), (4049, 0.0), (4050, 0.020125606655182593), (4051, 0.0), (4052, 0.0), (4053, 0.05524918652614941), (4054, 0.0), (4055, 0.02256297903399562), (4056, 0.018120372469803817), (4057, 0.039151435709617356), (4058, 0.0), (4059, 0.01703763206688177), (4060, 0.0), (4061, 0.0), (4062, 0.0), (4063, 0.01681358650104616), (4064, 0.0), (4065, 0.05641752928271538), (4066, 0.0), (4067, 0.05470632201207153), (4068, 0.0), (4069, 0.0), (4070, 0.0), (4071, 0.0), (4072, 0.01731092821872972), (4073, 0.0), (4074, 0.016395658690704206), (4075, 0.0), (4076, 0.0), (4077, 0.0), (4078, 0.0), (4079, 0.0), (4080, 0.0), (4081, 0.0), (4082, 0.0), (4083, 0.0), (4084, 0.0), (4085, 0.0), (4086, 0.0), (4087, 0.0), (4088, 0.0), (4089, 0.01896984369560268), (4090, 0.0), (4091, 0.0), (4092, 0.0), (4093, 0.0), (4094, 0.0), (4095, 0.0), (4096, 0.0), (4097, 0.0), (4098, 0.025642005431403665), (4099, 0.0), (4100, 0.0), (4101, 0.0), (4102, 0.0), (4103, 0.0), (4104, 0.018040465936342696), (4105, 0.0), (4106, 0.0), (4107, 0.0), (4108, 0.0), (4109, 0.0), (4110, 0.01689083978695814), (4111, 0.0), (4112, 0.0), (4113, 0.0), (4114, 0.0), (4115, 0.06757914234795244), (4116, 0.0), (4117, 0.0), (4118, 0.0), (4119, 0.0), (4120, 0.0), (4121, 0.0), (4122, 0.0), (4123, 0.0), (4124, 0.030639522000126235), (4125, 0.01892246907293047), (4126, 0.0), (4127, 0.0), (4128, 0.0), (4129, 0.0), (4130, 0.0), (4131, 0.0), (4132, 0.0), (4133, 0.0), (4134, 0.0), (4135, 0.0), (4136, 0.0), (4137, 0.0), (4138, 0.027727902115790248), (4139, 0.0), (4140, 0.0), (4141, 0.0), (4142, 0.0), (4143, 0.0), (4144, 0.0), (4145, 0.0), (4146, 0.0), (4147, 0.0), (4148, 0.06121268182219018), (4149, 0.0), (4150, 0.02068097410255194), (4151, 0.0), (4152, 0.0), (4153, 0.033204925835971025), (4154, 0.0), (4155, 0.017405218949531728), (4156, 0.0), (4157, 0.0), (4158, 0.0), (4159, 0.03414915641618554), (4160, 0.0), (4161, 0.0), (4162, 0.0), (4163, 0.0), (4164, 0.0), (4165, 0.0), (4166, 0.0), (4167, 0.03356012267328051), (4168, 0.0), (4169, 0.019406934438745943), (4170, 0.024086006661329894), (4171, 0.013450412569845933), (4172, 0.0), (4173, 0.0), (4174, 0.0), (4175, 0.0), (4176, 0.016752449854101736), (4177, 0.01674559077780512), (4178, 0.053547738633341585), (4179, 0.02035428185564849), (4180, 0.0), (4181, 0.0), (4182, 0.02701382014926561), (4183, 0.0), (4184, 0.0), (4185, 0.0), (4186, 0.0), (4187, 0.0), (4188, 0.0), (4189, 0.03200091072882658), (4190, 0.0), (4191, 0.0), (4192, 0.0), (4193, 0.01656849354221155), (4194, 0.0), (4195, 0.0), (4196, 0.0), (4197, 0.0207485250518089), (4198, 0.0), (4199, 0.0), (4200, 0.0), (4201, 0.03408600093517411), (4202, 0.0), (4203, 0.0), (4204, 0.0), (4205, 0.0), (4206, 0.0), (4207, 0.0), (4208, 0.0), (4209, 0.0), (4210, 0.0), (4211, 0.0), (4212, 0.016140243583032822), (4213, 0.0), (4214, 0.0), (4215, 0.022451171205972762), (4216, 0.017606708654137094), (4217, 0.018381737274462545), (4218, 0.0), (4219, 0.0), (4220, 0.0), (4221, 0.0), (4222, 0.0), (4223, 0.0), (4224, 0.0), (4225, 0.0), (4226, 0.019917529084860854), (4227, 0.0), (4228, 0.0), (4229, 0.0), (4230, 0.0), (4231, 0.0), (4232, 0.021747490902549793), (4233, 0.0), (4234, 0.0), (4235, 0.0), (4236, 0.0), (4237, 0.0), (4238, 0.03824930764432818), (4239, 0.0), (4240, 0.0), (4241, 0.0), (4242, 0.0407210783234653), (4243, 0.0), (4244, 0.0), (4245, 0.03521713103536835), (4246, 0.0), (4247, 0.0), (4248, 0.0), (4249, 0.0), (4250, 0.0), (4251, 0.0), (4252, 0.0), (4253, 0.0), (4254, 0.0), (4255, 0.0), (4256, 0.026546142373879113), (4257, 0.0), (4258, 0.0), (4259, 0.0), (4260, 0.0), (4261, 0.0), (4262, 0.01891466567996116), (4263, 0.020066384321329952), (4264, 0.0), (4265, 0.0), (4266, 0.0), (4267, 0.03718201303485449), (4268, 0.0), (4269, 0.02041398122497733), (4270, 0.0), (4271, 0.02354934593764717), (4272, 0.0), (4273, 0.0), (4274, 0.01670565844887955), (4275, 0.018890110857523425), (4276, 0.0), (4277, 0.0), (4278, 0.0), (4279, 0.0), (4280, 0.0), (4281, 0.02105673948620882), (4282, 0.0), (4283, 0.0), (4284, 0.0), (4285, 0.0), (4286, 0.05778669161313137), (4287, 0.0), (4288, 0.03707148663655496), (4289, 0.0), (4290, 0.0), (4291, 0.0), (4292, 0.017165396754672248), (4293, 0.0), (4294, 0.0), (4295, 0.0), (4296, 0.0), (4297, 0.0), (4298, 0.0), (4299, 0.07032999137564422), (4300, 0.0), (4301, 0.01411998317922283), (4302, 0.0), (4303, 0.0), (4304, 0.016351537377568663), (4305, 0.0), (4306, 0.0), (4307, 0.0), (4308, 0.0), (4309, 0.017782108240285366), (4310, 0.0), (4311, 0.0), (4312, 0.0), (4313, 0.0), (4314, 0.0), (4315, 0.0), (4316, 0.0), (4317, 0.0), (4318, 0.0), (4319, 0.0), (4320, 0.0), (4321, 0.034690231482245384), (4322, 0.0), (4323, 0.034107466655761476), (4324, 0.020197060339781785), (4325, 0.02901775757750406), (4326, 0.0), (4327, 0.01775529852522277), (4328, 0.0), (4329, 0.018706866379013726), (4330, 0.0), (4331, 0.0), (4332, 0.0), (4333, 0.0), (4334, 0.0), (4335, 0.0), (4336, 0.0), (4337, 0.02022921648134127), (4338, 0.0), (4339, 0.0), (4340, 0.0), (4341, 0.0), (4342, 0.0), (4343, 0.017926973454436734), (4344, 0.0), (4345, 0.0), (4346, 0.0), (4347, 0.0), (4348, 0.0), (4349, 0.0), (4350, 0.0), (4351, 0.03515110358908101), (4352, 0.0), (4353, 0.0), (4354, 0.0), (4355, 0.0), (4356, 0.0), (4357, 0.0), (4358, 0.0), (4359, 0.033266476235579205), (4360, 0.0), (4361, 0.0), (4362, 0.0), (4363, 0.0), (4364, 0.0), (4365, 0.0), (4366, 0.0), (4367, 0.0), (4368, 0.0), (4369, 0.020960371046555258), (4370, 0.0), (4371, 0.0), (4372, 0.0), (4373, 0.0), (4374, 0.041039690215679964), (4375, 0.0618231332976798), (4376, 0.0), (4377, 0.03323092193091527), (4378, 0.0), (4379, 0.0), (4380, 0.0), (4381, 0.0), (4382, 0.0), (4383, 0.0), (4384, 0.0), (4385, 0.0), (4386, 0.0), (4387, 0.0), (4388, 0.0), (4389, 0.03973647074642481), (4390, 0.0), (4391, 0.0), (4392, 0.0), (4393, 0.0), (4394, 0.0), (4395, 0.0), (4396, 0.0), (4397, 0.0), (4398, 0.0), (4399, 0.01721809897307254), (4400, 0.0), (4401, 0.0), (4402, 0.0), (4403, 0.023221280209038245), (4404, 0.018613492873951035), (4405, 0.0), (4406, 0.0), (4407, 0.0), (4408, 0.0), (4409, 0.0), (4410, 0.0), (4411, 0.02680178758667485), (4412, 0.0), (4413, 0.0), (4414, 0.0), (4415, 0.016549904997954386), (4416, 0.0), (4417, 0.04463676376392511), (4418, 0.0), (4419, 0.0), (4420, 0.02006793998269428), (4421, 0.0), (4422, 0.0), (4423, 0.0), (4424, 0.022159670110793724), (4425, 0.0540005807181427), (4426, 0.0), (4427, 0.018198371945896824), (4428, 0.0), (4429, 0.0), (4430, 0.0), (4431, 0.0), (4432, 0.0), (4433, 0.021234256047487216), (4434, 0.0), (4435, 0.0), (4436, 0.0), (4437, 0.02814115120097219), (4438, 0.0), (4439, 0.0), (4440, 0.041918578142345876), (4441, 0.0), (4442, 0.0), (4443, 0.0), (4444, 0.0), (4445, 0.0), (4446, 0.0), (4447, 0.0), (4448, 0.0), (4449, 0.0), (4450, 0.0), (4451, 0.0), (4452, 0.0), (4453, 0.0), (4454, 0.0), (4455, 0.0), (4456, 0.0), (4457, 0.0), (4458, 0.0), (4459, 0.0), (4460, 0.0), (4461, 0.0), (4462, 0.0), (4463, 0.0), (4464, 0.0), (4465, 0.0), (4466, 0.018971082746951418), (4467, 0.0), (4468, 0.0), (4469, 0.0), (4470, 0.0), (4471, 0.0), (4472, 0.0), (4473, 0.0), (4474, 0.0), (4475, 0.0), (4476, 0.0), (4477, 0.0), (4478, 0.0), (4479, 0.0), (4480, 0.0), (4481, 0.0), (4482, 0.018069802068055384), (4483, 0.0), (4484, 0.0), (4485, 0.019264539014833413), (4486, 0.0), (4487, 0.0), (4488, 0.0), (4489, 0.0), (4490, 0.0), (4491, 0.0), (4492, 0.0), (4493, 0.0), (4494, 0.0), (4495, 0.0), (4496, 0.0), (4497, 0.0), (4498, 0.0447922828755484), (4499, 0.0), (4500, 0.0), (4501, 0.0), (4502, 0.0), (4503, 0.0), (4504, 0.0), (4505, 0.0), (4506, 0.0), (4507, 0.0), (4508, 0.02219102360284954), (4509, 0.0), (4510, 0.0), (4511, 0.0), (4512, 0.0), (4513, 0.018011880399738674), (4514, 0.0), (4515, 0.0), (4516, 0.0), (4517, 0.018329022512878573), (4518, 0.0), (4519, 0.0), (4520, 0.0), (4521, 0.0), (4522, 0.0), (4523, 0.0), (4524, 0.0), (4525, 0.0), (4526, 0.0), (4527, 0.0), (4528, 0.0), (4529, 0.0), (4530, 0.0), (4531, 0.0), (4532, 0.0), (4533, 0.0), (4534, 0.017719482248855074), (4535, 0.0), (4536, 0.0), (4537, 0.0), (4538, 0.0), (4539, 0.0), (4540, 0.0), (4541, 0.031085427679294654), (4542, 0.018012550068453963), (4543, 0.0), (4544, 0.0), (4545, 0.0), (4546, 0.0), (4547, 0.0), (4548, 0.0), (4549, 0.0), (4550, 0.0), (4551, 0.0), (4552, 0.0), (4553, 0.0), (4554, 0.02973590526583564), (4555, 0.0), (4556, 0.0), (4557, 0.019325725186360044), (4558, 0.0), (4559, 0.0), (4560, 0.0), (4561, 0.04776160186599947), (4562, 0.0), (4563, 0.0), (4564, 0.0), (4565, 0.0), (4566, 0.0), (4567, 0.0), (4568, 0.0), (4569, 0.0), (4570, 0.0), (4571, 0.0), (4572, 0.0), (4573, 0.0), (4574, 0.0), (4575, 0.0), (4576, 0.0), (4577, 0.0), (4578, 0.05725799428367265), (4579, 0.0), (4580, 0.0), (4581, 0.0), (4582, 0.016250971736181903), (4583, 0.01840758310341958), (4584, 0.0), (4585, 0.0), (4586, 0.0), (4587, 0.017363935565023192), (4588, 0.0), (4589, 0.0), (4590, 0.0), (4591, 0.0), (4592, 0.0), (4593, 0.0), (4594, 0.0), (4595, 0.0), (4596, 0.0), (4597, 0.0), (4598, 0.028586392760882172), (4599, 0.0), (4600, 0.0), (4601, 0.0), (4602, 0.0), (4603, 0.0), (4604, 0.0), (4605, 0.0), (4606, 0.0), (4607, 0.0), (4608, 0.0), (4609, 0.0), (4610, 0.0), (4611, 0.0), (4612, 0.0), (4613, 0.0), (4614, 0.0), (4615, 0.0), (4616, 0.0), (4617, 0.0), (4618, 0.0), (4619, 0.0), (4620, 0.0), (4621, 0.06362588366390443), (4622, 0.0), (4623, 0.0), (4624, 0.0), (4625, 0.0), (4626, 0.0), (4627, 0.04923607875283862), (4628, 0.03760928654021115), (4629, 0.0), (4630, 0.0), (4631, 0.0), (4632, 0.0), (4633, 0.0), (4634, 0.0), (4635, 0.027070097202599244), (4636, 0.027306775640894135), (4637, 0.0), (4638, 0.0), (4639, 0.0), (4640, 0.0), (4641, 0.0), (4642, 0.0), (4643, 0.0), (4644, 0.05216785616884636), (4645, 0.0), (4646, 0.0), (4647, 0.0), (4648, 0.0), (4649, 0.0), (4650, 0.0), (4651, 0.014657233109245993), (4652, 0.0), (4653, 0.02227493513954473), (4654, 0.0), (4655, 0.0), (4656, 0.0), (4657, 0.0), (4658, 0.0), (4659, 0.0), (4660, 0.0), (4661, 0.0443958351447851), (4662, 0.0), (4663, 0.018642546253235425), (4664, 0.0), (4665, 0.0), (4666, 0.0), (4667, 0.0), (4668, 0.0), (4669, 0.0), (4670, 0.0), (4671, 0.058539276794333114), (4672, 0.036046305815691314), (4673, 0.024228687881718544), (4674, 0.0), (4675, 0.0), (4676, 0.0), (4677, 0.0), (4678, 0.0), (4679, 0.0), (4680, 0.0), (4681, 0.04186101504858905), (4682, 0.0), (4683, 0.018280176283435718), (4684, 0.018592062332258963), (4685, 0.0), (4686, 0.0), (4687, 0.0), (4688, 0.0), (4689, 0.0), (4690, 0.0), (4691, 0.0), (4692, 0.0), (4693, 0.0), (4694, 0.0), (4695, 0.0), (4696, 0.0), (4697, 0.0), (4698, 0.0), (4699, 0.02055596665109193), (4700, 0.0), (4701, 0.0), (4702, 0.0), (4703, 0.026811343766542983), (4704, 0.0), (4705, 0.0), (4706, 0.0), (4707, 0.0), (4708, 0.031045899843400136), (4709, 0.0), (4710, 0.0), (4711, 0.0), (4712, 0.016412214184525757), (4713, 0.0), (4714, 0.0), (4715, 0.0), (4716, 0.0), (4717, 0.0), (4718, 0.0), (4719, 0.0), (4720, 0.0), (4721, 0.02267503237102835), (4722, 0.0), (4723, 0.0), (4724, 0.0), (4725, 0.0), (4726, 0.014859065875268815), (4727, 0.0), (4728, 0.038477298564308905), (4729, 0.0), (4730, 0.0), (4731, 0.0), (4732, 0.0353180502108008), (4733, 0.0), (4734, 0.0), (4735, 0.0), (4736, 0.0), (4737, 0.0), (4738, 0.0), (4739, 0.0), (4740, 0.0), (4741, 0.0), (4742, 0.0), (4743, 0.0), (4744, 0.0), (4745, 0.0465816097104939), (4746, 0.0), (4747, 0.0), (4748, 0.0), (4749, 0.0), (4750, 0.0), (4751, 0.0), (4752, 0.0), (4753, 0.0), (4754, 0.0), (4755, 0.0), (4756, 0.0), (4757, 0.04582919185584895), (4758, 0.0), (4759, 0.023553511004977427)]\n"
          ]
        }
      ],
      "source": [
        "Recommendation_Score=list(enumerate(similarity_score[Index_of_Close_Match_Movie]))\n",
        "print(Recommendation_Score)"
      ]
    },
    {
      "cell_type": "code",
      "execution_count": 42,
      "metadata": {
        "colab": {
          "base_uri": "https://localhost:8080/"
        },
        "id": "L7zNW_ixG1Bb",
        "outputId": "41d47be2-4b08-47ad-f581-7c0892b1d6e4"
      },
      "outputs": [
        {
          "output_type": "execute_result",
          "data": {
            "text/plain": [
              "4760"
            ]
          },
          "metadata": {},
          "execution_count": 42
        }
      ],
      "source": [
        "len(Recommendation_Score)"
      ]
    },
    {
      "cell_type": "code",
      "execution_count": 43,
      "metadata": {
        "colab": {
          "base_uri": "https://localhost:8080/"
        },
        "id": "JS2KDiPLG1Bb",
        "outputId": "b124bdc4-f3c9-4dcf-f97e-92e800ee9264"
      },
      "outputs": [
        {
          "output_type": "stream",
          "name": "stdout",
          "text": [
            "[(3333, 1.0000000000000002), (3981, 0.12866171341003277), (1281, 0.12172892631791651), (1450, 0.11647724694095188), (1970, 0.09916169471084559), (2919, 0.0887426759175475), (2845, 0.0875863612570148), (1003, 0.08295261570005749), (1802, 0.08289535604665026), (3142, 0.08118918544369161), (3073, 0.08007068775130248), (1633, 0.07754544934917039), (816, 0.07484149027226013), (2202, 0.0728131455850185), (3833, 0.0726204561132196), (2569, 0.07201850959551208), (2608, 0.07123037171108712), (2447, 0.07089705745288827), (2682, 0.07061956281129024), (541, 0.07048875569823183), (4299, 0.07032999137564422), (256, 0.0695857068603318), (422, 0.06806961608039822), (2598, 0.06765536172841968), (4115, 0.06757914234795244), (2995, 0.06647788068500421), (3614, 0.06596225088482467), (1149, 0.06564893281274574), (420, 0.0654728635842827), (3564, 0.06541176006695115), (2762, 0.06536771620252106), (4, 0.06424377253883033), (2981, 0.06407628497145687), (705, 0.06378044777064641), (211, 0.06364302895758042), (4621, 0.06362588366390443), (1536, 0.06331597467758936), (2296, 0.062386059159382515), (4375, 0.0618231332976798), (1956, 0.06158717860298956), (1985, 0.061525431520636845), (209, 0.06152541385191814), (1270, 0.061323207723711456), (4148, 0.06121268182219018), (749, 0.06092445262016648), (1614, 0.06066213517124788), (4671, 0.058539276794333114), (3315, 0.05816506200793897), (126, 0.057981466142926624), (4286, 0.05778669161313137), (3642, 0.05761452743584211), (3285, 0.0574586119060404), (4578, 0.05725799428367265), (1824, 0.0572335816115887), (2766, 0.057165262948742065), (4065, 0.05641752928271538), (695, 0.05608163010755567), (2790, 0.05603032397493255), (1248, 0.055929191225248434), (3498, 0.05561896617182954), (2580, 0.0556161127520076), (1101, 0.055554846776451824), (1177, 0.05531662241567659), (1680, 0.05529812962728321), (4053, 0.05524918652614941), (1626, 0.055170672033889125), (719, 0.054873601311653995), (2358, 0.05484805805672477), (2340, 0.054791859392434396), (3956, 0.05477305181310336), (4067, 0.05470632201207153), (240, 0.054353522448757075), (776, 0.05434076202972529), (4425, 0.0540005807181427), (4178, 0.053547738633341585), (2712, 0.053513008525133084), (3211, 0.05271786603000715), (1052, 0.05257532578241352), (4644, 0.05216785616884636), (388, 0.050811853277398636), (3083, 0.050808670492067616), (3000, 0.050685252559974324), (1620, 0.050638058375161214), (1420, 0.049880842328253745), (4627, 0.04923607875283862), (3856, 0.049148675501287625), (2131, 0.04898964548309316), (1224, 0.048842270159952475), (3985, 0.04875103937062668), (1115, 0.0487107384412163), (1553, 0.048237574193551125), (2064, 0.04818207047304718), (18, 0.048025626291474624), (4561, 0.04776160186599947), (3918, 0.047704101762952034), (1454, 0.04748726974204719), (753, 0.047087168189162615), (2129, 0.04688600126503357), (806, 0.046731025238907764), (4745, 0.0465816097104939), (2060, 0.04631455313997714), (3176, 0.04631078872538712), (1249, 0.04620062302031409), (1194, 0.045862424020685556), (3663, 0.04584074050679569), (4757, 0.04582919185584895), (2118, 0.04531200687212687), (901, 0.045270612374674966), (881, 0.04526396232880241), (1657, 0.04523430744429416), (3428, 0.04508638206835031), (1156, 0.04486841436189939), (4498, 0.0447922828755484), (412, 0.04465290669271998), (4417, 0.04463676376392511), (4661, 0.0443958351447851), (718, 0.04351506439528195), (3129, 0.043473044276276254), (483, 0.04288829748626066), (1276, 0.042798842597681935), (667, 0.04270637189661829), (3377, 0.04263828775012061), (1237, 0.04247372223338473), (2352, 0.042307185248783324), (49, 0.04230055140905712), (2269, 0.04229003975452093), (3406, 0.04220676391364406), (4023, 0.042048996518795324), (4440, 0.041918578142345876), (4681, 0.04186101504858905), (2484, 0.04182999105175584), (3016, 0.04170047703550661), (4374, 0.041039690215679964), (736, 0.040775110134968706), (4242, 0.0407210783234653), (1419, 0.04066871119026026), (2804, 0.04063273319308176), (1362, 0.04061646845514847), (3471, 0.04054781885134283), (1277, 0.04045852654163142), (3976, 0.0403936222411138), (1238, 0.040343405657361484), (3310, 0.04023833661939458), (807, 0.040174742943156906), (3443, 0.04006563906121108), (1676, 0.03999029613088139), (1479, 0.03996434719991051), (2624, 0.039870650647447034), (3107, 0.03976632819326384), (4389, 0.03973647074642481), (2978, 0.039620363263739494), (192, 0.03940983485084897), (3983, 0.03932527936829911), (1103, 0.039264494204469404), (4057, 0.039151435709617356), (138, 0.03900255591554458), (2104, 0.03891425494241798), (1491, 0.03880215607830401), (3297, 0.0387176390767533), (930, 0.038675354913754706), (2689, 0.03862589409606376), (3898, 0.038547223398659985), (1484, 0.038543720492882634), (418, 0.03854203703672775), (2851, 0.038491065463006645), (3712, 0.03847745851304127), (4728, 0.038477298564308905), (3449, 0.03847588981114864), (1153, 0.03832178221346748), (940, 0.0382516866123249), (4238, 0.03824930764432818), (3359, 0.03814614595279651), (3261, 0.038119846982316345), (2552, 0.037977407993033264), (1983, 0.037949172825109755), (2992, 0.037874687733339366), (2699, 0.03781662562680789), (3532, 0.037739133926795475), (1469, 0.03772178846763013), (3500, 0.03768588500577995), (2429, 0.037653943392581955), (2471, 0.03762634373796675), (4628, 0.03760928654021115), (708, 0.0375938829369836), (3369, 0.03746827351327388), (3179, 0.037415408577461236), (3289, 0.037342269124151325), (2110, 0.03726965690826062), (4267, 0.03718201303485449), (4288, 0.03707148663655496), (2658, 0.03699852966582755), (1328, 0.036984117816314756), (198, 0.036970301842826146), (1533, 0.03696169942135589), (3839, 0.036888247570862405), (3005, 0.03682823120854302), (1175, 0.036772859958975224), (2542, 0.0367661672483926), (1915, 0.036681948130821235), (1816, 0.036616381488571575), (516, 0.036557135671149286), (1505, 0.03654311360887332), (2297, 0.036512596754960915), (291, 0.036453920644018895), (2250, 0.036358986918840396), (615, 0.036329888272028904), (3371, 0.036310056986276484), (750, 0.03627470721101527), (2929, 0.036228320833258), (3071, 0.036128240149854614), (2480, 0.0361244646743246), (778, 0.036092724163530966), (1504, 0.036088658324849775), (1295, 0.036080457793879396), (1226, 0.036070784169514494), (4672, 0.036046305815691314), (769, 0.03596063431147801), (1272, 0.035901952560145986), (1026, 0.035755318560316156), (1250, 0.035745770007610214), (347, 0.03572675146504126), (1130, 0.0357049830573868), (500, 0.035528858305333845), (703, 0.035524826852255255), (3665, 0.03552145178971372), (3831, 0.035508662584705225), (1279, 0.03539649750397131), (959, 0.03539202362424778), (3533, 0.03538639492754549), (166, 0.03532000165271493), (4732, 0.0353180502108008), (773, 0.035248974563777076), (4245, 0.03521713103536835), (4351, 0.03515110358908101), (3149, 0.035146501473987554), (2465, 0.03511796356687059), (3085, 0.03480935459565602), (4321, 0.034690231482245384), (1255, 0.03462132817498809), (180, 0.0346022951007355), (1532, 0.034587568903823786), (4022, 0.03453788893338568), (1647, 0.0344437550560998), (3853, 0.0344055177009183), (3433, 0.03430941735662643), (694, 0.03426494182152789), (2899, 0.03425285425970691), (1767, 0.0342041665396261), (4159, 0.03414915641618554), (3243, 0.03412734000404146), (1801, 0.03411337127542924), (4323, 0.034107466655761476), (2691, 0.034101759206859435), (4201, 0.03408600093517411), (1027, 0.03404778740224903), (3658, 0.03403541109800529), (655, 0.034026499381567286), (1854, 0.03399559210605982), (3760, 0.03394826705363741), (1353, 0.0338796921797789), (1881, 0.03386841622164341), (1480, 0.03386804684217738), (647, 0.03384275155088309), (144, 0.033837096481622475), (1981, 0.03382492646264676), (3927, 0.033810264175833105), (1717, 0.033757801471460264), (1562, 0.03375049970296433), (819, 0.03374825821336745), (146, 0.033746018331701426), (96, 0.03372393553336462), (1068, 0.03369751564132969), (304, 0.033593554750430195), (638, 0.03358316900229994), (1949, 0.0335699265463131), (4167, 0.03356012267328051), (1663, 0.03354362027141482), (2588, 0.03350987680592368), (2256, 0.03346964580151322), (524, 0.03342696838266171), (484, 0.03334802565845984), (1774, 0.0333215931593364), (397, 0.033315783649671527), (1974, 0.033299577573111236), (99, 0.0332848355215481), (4359, 0.033266476235579205), (814, 0.03326297324717752), (4377, 0.03323092193091527), (3356, 0.03322177612416714), (3909, 0.033220315242902705), (4153, 0.033204925835971025), (4041, 0.03315322938629651), (2554, 0.033066777687168335), (1752, 0.03306557259560022), (2874, 0.03304650288929242), (1827, 0.03294989413131801), (2547, 0.03294150590464006), (1964, 0.03293805943847278), (2323, 0.03288218901867249), (2562, 0.03285831090316217), (3318, 0.03284002850337368), (355, 0.0328322926891793), (3830, 0.03281810923061258), (1080, 0.03280235153620444), (3336, 0.03279673726743975), (2591, 0.0326901651631283), (879, 0.03263899337964803), (1242, 0.03257286616194734), (856, 0.032524803181904496), (3380, 0.03234559531922353), (1549, 0.03233286137382514), (1394, 0.032282966610052255), (609, 0.0321369125530693), (2617, 0.03212549123910773), (3553, 0.03209241336027846), (4189, 0.03200091072882658), (3394, 0.03177724517879746), (892, 0.0315666665159559), (699, 0.03153919754709679), (1559, 0.03153531172042883), (733, 0.031526834788886224), (2597, 0.03142707566027301), (1671, 0.03135019900358083), (2627, 0.031348302844581954), (575, 0.031249740025163227), (3279, 0.031222950458971367), (3068, 0.03116424490038678), (4541, 0.031085427679294654), (4708, 0.031045899843400136), (293, 0.03102976637471209), (3200, 0.03095990759391123), (3344, 0.030945121188742146), (2622, 0.030914168751241967), (2298, 0.03087178928069266), (1621, 0.03084130166795685), (3160, 0.030806432845059777), (2523, 0.030770488613479134), (951, 0.030760218652939694), (2859, 0.030699391787677003), (861, 0.03066138484258908), (4124, 0.030639522000126235), (1842, 0.03060983890306268), (1070, 0.030432574424794898), (1367, 0.03042875749720048), (3193, 0.030417796520010948), (1642, 0.030336563244737335), (1245, 0.030325523714590377), (1944, 0.03026328084864736), (651, 0.030204005665503263), (1778, 0.030160721426923272), (3876, 0.03008812482418359), (2007, 0.029918840871222065), (2132, 0.029746552777366393), (4554, 0.02973590526583564), (154, 0.0293658197248436), (3099, 0.02915528548585639), (3338, 0.02914661416514387), (1433, 0.02910557102035852), (4325, 0.02901775757750406), (1624, 0.028974450019681082), (1815, 0.02895765898487341), (3362, 0.028853309921355336), (2240, 0.02876439571664844), (4598, 0.028586392760882172), (2975, 0.028447865021723535), (3992, 0.028276956957972277), (683, 0.028240670648412798), (666, 0.028149493820387603), (4437, 0.02814115120097219), (804, 0.02813828726364122), (729, 0.02789511082668553), (4138, 0.027727902115790248), (3717, 0.02763641735695441), (48, 0.02756334217786341), (3453, 0.02751474174820854), (1213, 0.027481820854924847), (162, 0.027475466574942962), (4636, 0.027306775640894135), (3684, 0.027150843822398397), (4635, 0.027070097202599244), (642, 0.027022727051653542), (4182, 0.02701382014926561), (3537, 0.02700752363142482), (4703, 0.026811343766542983), (4411, 0.02680178758667485), (21, 0.026751225016988393), (3421, 0.026685126576468866), (3392, 0.02657334134426209), (4256, 0.026546142373879113), (2443, 0.026265134733058092), (201, 0.02609946076909507), (3989, 0.02608617752587489), (1443, 0.025809121821273318), (2668, 0.025739103862513445), (4098, 0.025642005431403665), (1919, 0.02546770638819076), (1232, 0.025208477993450027), (542, 0.024968703480418034), (3104, 0.024956922520410808), (842, 0.024886346616697495), (2476, 0.024758844132202588), (2848, 0.02473910551234144), (3145, 0.024725521278216648), (322, 0.024633091319461366), (462, 0.024582089731294568), (3413, 0.024446107872919804), (3152, 0.024413155625457806), (1941, 0.02435980112587949), (1017, 0.024314578308758782), (676, 0.0242519510819251), (3255, 0.024243873050631116), (4673, 0.024228687881718544), (4170, 0.024086006661329894), (85, 0.024065214228584), (3328, 0.023949958487052603), (587, 0.023946823398691672), (1053, 0.023938811897044644), (1861, 0.023713641067356777), (878, 0.023627469225558185), (116, 0.023609734672691934), (2869, 0.023585682989331627), (4759, 0.023553511004977427), (4271, 0.02354934593764717), (1793, 0.023446169501025113), (3025, 0.023442009264391914), (4403, 0.023221280209038245), (3186, 0.023077286723342794), (788, 0.022968331955566378), (2660, 0.022900859344061282), (3845, 0.022711506989513068), (1865, 0.02269388823989004), (2342, 0.022686846553603878), (1047, 0.02268616713531604), (4721, 0.02267503237102835), (2843, 0.02260103969274506), (1387, 0.022582560480948134), (3877, 0.022565737620636298), (4055, 0.02256297903399562), (563, 0.02255700907366419), (2065, 0.022474445177462297), (2456, 0.02247343276496627), (2750, 0.022451368786166215), (4215, 0.022451171205972762), (2247, 0.02244513538234855), (59, 0.022433746697256486), (4653, 0.02227493513954473), (3573, 0.02225830262212227), (3345, 0.022218748496456553), (4508, 0.02219102360284954), (132, 0.02217801194396119), (3263, 0.022172573808807546), (4424, 0.022159670110793724), (4028, 0.022143789661434595), (574, 0.022129724813720213), (2037, 0.022087497540933903), (1805, 0.022081859017269286), (4013, 0.022065918193644136), (3516, 0.02204236516538586), (1511, 0.022008182434843763), (751, 0.021984867878548964), (3251, 0.02179882218600357), (3612, 0.021782482566942762), (1179, 0.02177113744481422), (3095, 0.02175916201016488), (4232, 0.021747490902549793), (1345, 0.02172588793904535), (2368, 0.02171446812850872), (1737, 0.021710397581186747), (3780, 0.02164011918254534), (3973, 0.021578740468560377), (3401, 0.021572879303923858), (3308, 0.021568974994330633), (4027, 0.021491378532810496), (1263, 0.021472252448755356), (880, 0.021461485090513727), (205, 0.02146115686597498), (282, 0.021450953269323406), (3524, 0.021435446183563817), (3511, 0.021424069686055192), (3882, 0.02142044324042526), (3838, 0.021296928568069855), (660, 0.021260093518979718), (2158, 0.021242282386583173), (429, 0.021240928705128094), (2909, 0.02123596018238882), (4433, 0.021234256047487216), (2249, 0.021195410449488007), (580, 0.021178762600884506), (723, 0.021176802856376544), (3682, 0.021131269374254292), (2924, 0.021129116209341603), (2150, 0.02108571294257746), (443, 0.0210725237020538), (3408, 0.021068689735734232), (4281, 0.02105673948620882), (3849, 0.021050767706783304), (2343, 0.02103394550208279), (1143, 0.020988349490111212), (1542, 0.020983995239700744), (2341, 0.020979875186152075), (2123, 0.02097820445307068), (4369, 0.020960371046555258), (2681, 0.02093360043693667), (2244, 0.02093122608805), (2234, 0.020903609647028178), (3117, 0.020885895944620588), (2180, 0.020825847676362867), (2321, 0.02082298052131423), (739, 0.020789321628930983), (798, 0.020779089752898418), (4197, 0.0207485250518089), (3611, 0.02070066972781646), (1832, 0.020699454582232605), (142, 0.02069680729687623), (4150, 0.02068097410255194), (1631, 0.020658331442929084), (1972, 0.020658315177385696), (3182, 0.02064614560015952), (3707, 0.020627751068478917), (1894, 0.02062338891025037), (704, 0.020578492868574307), (4699, 0.02055596665109193), (2439, 0.02053807412348713), (2335, 0.020532598660501278), (1512, 0.020485342103065404), (1579, 0.020467030419686186), (4269, 0.02041398122497733), (1594, 0.020398218452653313), (1858, 0.020385986016547723), (4179, 0.02035428185564849), (1992, 0.02034215929638746), (2585, 0.020281491508718153), (1673, 0.020270829850794373), (3857, 0.02023555651753407), (2499, 0.020234983207468183), (4337, 0.02022921648134127), (4324, 0.020197060339781785), (688, 0.02018226643519587), (3797, 0.02016085590481821), (3101, 0.02012816794883133), (4050, 0.020125606655182593), (3387, 0.020118763086177528), (967, 0.020114595767431707), (2839, 0.02010664186366629), (1598, 0.020091128039889484), (4420, 0.02006793998269428), (4263, 0.020066384321329952), (982, 0.02004145486760705), (875, 0.019996010649778597), (2739, 0.019993548315904667), (2410, 0.019986591491612565), (457, 0.01998454142797661), (2791, 0.01996918265975465), (677, 0.019966358822384612), (1167, 0.019959817854829046), (3029, 0.019952159756538756), (3802, 0.019949255598938686), (1193, 0.019942722479737957), (70, 0.01992693472181025), (4226, 0.019917529084860854), (3234, 0.01991419167655359), (2968, 0.019886239888794875), (1097, 0.019876544375038743), (1243, 0.01987170258641778), (3659, 0.01985642449974443), (633, 0.019855365203777408), (2345, 0.019840134203037426), (1147, 0.01983829630220127), (3709, 0.01983734868385583), (1729, 0.01983182981390031), (1829, 0.019831254150483865), (2728, 0.019819422546496268), (481, 0.019813103112809788), (3915, 0.019788750079253896), (3889, 0.01975859776257816), (2258, 0.019755839410373437), (3938, 0.019753788048493894), (2905, 0.019746677340726815), (3879, 0.01973200854079028), (2477, 0.019684039974327265), (3092, 0.01968218328186124), (3375, 0.019647818468971165), (790, 0.01964395231903754), (3510, 0.019640997034124776), (1421, 0.019620763631899792), (223, 0.019598693061603806), (334, 0.019592896749058526), (1267, 0.01959262244638572), (2693, 0.01959242889069046), (791, 0.019571972118899824), (2162, 0.01956480027408895), (395, 0.019546945514456), (1808, 0.019527758670524278), (3175, 0.019522720366317962), (873, 0.019509466663856986), (3774, 0.019509044595311845), (1140, 0.01950733636000886), (1575, 0.019507158165786867), (1446, 0.01950403361976416), (396, 0.019476417716867853), (2949, 0.01946639612966508), (932, 0.01946449608649846), (815, 0.019452910449709315), (134, 0.019441603130480205), (1324, 0.01943411343939129), (4169, 0.019406934438745943), (1779, 0.01939694688384929), (74, 0.019376379047984425), (1339, 0.019365123895351215), (1407, 0.019361212736336248), (2264, 0.019344389118729804), (2821, 0.01934124150648701), (4557, 0.019325725186360044), (2516, 0.01930398072070702), (157, 0.019302649767744526), (2819, 0.019299939039661807), (91, 0.019276589201613376), (2196, 0.01926633823446644), (4485, 0.019264539014833413), (4045, 0.019247470885269777), (2360, 0.019243460044449538), (3747, 0.019242456858147572), (2047, 0.01924105616625937), (1759, 0.019230504928100148), (470, 0.019215098580605106), (1199, 0.019207961808243773), (976, 0.019202625050648396), (1710, 0.019198608966196757), (830, 0.01915150986871353), (1106, 0.01914683612079022), (1139, 0.01914344475848627), (2300, 0.01911086210311454), (1693, 0.019109516217890928), (1402, 0.01910444894414725), (3006, 0.01909001494904286), (845, 0.019073419950545952), (3887, 0.019067680660518026), (270, 0.019053948929484216), (2081, 0.01905176553994507), (3919, 0.01904525324541182), (1903, 0.01903899016103998), (204, 0.019033684295900608), (1775, 0.01901043670893263), (2085, 0.018981741567473377), (543, 0.018975143468464857), (4466, 0.018971082746951418), (4089, 0.01896984369560268), (34, 0.018957938583597164), (1613, 0.018950416502839858), (517, 0.018933074185536136), (2650, 0.018928855341953814), (4125, 0.01892246907293047), (447, 0.01891788992104314), (4262, 0.01891466567996116), (3509, 0.018891270298834223), (4275, 0.018890110857523425), (3847, 0.018869346814559398), (189, 0.018866339182053885), (935, 0.018851374094383307), (606, 0.018813181418047997), (3764, 0.018805995577167566), (3381, 0.018804382195802802), (3463, 0.01879382490482948), (2988, 0.018790627293050005), (133, 0.018782324123176385), (377, 0.018771616460864216), (2353, 0.018757806647155057), (871, 0.018719498791268926), (4329, 0.018706866379013726), (2894, 0.018696141768541234), (1543, 0.018672780561696595), (3225, 0.018669689773980036), (2382, 0.018652235805867393), (3597, 0.018645729246390418), (1585, 0.01864339199697216), (4663, 0.018642546253235425), (115, 0.018629137402247167), (2070, 0.018624440320145066), (1936, 0.01862041617383002), (4404, 0.018613492873951035), (394, 0.018608241538846233), (1065, 0.018602337688944183), (3929, 0.018598369706424908), (969, 0.018595630727495024), (4684, 0.018592062332258963), (1055, 0.01858420421316643), (1085, 0.018573267489907685), (3102, 0.018568428523222706), (3585, 0.018549212856900112), (2746, 0.01852430734105249), (1361, 0.018506589515101268), (2440, 0.01850241864901439), (3098, 0.018489342736767216), (2541, 0.018477607605085572), (3418, 0.018470403922244073), (3650, 0.018460429423711823), (3386, 0.018460114519565737), (1840, 0.01844050542243433), (1639, 0.018433219341013968), (3335, 0.01840787392168145), (4583, 0.01840758310341958), (4217, 0.018381737274462545), (182, 0.01836409703012048), (1567, 0.01835935431930954), (2114, 0.018331239048621776), (4517, 0.018329022512878573), (2039, 0.01831569695739586), (697, 0.018294980345685597), (4683, 0.018280176283435718), (486, 0.018276486499616988), (1074, 0.018274781566922985), (5, 0.01827302799378026), (2211, 0.018244881916769474), (1873, 0.018236851971561205), (2558, 0.018221219114180506), (487, 0.018218572689536153), (4006, 0.01820808827171866), (4427, 0.018198371945896824), (3188, 0.018198054802586065), (1133, 0.018179642696929486), (2359, 0.018173913340998406), (1934, 0.018172987078339278), (109, 0.01816362054584484), (1720, 0.018146023319372612), (2853, 0.018127538476045493), (3807, 0.018123294015426096), (2014, 0.018120382933872643), (4056, 0.018120372469803817), (2140, 0.018096169540142672), (4482, 0.018069802068055384), (1239, 0.01805331865990172), (2280, 0.018047570754919657), (2156, 0.018047211058689717), (3435, 0.018041740886100076), (2408, 0.018040661712071478), (4104, 0.018040465936342696), (1059, 0.01803435235026014), (3891, 0.0180228098006513), (1831, 0.01801386025603729), (4542, 0.018012550068453963), (4513, 0.018011880399738674), (375, 0.018005280417593462), (61, 0.017987107305048853), (3045, 0.017981268508584742), (1913, 0.017979121486640697), (1329, 0.017978589408851695), (1550, 0.017964966277438342), (1253, 0.01796456730251459), (538, 0.017961374423409737), (613, 0.017957837776423333), (4343, 0.017926973454436734), (1314, 0.017922169104643667), (3814, 0.017919983202871265), (1551, 0.017906177722118787), (2069, 0.017900297003677144), (1888, 0.017896913667074712), (2179, 0.01787872405983583), (4020, 0.017873489527849677), (927, 0.01787073473231377), (3619, 0.0178566325981965), (4029, 0.017854313893161864), (3580, 0.017849743490667067), (1589, 0.017846478166564858), (84, 0.017838430075387483), (244, 0.01782289535533195), (746, 0.017791176457054584), (2029, 0.017786934432622154), (4309, 0.017782108240285366), (1086, 0.01777576494798696), (2553, 0.01776168744706204), (2574, 0.017759543489213308), (4327, 0.01775529852522277), (2759, 0.017752697872886962), (127, 0.017739514362839662), (4534, 0.017719482248855074), (1592, 0.01766954868835737), (2057, 0.017668433239477237), (549, 0.01765762627161622), (573, 0.017647244294386116), (1261, 0.017639450947462346), (1030, 0.017635653517674252), (3420, 0.01762083301914978), (243, 0.01761168009339901), (4216, 0.017606708654137094), (2571, 0.01760203934205174), (2003, 0.017601127594337757), (1645, 0.01760046137444055), (1347, 0.01759754849281628), (3011, 0.017592899683577995), (2175, 0.01757419956574499), (3010, 0.017568411566726817), (1463, 0.017565829990567994), (1493, 0.017564590054631696), (3872, 0.017556082286597892), (3141, 0.017552587427768416), (3352, 0.017520250346737206), (2100, 0.01751892184576006), (1561, 0.017511726202687178), (1582, 0.017490825941665313), (427, 0.017475175295814615), (1545, 0.017470669339279387), (3868, 0.017432317882951506), (52, 0.017419828980353505), (4155, 0.017405218949531728), (3965, 0.017399748244561725), (1586, 0.017395721663182567), (1993, 0.01739489052335367), (1654, 0.017390513271324837), (1067, 0.017376427416540587), (4587, 0.017363935565023192), (2409, 0.0173520086083257), (2618, 0.017351558925514377), (2736, 0.017347629363488184), (4072, 0.01731092821872972), (1039, 0.01730199414632388), (2377, 0.017284720127042963), (1428, 0.01727031533313445), (408, 0.017225045814922724), (4399, 0.01721809897307254), (3077, 0.017205203643746236), (3825, 0.017183216732180397), (4292, 0.017165396754672248), (3466, 0.01715134077974315), (621, 0.017148101414760527), (742, 0.017125646144085932), (1316, 0.017125097689071913), (2248, 0.017109843496121546), (886, 0.01708025771820683), (975, 0.017055608535573107), (974, 0.017055137124216482), (4059, 0.01703763206688177), (900, 0.017034319016283377), (2578, 0.017029501272789575), (810, 0.017021662448872998), (565, 0.01701650489731569), (659, 0.01697067753748148), (3147, 0.016960750259226026), (213, 0.016956659569933637), (1107, 0.01695093110756521), (2827, 0.016947794925639418), (3430, 0.016940995239785477), (1430, 0.01694059527731404), (4110, 0.01689083978695814), (248, 0.016854439263518015), (805, 0.016847416966028674), (335, 0.01684298504565119), (1448, 0.016834319308186168), (2548, 0.016834288953147095), (2497, 0.016826406412178526), (4063, 0.01681358650104616), (15, 0.016804424212821554), (122, 0.016782818369800938), (3528, 0.01678273578291276), (3389, 0.016755990876835967), (3460, 0.016753155451611657), (4176, 0.016752449854101736), (2347, 0.016747992672515366), (4177, 0.01674559077780512), (4274, 0.01670565844887955), (3957, 0.016705497387042672), (160, 0.016699283112999952), (3738, 0.01666419097002899), (1782, 0.016663136393007916), (3329, 0.016655756371496133), (958, 0.016652333640060694), (645, 0.016622954741969922), (3842, 0.01658241700403322), (4193, 0.01656849354221155), (3474, 0.01655484609309654), (4415, 0.016549904997954386), (1784, 0.01654354398692251), (1595, 0.016487488271619676), (1173, 0.01648737628839725), (2931, 0.016480409152140673), (1795, 0.016473595789788284), (1485, 0.016437221283013496), (515, 0.016422214282542532), (4712, 0.016412214184525757), (3645, 0.016412129866877272), (4074, 0.016395658690704206), (4304, 0.016351537377568663), (3167, 0.01631591011179551), (3111, 0.016306185668997174), (1750, 0.016282009937213352), (4582, 0.016250971736181903), (2213, 0.016246836880833247), (1978, 0.016238106757919427), (1392, 0.016198341295287726), (3360, 0.01618328669737637), (4212, 0.016140243583032822), (979, 0.016110146833112404), (33, 0.01610079031762199), (605, 0.016031067771093987), (3, 0.016016317609826275), (756, 0.015998204846146485), (3910, 0.0159949573647797), (283, 0.01593437694495671), (3637, 0.01593268528246159), (2805, 0.015931540661714882), (2326, 0.015914676181442326), (3928, 0.015897374214334514), (1306, 0.01587303878534438), (924, 0.0158694449494893), (3222, 0.015867939114184746), (1492, 0.01576639278665838), (1699, 0.01576280283242993), (2842, 0.015751744389660552), (1863, 0.015734552601799262), (2318, 0.01571387791954977), (1838, 0.015700702912010076), (2801, 0.015628561759063526), (3958, 0.01562368670090047), (445, 0.015596577654620348), (4018, 0.015528343914148767), (2152, 0.015492782277201293), (108, 0.015491669482271441), (1340, 0.015472212050020681), (1202, 0.015453614947770884), (3806, 0.015369837774474194), (195, 0.015313506647963483), (726, 0.01523375571838012), (1342, 0.015213637977908286), (44, 0.015165859199726432), (2227, 0.015138901282949759), (149, 0.015044850954870613), (88, 0.015026739051487699), (2509, 0.014971803220906051), (2219, 0.014957321498020393), (438, 0.014894028043237348), (4726, 0.014859065875268815), (237, 0.014780536936119408), (2441, 0.014753148173810147), (1344, 0.01473212042705882), (4651, 0.014657233109245993), (2908, 0.014640736998450653), (2000, 0.014518364423956008), (294, 0.0145062257020097), (1747, 0.014178364339516298), (3144, 0.014170533675418089), (4301, 0.01411998317922283), (2474, 0.013977788185068167), (2220, 0.013663809628417628), (4171, 0.013450412569845933), (929, 0.013142413457598654), (3750, 0.012869810665666335), (824, 0.012686990301714166), (3458, 0.012481802112131698), (2841, 0.012162102963617171), (787, 0.011143922078493096), (2534, 0.009079164712908623), (0, 0.0), (1, 0.0), (2, 0.0), (6, 0.0), (7, 0.0), (8, 0.0), (9, 0.0), (10, 0.0), (11, 0.0), (12, 0.0), (13, 0.0), (14, 0.0), (16, 0.0), (17, 0.0), (19, 0.0), (20, 0.0), (22, 0.0), (23, 0.0), (24, 0.0), (25, 0.0), (26, 0.0), (27, 0.0), (28, 0.0), (29, 0.0), (30, 0.0), (31, 0.0), (32, 0.0), (35, 0.0), (36, 0.0), (37, 0.0), (38, 0.0), (39, 0.0), (40, 0.0), (41, 0.0), (42, 0.0), (43, 0.0), (45, 0.0), (46, 0.0), (47, 0.0), (50, 0.0), (51, 0.0), (53, 0.0), (54, 0.0), (55, 0.0), (56, 0.0), (57, 0.0), (58, 0.0), (60, 0.0), (62, 0.0), (63, 0.0), (64, 0.0), (65, 0.0), (66, 0.0), (67, 0.0), (68, 0.0), (69, 0.0), (71, 0.0), (72, 0.0), (73, 0.0), (75, 0.0), (76, 0.0), (77, 0.0), (78, 0.0), (79, 0.0), (80, 0.0), (81, 0.0), (82, 0.0), (83, 0.0), (86, 0.0), (87, 0.0), (89, 0.0), (90, 0.0), (92, 0.0), (93, 0.0), (94, 0.0), (95, 0.0), (97, 0.0), (98, 0.0), (100, 0.0), (101, 0.0), (102, 0.0), (103, 0.0), (104, 0.0), (105, 0.0), (106, 0.0), (107, 0.0), (110, 0.0), (111, 0.0), (112, 0.0), (113, 0.0), (114, 0.0), (117, 0.0), (118, 0.0), (119, 0.0), (120, 0.0), (121, 0.0), (123, 0.0), (124, 0.0), (125, 0.0), (128, 0.0), (129, 0.0), (130, 0.0), (131, 0.0), (135, 0.0), (136, 0.0), (137, 0.0), (139, 0.0), (140, 0.0), (141, 0.0), (143, 0.0), (145, 0.0), (147, 0.0), (148, 0.0), (150, 0.0), (151, 0.0), (152, 0.0), (153, 0.0), (155, 0.0), (156, 0.0), (158, 0.0), (159, 0.0), (161, 0.0), (163, 0.0), (164, 0.0), (165, 0.0), (167, 0.0), (168, 0.0), (169, 0.0), (170, 0.0), (171, 0.0), (172, 0.0), (173, 0.0), (174, 0.0), (175, 0.0), (176, 0.0), (177, 0.0), (178, 0.0), (179, 0.0), (181, 0.0), (183, 0.0), (184, 0.0), (185, 0.0), (186, 0.0), (187, 0.0), (188, 0.0), (190, 0.0), (191, 0.0), (193, 0.0), (194, 0.0), (196, 0.0), (197, 0.0), (199, 0.0), (200, 0.0), (202, 0.0), (203, 0.0), (206, 0.0), (207, 0.0), (208, 0.0), (210, 0.0), (212, 0.0), (214, 0.0), (215, 0.0), (216, 0.0), (217, 0.0), (218, 0.0), (219, 0.0), (220, 0.0), (221, 0.0), (222, 0.0), (224, 0.0), (225, 0.0), (226, 0.0), (227, 0.0), (228, 0.0), (229, 0.0), (230, 0.0), (231, 0.0), (232, 0.0), (233, 0.0), (234, 0.0), (235, 0.0), (236, 0.0), (238, 0.0), (239, 0.0), (241, 0.0), (242, 0.0), (245, 0.0), (246, 0.0), (247, 0.0), (249, 0.0), (250, 0.0), (251, 0.0), (252, 0.0), (253, 0.0), (254, 0.0), (255, 0.0), (257, 0.0), (258, 0.0), (259, 0.0), (260, 0.0), (261, 0.0), (262, 0.0), (263, 0.0), (264, 0.0), (265, 0.0), (266, 0.0), (267, 0.0), (268, 0.0), (269, 0.0), (271, 0.0), (272, 0.0), (273, 0.0), (274, 0.0), (275, 0.0), (276, 0.0), (277, 0.0), (278, 0.0), (279, 0.0), (280, 0.0), (281, 0.0), (284, 0.0), (285, 0.0), (286, 0.0), (287, 0.0), (288, 0.0), (289, 0.0), (290, 0.0), (292, 0.0), (295, 0.0), (296, 0.0), (297, 0.0), (298, 0.0), (299, 0.0), (300, 0.0), (301, 0.0), (302, 0.0), (303, 0.0), (305, 0.0), (306, 0.0), (307, 0.0), (308, 0.0), (309, 0.0), (310, 0.0), (311, 0.0), (312, 0.0), (313, 0.0), (314, 0.0), (315, 0.0), (316, 0.0), (317, 0.0), (318, 0.0), (319, 0.0), (320, 0.0), (321, 0.0), (323, 0.0), (324, 0.0), (325, 0.0), (326, 0.0), (327, 0.0), (328, 0.0), (329, 0.0), (330, 0.0), (331, 0.0), (332, 0.0), (333, 0.0), (336, 0.0), (337, 0.0), (338, 0.0), (339, 0.0), (340, 0.0), (341, 0.0), (342, 0.0), (343, 0.0), (344, 0.0), (345, 0.0), (346, 0.0), (348, 0.0), (349, 0.0), (350, 0.0), (351, 0.0), (352, 0.0), (353, 0.0), (354, 0.0), (356, 0.0), (357, 0.0), (358, 0.0), (359, 0.0), (360, 0.0), (361, 0.0), (362, 0.0), (363, 0.0), (364, 0.0), (365, 0.0), (366, 0.0), (367, 0.0), (368, 0.0), (369, 0.0), (370, 0.0), (371, 0.0), (372, 0.0), (373, 0.0), (374, 0.0), (376, 0.0), (378, 0.0), (379, 0.0), (380, 0.0), (381, 0.0), (382, 0.0), (383, 0.0), (384, 0.0), (385, 0.0), (386, 0.0), (387, 0.0), (389, 0.0), (390, 0.0), (391, 0.0), (392, 0.0), (393, 0.0), (398, 0.0), (399, 0.0), (400, 0.0), (401, 0.0), (402, 0.0), (403, 0.0), (404, 0.0), (405, 0.0), (406, 0.0), (407, 0.0), (409, 0.0), (410, 0.0), (411, 0.0), (413, 0.0), (414, 0.0), (415, 0.0), (416, 0.0), (417, 0.0), (419, 0.0), (421, 0.0), (423, 0.0), (424, 0.0), (425, 0.0), (426, 0.0), (428, 0.0), (430, 0.0), (431, 0.0), (432, 0.0), (433, 0.0), (434, 0.0), (435, 0.0), (436, 0.0), (437, 0.0), (439, 0.0), (440, 0.0), (441, 0.0), (442, 0.0), (444, 0.0), (446, 0.0), (448, 0.0), (449, 0.0), (450, 0.0), (451, 0.0), (452, 0.0), (453, 0.0), (454, 0.0), (455, 0.0), (456, 0.0), (458, 0.0), (459, 0.0), (460, 0.0), (461, 0.0), (463, 0.0), (464, 0.0), (465, 0.0), (466, 0.0), (467, 0.0), (468, 0.0), (469, 0.0), (471, 0.0), (472, 0.0), (473, 0.0), (474, 0.0), (475, 0.0), (476, 0.0), (477, 0.0), (478, 0.0), (479, 0.0), (480, 0.0), (482, 0.0), (485, 0.0), (488, 0.0), (489, 0.0), (490, 0.0), (491, 0.0), (492, 0.0), (493, 0.0), (494, 0.0), (495, 0.0), (496, 0.0), (497, 0.0), (498, 0.0), (499, 0.0), (501, 0.0), (502, 0.0), (503, 0.0), (504, 0.0), (505, 0.0), (506, 0.0), (507, 0.0), (508, 0.0), (509, 0.0), (510, 0.0), (511, 0.0), (512, 0.0), (513, 0.0), (514, 0.0), (518, 0.0), (519, 0.0), (520, 0.0), (521, 0.0), (522, 0.0), (523, 0.0), (525, 0.0), (526, 0.0), (527, 0.0), (528, 0.0), (529, 0.0), (530, 0.0), (531, 0.0), (532, 0.0), (533, 0.0), (534, 0.0), (535, 0.0), (536, 0.0), (537, 0.0), (539, 0.0), (540, 0.0), (544, 0.0), (545, 0.0), (546, 0.0), (547, 0.0), (548, 0.0), (550, 0.0), (551, 0.0), (552, 0.0), (553, 0.0), (554, 0.0), (555, 0.0), (556, 0.0), (557, 0.0), (558, 0.0), (559, 0.0), (560, 0.0), (561, 0.0), (562, 0.0), (564, 0.0), (566, 0.0), (567, 0.0), (568, 0.0), (569, 0.0), (570, 0.0), (571, 0.0), (572, 0.0), (576, 0.0), (577, 0.0), (578, 0.0), (579, 0.0), (581, 0.0), (582, 0.0), (583, 0.0), (584, 0.0), (585, 0.0), (586, 0.0), (588, 0.0), (589, 0.0), (590, 0.0), (591, 0.0), (592, 0.0), (593, 0.0), (594, 0.0), (595, 0.0), (596, 0.0), (597, 0.0), (598, 0.0), (599, 0.0), (600, 0.0), (601, 0.0), (602, 0.0), (603, 0.0), (604, 0.0), (607, 0.0), (608, 0.0), (610, 0.0), (611, 0.0), (612, 0.0), (614, 0.0), (616, 0.0), (617, 0.0), (618, 0.0), (619, 0.0), (620, 0.0), (622, 0.0), (623, 0.0), (624, 0.0), (625, 0.0), (626, 0.0), (627, 0.0), (628, 0.0), (629, 0.0), (630, 0.0), (631, 0.0), (632, 0.0), (634, 0.0), (635, 0.0), (636, 0.0), (637, 0.0), (639, 0.0), (640, 0.0), (641, 0.0), (643, 0.0), (644, 0.0), (646, 0.0), (648, 0.0), (649, 0.0), (650, 0.0), (652, 0.0), (653, 0.0), (654, 0.0), (656, 0.0), (657, 0.0), (658, 0.0), (661, 0.0), (662, 0.0), (663, 0.0), (664, 0.0), (665, 0.0), (668, 0.0), (669, 0.0), (670, 0.0), (671, 0.0), (672, 0.0), (673, 0.0), (674, 0.0), (675, 0.0), (678, 0.0), (679, 0.0), (680, 0.0), (681, 0.0), (682, 0.0), (684, 0.0), (685, 0.0), (686, 0.0), (687, 0.0), (689, 0.0), (690, 0.0), (691, 0.0), (692, 0.0), (693, 0.0), (696, 0.0), (698, 0.0), (700, 0.0), (701, 0.0), (702, 0.0), (706, 0.0), (707, 0.0), (709, 0.0), (710, 0.0), (711, 0.0), (712, 0.0), (713, 0.0), (714, 0.0), (715, 0.0), (716, 0.0), (717, 0.0), (720, 0.0), (721, 0.0), (722, 0.0), (724, 0.0), (725, 0.0), (727, 0.0), (728, 0.0), (730, 0.0), (731, 0.0), (732, 0.0), (734, 0.0), (735, 0.0), (737, 0.0), (738, 0.0), (740, 0.0), (741, 0.0), (743, 0.0), (744, 0.0), (745, 0.0), (747, 0.0), (748, 0.0), (752, 0.0), (754, 0.0), (755, 0.0), (757, 0.0), (758, 0.0), (759, 0.0), (760, 0.0), (761, 0.0), (762, 0.0), (763, 0.0), (764, 0.0), (765, 0.0), (766, 0.0), (767, 0.0), (768, 0.0), (770, 0.0), (771, 0.0), (772, 0.0), (774, 0.0), (775, 0.0), (777, 0.0), (779, 0.0), (780, 0.0), (781, 0.0), (782, 0.0), (783, 0.0), (784, 0.0), (785, 0.0), (786, 0.0), (789, 0.0), (792, 0.0), (793, 0.0), (794, 0.0), (795, 0.0), (796, 0.0), (797, 0.0), (799, 0.0), (800, 0.0), (801, 0.0), (802, 0.0), (803, 0.0), (808, 0.0), (809, 0.0), (811, 0.0), (812, 0.0), (813, 0.0), (817, 0.0), (818, 0.0), (820, 0.0), (821, 0.0), (822, 0.0), (823, 0.0), (825, 0.0), (826, 0.0), (827, 0.0), (828, 0.0), (829, 0.0), (831, 0.0), (832, 0.0), (833, 0.0), (834, 0.0), (835, 0.0), (836, 0.0), (837, 0.0), (838, 0.0), (839, 0.0), (840, 0.0), (841, 0.0), (843, 0.0), (844, 0.0), (846, 0.0), (847, 0.0), (848, 0.0), (849, 0.0), (850, 0.0), (851, 0.0), (852, 0.0), (853, 0.0), (854, 0.0), (855, 0.0), (857, 0.0), (858, 0.0), (859, 0.0), (860, 0.0), (862, 0.0), (863, 0.0), (864, 0.0), (865, 0.0), (866, 0.0), (867, 0.0), (868, 0.0), (869, 0.0), (870, 0.0), (872, 0.0), (874, 0.0), (876, 0.0), (877, 0.0), (882, 0.0), (883, 0.0), (884, 0.0), (885, 0.0), (887, 0.0), (888, 0.0), (889, 0.0), (890, 0.0), (891, 0.0), (893, 0.0), (894, 0.0), (895, 0.0), (896, 0.0), (897, 0.0), (898, 0.0), (899, 0.0), (902, 0.0), (903, 0.0), (904, 0.0), (905, 0.0), (906, 0.0), (907, 0.0), (908, 0.0), (909, 0.0), (910, 0.0), (911, 0.0), (912, 0.0), (913, 0.0), (914, 0.0), (915, 0.0), (916, 0.0), (917, 0.0), (918, 0.0), (919, 0.0), (920, 0.0), (921, 0.0), (922, 0.0), (923, 0.0), (925, 0.0), (926, 0.0), (928, 0.0), (931, 0.0), (933, 0.0), (934, 0.0), (936, 0.0), (937, 0.0), (938, 0.0), (939, 0.0), (941, 0.0), (942, 0.0), (943, 0.0), (944, 0.0), (945, 0.0), (946, 0.0), (947, 0.0), (948, 0.0), (949, 0.0), (950, 0.0), (952, 0.0), (953, 0.0), (954, 0.0), (955, 0.0), (956, 0.0), (957, 0.0), (960, 0.0), (961, 0.0), (962, 0.0), (963, 0.0), (964, 0.0), (965, 0.0), (966, 0.0), (968, 0.0), (970, 0.0), (971, 0.0), (972, 0.0), (973, 0.0), (977, 0.0), (978, 0.0), (980, 0.0), (981, 0.0), (983, 0.0), (984, 0.0), (985, 0.0), (986, 0.0), (987, 0.0), (988, 0.0), (989, 0.0), (990, 0.0), (991, 0.0), (992, 0.0), (993, 0.0), (994, 0.0), (995, 0.0), (996, 0.0), (997, 0.0), (998, 0.0), (999, 0.0), (1000, 0.0), (1001, 0.0), (1002, 0.0), (1004, 0.0), (1005, 0.0), (1006, 0.0), (1007, 0.0), (1008, 0.0), (1009, 0.0), (1010, 0.0), (1011, 0.0), (1012, 0.0), (1013, 0.0), (1014, 0.0), (1015, 0.0), (1016, 0.0), (1018, 0.0), (1019, 0.0), (1020, 0.0), (1021, 0.0), (1022, 0.0), (1023, 0.0), (1024, 0.0), (1025, 0.0), (1028, 0.0), (1029, 0.0), (1031, 0.0), (1032, 0.0), (1033, 0.0), (1034, 0.0), (1035, 0.0), (1036, 0.0), (1037, 0.0), (1038, 0.0), (1040, 0.0), (1041, 0.0), (1042, 0.0), (1043, 0.0), (1044, 0.0), (1045, 0.0), (1046, 0.0), (1048, 0.0), (1049, 0.0), (1050, 0.0), (1051, 0.0), (1054, 0.0), (1056, 0.0), (1057, 0.0), (1058, 0.0), (1060, 0.0), (1061, 0.0), (1062, 0.0), (1063, 0.0), (1064, 0.0), (1066, 0.0), (1069, 0.0), (1071, 0.0), (1072, 0.0), (1073, 0.0), (1075, 0.0), (1076, 0.0), (1077, 0.0), (1078, 0.0), (1079, 0.0), (1081, 0.0), (1082, 0.0), (1083, 0.0), (1084, 0.0), (1087, 0.0), (1088, 0.0), (1089, 0.0), (1090, 0.0), (1091, 0.0), (1092, 0.0), (1093, 0.0), (1094, 0.0), (1095, 0.0), (1096, 0.0), (1098, 0.0), (1099, 0.0), (1100, 0.0), (1102, 0.0), (1104, 0.0), (1105, 0.0), (1108, 0.0), (1109, 0.0), (1110, 0.0), (1111, 0.0), (1112, 0.0), (1113, 0.0), (1114, 0.0), (1116, 0.0), (1117, 0.0), (1118, 0.0), (1119, 0.0), (1120, 0.0), (1121, 0.0), (1122, 0.0), (1123, 0.0), (1124, 0.0), (1125, 0.0), (1126, 0.0), (1127, 0.0), (1128, 0.0), (1129, 0.0), (1131, 0.0), (1132, 0.0), (1134, 0.0), (1135, 0.0), (1136, 0.0), (1137, 0.0), (1138, 0.0), (1141, 0.0), (1142, 0.0), (1144, 0.0), (1145, 0.0), (1146, 0.0), (1148, 0.0), (1150, 0.0), (1151, 0.0), (1152, 0.0), (1154, 0.0), (1155, 0.0), (1157, 0.0), (1158, 0.0), (1159, 0.0), (1160, 0.0), (1161, 0.0), (1162, 0.0), (1163, 0.0), (1164, 0.0), (1165, 0.0), (1166, 0.0), (1168, 0.0), (1169, 0.0), (1170, 0.0), (1171, 0.0), (1172, 0.0), (1174, 0.0), (1176, 0.0), (1178, 0.0), (1180, 0.0), (1181, 0.0), (1182, 0.0), (1183, 0.0), (1184, 0.0), (1185, 0.0), (1186, 0.0), (1187, 0.0), (1188, 0.0), (1189, 0.0), (1190, 0.0), (1191, 0.0), (1192, 0.0), (1195, 0.0), (1196, 0.0), (1197, 0.0), (1198, 0.0), (1200, 0.0), (1201, 0.0), (1203, 0.0), (1204, 0.0), (1205, 0.0), (1206, 0.0), (1207, 0.0), (1208, 0.0), (1209, 0.0), (1210, 0.0), (1211, 0.0), (1212, 0.0), (1214, 0.0), (1215, 0.0), (1216, 0.0), (1217, 0.0), (1218, 0.0), (1219, 0.0), (1220, 0.0), (1221, 0.0), (1222, 0.0), (1223, 0.0), (1225, 0.0), (1227, 0.0), (1228, 0.0), (1229, 0.0), (1230, 0.0), (1231, 0.0), (1233, 0.0), (1234, 0.0), (1235, 0.0), (1236, 0.0), (1240, 0.0), (1241, 0.0), (1244, 0.0), (1246, 0.0), (1247, 0.0), (1251, 0.0), (1252, 0.0), (1254, 0.0), (1256, 0.0), (1257, 0.0), (1258, 0.0), (1259, 0.0), (1260, 0.0), (1262, 0.0), (1264, 0.0), (1265, 0.0), (1266, 0.0), (1268, 0.0), (1269, 0.0), (1271, 0.0), (1273, 0.0), (1274, 0.0), (1275, 0.0), (1278, 0.0), (1280, 0.0), (1282, 0.0), (1283, 0.0), (1284, 0.0), (1285, 0.0), (1286, 0.0), (1287, 0.0), (1288, 0.0), (1289, 0.0), (1290, 0.0), (1291, 0.0), (1292, 0.0), (1293, 0.0), (1294, 0.0), (1296, 0.0), (1297, 0.0), (1298, 0.0), (1299, 0.0), (1300, 0.0), (1301, 0.0), (1302, 0.0), (1303, 0.0), (1304, 0.0), (1305, 0.0), (1307, 0.0), (1308, 0.0), (1309, 0.0), (1310, 0.0), (1311, 0.0), (1312, 0.0), (1313, 0.0), (1315, 0.0), (1317, 0.0), (1318, 0.0), (1319, 0.0), (1320, 0.0), (1321, 0.0), (1322, 0.0), (1323, 0.0), (1325, 0.0), (1326, 0.0), (1327, 0.0), (1330, 0.0), (1331, 0.0), (1332, 0.0), (1333, 0.0), (1334, 0.0), (1335, 0.0), (1336, 0.0), (1337, 0.0), (1338, 0.0), (1341, 0.0), (1343, 0.0), (1346, 0.0), (1348, 0.0), (1349, 0.0), (1350, 0.0), (1351, 0.0), (1352, 0.0), (1354, 0.0), (1355, 0.0), (1356, 0.0), (1357, 0.0), (1358, 0.0), (1359, 0.0), (1360, 0.0), (1363, 0.0), (1364, 0.0), (1365, 0.0), (1366, 0.0), (1368, 0.0), (1369, 0.0), (1370, 0.0), (1371, 0.0), (1372, 0.0), (1373, 0.0), (1374, 0.0), (1375, 0.0), (1376, 0.0), (1377, 0.0), (1378, 0.0), (1379, 0.0), (1380, 0.0), (1381, 0.0), (1382, 0.0), (1383, 0.0), (1384, 0.0), (1385, 0.0), (1386, 0.0), (1388, 0.0), (1389, 0.0), (1390, 0.0), (1391, 0.0), (1393, 0.0), (1395, 0.0), (1396, 0.0), (1397, 0.0), (1398, 0.0), (1399, 0.0), (1400, 0.0), (1401, 0.0), (1403, 0.0), (1404, 0.0), (1405, 0.0), (1406, 0.0), (1408, 0.0), (1409, 0.0), (1410, 0.0), (1411, 0.0), (1412, 0.0), (1413, 0.0), (1414, 0.0), (1415, 0.0), (1416, 0.0), (1417, 0.0), (1418, 0.0), (1422, 0.0), (1423, 0.0), (1424, 0.0), (1425, 0.0), (1426, 0.0), (1427, 0.0), (1429, 0.0), (1431, 0.0), (1432, 0.0), (1434, 0.0), (1435, 0.0), (1436, 0.0), (1437, 0.0), (1438, 0.0), (1439, 0.0), (1440, 0.0), (1441, 0.0), (1442, 0.0), (1444, 0.0), (1445, 0.0), (1447, 0.0), (1449, 0.0), (1451, 0.0), (1452, 0.0), (1453, 0.0), (1455, 0.0), (1456, 0.0), (1457, 0.0), (1458, 0.0), (1459, 0.0), (1460, 0.0), (1461, 0.0), (1462, 0.0), (1464, 0.0), (1465, 0.0), (1466, 0.0), (1467, 0.0), (1468, 0.0), (1470, 0.0), (1471, 0.0), (1472, 0.0), (1473, 0.0), (1474, 0.0), (1475, 0.0), (1476, 0.0), (1477, 0.0), (1478, 0.0), (1481, 0.0), (1482, 0.0), (1483, 0.0), (1486, 0.0), (1487, 0.0), (1488, 0.0), (1489, 0.0), (1490, 0.0), (1494, 0.0), (1495, 0.0), (1496, 0.0), (1497, 0.0), (1498, 0.0), (1499, 0.0), (1500, 0.0), (1501, 0.0), (1502, 0.0), (1503, 0.0), (1506, 0.0), (1507, 0.0), (1508, 0.0), (1509, 0.0), (1510, 0.0), (1513, 0.0), (1514, 0.0), (1515, 0.0), (1516, 0.0), (1517, 0.0), (1518, 0.0), (1519, 0.0), (1520, 0.0), (1521, 0.0), (1522, 0.0), (1523, 0.0), (1524, 0.0), (1525, 0.0), (1526, 0.0), (1527, 0.0), (1528, 0.0), (1529, 0.0), (1530, 0.0), (1531, 0.0), (1534, 0.0), (1535, 0.0), (1537, 0.0), (1538, 0.0), (1539, 0.0), (1540, 0.0), (1541, 0.0), (1544, 0.0), (1546, 0.0), (1547, 0.0), (1548, 0.0), (1552, 0.0), (1554, 0.0), (1555, 0.0), (1556, 0.0), (1557, 0.0), (1558, 0.0), (1560, 0.0), (1563, 0.0), (1564, 0.0), (1565, 0.0), (1566, 0.0), (1568, 0.0), (1569, 0.0), (1570, 0.0), (1571, 0.0), (1572, 0.0), (1573, 0.0), (1574, 0.0), (1576, 0.0), (1577, 0.0), (1578, 0.0), (1580, 0.0), (1581, 0.0), (1583, 0.0), (1584, 0.0), (1587, 0.0), (1588, 0.0), (1590, 0.0), (1591, 0.0), (1593, 0.0), (1596, 0.0), (1597, 0.0), (1599, 0.0), (1600, 0.0), (1601, 0.0), (1602, 0.0), (1603, 0.0), (1604, 0.0), (1605, 0.0), (1606, 0.0), (1607, 0.0), (1608, 0.0), (1609, 0.0), (1610, 0.0), (1611, 0.0), (1612, 0.0), (1615, 0.0), (1616, 0.0), (1617, 0.0), (1618, 0.0), (1619, 0.0), (1622, 0.0), (1623, 0.0), (1625, 0.0), (1627, 0.0), (1628, 0.0), (1629, 0.0), (1630, 0.0), (1632, 0.0), (1634, 0.0), (1635, 0.0), (1636, 0.0), (1637, 0.0), (1638, 0.0), (1640, 0.0), (1641, 0.0), (1643, 0.0), (1644, 0.0), (1646, 0.0), (1648, 0.0), (1649, 0.0), (1650, 0.0), (1651, 0.0), (1652, 0.0), (1653, 0.0), (1655, 0.0), (1656, 0.0), (1658, 0.0), (1659, 0.0), (1660, 0.0), (1661, 0.0), (1662, 0.0), (1664, 0.0), (1665, 0.0), (1666, 0.0), (1667, 0.0), (1668, 0.0), (1669, 0.0), (1670, 0.0), (1672, 0.0), (1674, 0.0), (1675, 0.0), (1677, 0.0), (1678, 0.0), (1679, 0.0), (1681, 0.0), (1682, 0.0), (1683, 0.0), (1684, 0.0), (1685, 0.0), (1686, 0.0), (1687, 0.0), (1688, 0.0), (1689, 0.0), (1690, 0.0), (1691, 0.0), (1692, 0.0), (1694, 0.0), (1695, 0.0), (1696, 0.0), (1697, 0.0), (1698, 0.0), (1700, 0.0), (1701, 0.0), (1702, 0.0), (1703, 0.0), (1704, 0.0), (1705, 0.0), (1706, 0.0), (1707, 0.0), (1708, 0.0), (1709, 0.0), (1711, 0.0), (1712, 0.0), (1713, 0.0), (1714, 0.0), (1715, 0.0), (1716, 0.0), (1718, 0.0), (1719, 0.0), (1721, 0.0), (1722, 0.0), (1723, 0.0), (1724, 0.0), (1725, 0.0), (1726, 0.0), (1727, 0.0), (1728, 0.0), (1730, 0.0), (1731, 0.0), (1732, 0.0), (1733, 0.0), (1734, 0.0), (1735, 0.0), (1736, 0.0), (1738, 0.0), (1739, 0.0), (1740, 0.0), (1741, 0.0), (1742, 0.0), (1743, 0.0), (1744, 0.0), (1745, 0.0), (1746, 0.0), (1748, 0.0), (1749, 0.0), (1751, 0.0), (1753, 0.0), (1754, 0.0), (1755, 0.0), (1756, 0.0), (1757, 0.0), (1758, 0.0), (1760, 0.0), (1761, 0.0), (1762, 0.0), (1763, 0.0), (1764, 0.0), (1765, 0.0), (1766, 0.0), (1768, 0.0), (1769, 0.0), (1770, 0.0), (1771, 0.0), (1772, 0.0), (1773, 0.0), (1776, 0.0), (1777, 0.0), (1780, 0.0), (1781, 0.0), (1783, 0.0), (1785, 0.0), (1786, 0.0), (1787, 0.0), (1788, 0.0), (1789, 0.0), (1790, 0.0), (1791, 0.0), (1792, 0.0), (1794, 0.0), (1796, 0.0), (1797, 0.0), (1798, 0.0), (1799, 0.0), (1800, 0.0), (1803, 0.0), (1804, 0.0), (1806, 0.0), (1807, 0.0), (1809, 0.0), (1810, 0.0), (1811, 0.0), (1812, 0.0), (1813, 0.0), (1814, 0.0), (1817, 0.0), (1818, 0.0), (1819, 0.0), (1820, 0.0), (1821, 0.0), (1822, 0.0), (1823, 0.0), (1825, 0.0), (1826, 0.0), (1828, 0.0), (1830, 0.0), (1833, 0.0), (1834, 0.0), (1835, 0.0), (1836, 0.0), (1837, 0.0), (1839, 0.0), (1841, 0.0), (1843, 0.0), (1844, 0.0), (1845, 0.0), (1846, 0.0), (1847, 0.0), (1848, 0.0), (1849, 0.0), (1850, 0.0), (1851, 0.0), (1852, 0.0), (1853, 0.0), (1855, 0.0), (1856, 0.0), (1857, 0.0), (1859, 0.0), (1860, 0.0), (1862, 0.0), (1864, 0.0), (1866, 0.0), (1867, 0.0), (1868, 0.0), (1869, 0.0), (1870, 0.0), (1871, 0.0), (1872, 0.0), (1874, 0.0), (1875, 0.0), (1876, 0.0), (1877, 0.0), (1878, 0.0), (1879, 0.0), (1880, 0.0), (1882, 0.0), (1883, 0.0), (1884, 0.0), (1885, 0.0), (1886, 0.0), (1887, 0.0), (1889, 0.0), (1890, 0.0), (1891, 0.0), (1892, 0.0), (1893, 0.0), (1895, 0.0), (1896, 0.0), (1897, 0.0), (1898, 0.0), (1899, 0.0), (1900, 0.0), (1901, 0.0), (1902, 0.0), (1904, 0.0), (1905, 0.0), (1906, 0.0), (1907, 0.0), (1908, 0.0), (1909, 0.0), (1910, 0.0), (1911, 0.0), (1912, 0.0), (1914, 0.0), (1916, 0.0), (1917, 0.0), (1918, 0.0), (1920, 0.0), (1921, 0.0), (1922, 0.0), (1923, 0.0), (1924, 0.0), (1925, 0.0), (1926, 0.0), (1927, 0.0), (1928, 0.0), (1929, 0.0), (1930, 0.0), (1931, 0.0), (1932, 0.0), (1933, 0.0), (1935, 0.0), (1937, 0.0), (1938, 0.0), (1939, 0.0), (1940, 0.0), (1942, 0.0), (1943, 0.0), (1945, 0.0), (1946, 0.0), (1947, 0.0), (1948, 0.0), (1950, 0.0), (1951, 0.0), (1952, 0.0), (1953, 0.0), (1954, 0.0), (1955, 0.0), (1957, 0.0), (1958, 0.0), (1959, 0.0), (1960, 0.0), (1961, 0.0), (1962, 0.0), (1963, 0.0), (1965, 0.0), (1966, 0.0), (1967, 0.0), (1968, 0.0), (1969, 0.0), (1971, 0.0), (1973, 0.0), (1975, 0.0), (1976, 0.0), (1977, 0.0), (1979, 0.0), (1980, 0.0), (1982, 0.0), (1984, 0.0), (1986, 0.0), (1987, 0.0), (1988, 0.0), (1989, 0.0), (1990, 0.0), (1991, 0.0), (1994, 0.0), (1995, 0.0), (1996, 0.0), (1997, 0.0), (1998, 0.0), (1999, 0.0), (2001, 0.0), (2002, 0.0), (2004, 0.0), (2005, 0.0), (2006, 0.0), (2008, 0.0), (2009, 0.0), (2010, 0.0), (2011, 0.0), (2012, 0.0), (2013, 0.0), (2015, 0.0), (2016, 0.0), (2017, 0.0), (2018, 0.0), (2019, 0.0), (2020, 0.0), (2021, 0.0), (2022, 0.0), (2023, 0.0), (2024, 0.0), (2025, 0.0), (2026, 0.0), (2027, 0.0), (2028, 0.0), (2030, 0.0), (2031, 0.0), (2032, 0.0), (2033, 0.0), (2034, 0.0), (2035, 0.0), (2036, 0.0), (2038, 0.0), (2040, 0.0), (2041, 0.0), (2042, 0.0), (2043, 0.0), (2044, 0.0), (2045, 0.0), (2046, 0.0), (2048, 0.0), (2049, 0.0), (2050, 0.0), (2051, 0.0), (2052, 0.0), (2053, 0.0), (2054, 0.0), (2055, 0.0), (2056, 0.0), (2058, 0.0), (2059, 0.0), (2061, 0.0), (2062, 0.0), (2063, 0.0), (2066, 0.0), (2067, 0.0), (2068, 0.0), (2071, 0.0), (2072, 0.0), (2073, 0.0), (2074, 0.0), (2075, 0.0), (2076, 0.0), (2077, 0.0), (2078, 0.0), (2079, 0.0), (2080, 0.0), (2082, 0.0), (2083, 0.0), (2084, 0.0), (2086, 0.0), (2087, 0.0), (2088, 0.0), (2089, 0.0), (2090, 0.0), (2091, 0.0), (2092, 0.0), (2093, 0.0), (2094, 0.0), (2095, 0.0), (2096, 0.0), (2097, 0.0), (2098, 0.0), (2099, 0.0), (2101, 0.0), (2102, 0.0), (2103, 0.0), (2105, 0.0), (2106, 0.0), (2107, 0.0), (2108, 0.0), (2109, 0.0), (2111, 0.0), (2112, 0.0), (2113, 0.0), (2115, 0.0), (2116, 0.0), (2117, 0.0), (2119, 0.0), (2120, 0.0), (2121, 0.0), (2122, 0.0), (2124, 0.0), (2125, 0.0), (2126, 0.0), (2127, 0.0), (2128, 0.0), (2130, 0.0), (2133, 0.0), (2134, 0.0), (2135, 0.0), (2136, 0.0), (2137, 0.0), (2138, 0.0), (2139, 0.0), (2141, 0.0), (2142, 0.0), (2143, 0.0), (2144, 0.0), (2145, 0.0), (2146, 0.0), (2147, 0.0), (2148, 0.0), (2149, 0.0), (2151, 0.0), (2153, 0.0), (2154, 0.0), (2155, 0.0), (2157, 0.0), (2159, 0.0), (2160, 0.0), (2161, 0.0), (2163, 0.0), (2164, 0.0), (2165, 0.0), (2166, 0.0), (2167, 0.0), (2168, 0.0), (2169, 0.0), (2170, 0.0), (2171, 0.0), (2172, 0.0), (2173, 0.0), (2174, 0.0), (2176, 0.0), (2177, 0.0), (2178, 0.0), (2181, 0.0), (2182, 0.0), (2183, 0.0), (2184, 0.0), (2185, 0.0), (2186, 0.0), (2187, 0.0), (2188, 0.0), (2189, 0.0), (2190, 0.0), (2191, 0.0), (2192, 0.0), (2193, 0.0), (2194, 0.0), (2195, 0.0), (2197, 0.0), (2198, 0.0), (2199, 0.0), (2200, 0.0), (2201, 0.0), (2203, 0.0), (2204, 0.0), (2205, 0.0), (2206, 0.0), (2207, 0.0), (2208, 0.0), (2209, 0.0), (2210, 0.0), (2212, 0.0), (2214, 0.0), (2215, 0.0), (2216, 0.0), (2217, 0.0), (2218, 0.0), (2221, 0.0), (2222, 0.0), (2223, 0.0), (2224, 0.0), (2225, 0.0), (2226, 0.0), (2228, 0.0), (2229, 0.0), (2230, 0.0), (2231, 0.0), (2232, 0.0), (2233, 0.0), (2235, 0.0), (2236, 0.0), (2237, 0.0), (2238, 0.0), (2239, 0.0), (2241, 0.0), (2242, 0.0), (2243, 0.0), (2245, 0.0), (2246, 0.0), (2251, 0.0), (2252, 0.0), (2253, 0.0), (2254, 0.0), (2255, 0.0), (2257, 0.0), (2259, 0.0), (2260, 0.0), (2261, 0.0), (2262, 0.0), (2263, 0.0), (2265, 0.0), (2266, 0.0), (2267, 0.0), (2268, 0.0), (2270, 0.0), (2271, 0.0), (2272, 0.0), (2273, 0.0), (2274, 0.0), (2275, 0.0), (2276, 0.0), (2277, 0.0), (2278, 0.0), (2279, 0.0), (2281, 0.0), (2282, 0.0), (2283, 0.0), (2284, 0.0), (2285, 0.0), (2286, 0.0), (2287, 0.0), (2288, 0.0), (2289, 0.0), (2290, 0.0), (2291, 0.0), (2292, 0.0), (2293, 0.0), (2294, 0.0), (2295, 0.0), (2299, 0.0), (2301, 0.0), (2302, 0.0), (2303, 0.0), (2304, 0.0), (2305, 0.0), (2306, 0.0), (2307, 0.0), (2308, 0.0), (2309, 0.0), (2310, 0.0), (2311, 0.0), (2312, 0.0), (2313, 0.0), (2314, 0.0), (2315, 0.0), (2316, 0.0), (2317, 0.0), (2319, 0.0), (2320, 0.0), (2322, 0.0), (2324, 0.0), (2325, 0.0), (2327, 0.0), (2328, 0.0), (2329, 0.0), (2330, 0.0), (2331, 0.0), (2332, 0.0), (2333, 0.0), (2334, 0.0), (2336, 0.0), (2337, 0.0), (2338, 0.0), (2339, 0.0), (2344, 0.0), (2346, 0.0), (2348, 0.0), (2349, 0.0), (2350, 0.0), (2351, 0.0), (2354, 0.0), (2355, 0.0), (2356, 0.0), (2357, 0.0), (2361, 0.0), (2362, 0.0), (2363, 0.0), (2364, 0.0), (2365, 0.0), (2366, 0.0), (2367, 0.0), (2369, 0.0), (2370, 0.0), (2371, 0.0), (2372, 0.0), (2373, 0.0), (2374, 0.0), (2375, 0.0), (2376, 0.0), (2378, 0.0), (2379, 0.0), (2380, 0.0), (2381, 0.0), (2383, 0.0), (2384, 0.0), (2385, 0.0), (2386, 0.0), (2387, 0.0), (2388, 0.0), (2389, 0.0), (2390, 0.0), (2391, 0.0), (2392, 0.0), (2393, 0.0), (2394, 0.0), (2395, 0.0), (2396, 0.0), (2397, 0.0), (2398, 0.0), (2399, 0.0), (2400, 0.0), (2401, 0.0), (2402, 0.0), (2403, 0.0), (2404, 0.0), (2405, 0.0), (2406, 0.0), (2407, 0.0), (2411, 0.0), (2412, 0.0), (2413, 0.0), (2414, 0.0), (2415, 0.0), (2416, 0.0), (2417, 0.0), (2418, 0.0), (2419, 0.0), (2420, 0.0), (2421, 0.0), (2422, 0.0), (2423, 0.0), (2424, 0.0), (2425, 0.0), (2426, 0.0), (2427, 0.0), (2428, 0.0), (2430, 0.0), (2431, 0.0), (2432, 0.0), (2433, 0.0), (2434, 0.0), (2435, 0.0), (2436, 0.0), (2437, 0.0), (2438, 0.0), (2442, 0.0), (2444, 0.0), (2445, 0.0), (2446, 0.0), (2448, 0.0), (2449, 0.0), (2450, 0.0), (2451, 0.0), (2452, 0.0), (2453, 0.0), (2454, 0.0), (2455, 0.0), (2457, 0.0), (2458, 0.0), (2459, 0.0), (2460, 0.0), (2461, 0.0), (2462, 0.0), (2463, 0.0), (2464, 0.0), (2466, 0.0), (2467, 0.0), (2468, 0.0), (2469, 0.0), (2470, 0.0), (2472, 0.0), (2473, 0.0), (2475, 0.0), (2478, 0.0), (2479, 0.0), (2481, 0.0), (2482, 0.0), (2483, 0.0), (2485, 0.0), (2486, 0.0), (2487, 0.0), (2488, 0.0), (2489, 0.0), (2490, 0.0), (2491, 0.0), (2492, 0.0), (2493, 0.0), (2494, 0.0), (2495, 0.0), (2496, 0.0), (2498, 0.0), (2500, 0.0), (2501, 0.0), (2502, 0.0), (2503, 0.0), (2504, 0.0), (2505, 0.0), (2506, 0.0), (2507, 0.0), (2508, 0.0), (2510, 0.0), (2511, 0.0), (2512, 0.0), (2513, 0.0), (2514, 0.0), (2515, 0.0), (2517, 0.0), (2518, 0.0), (2519, 0.0), (2520, 0.0), (2521, 0.0), (2522, 0.0), (2524, 0.0), (2525, 0.0), (2526, 0.0), (2527, 0.0), (2528, 0.0), (2529, 0.0), (2530, 0.0), (2531, 0.0), (2532, 0.0), (2533, 0.0), (2535, 0.0), (2536, 0.0), (2537, 0.0), (2538, 0.0), (2539, 0.0), (2540, 0.0), (2543, 0.0), (2544, 0.0), (2545, 0.0), (2546, 0.0), (2549, 0.0), (2550, 0.0), (2551, 0.0), (2555, 0.0), (2556, 0.0), (2557, 0.0), (2559, 0.0), (2560, 0.0), (2561, 0.0), (2563, 0.0), (2564, 0.0), (2565, 0.0), (2566, 0.0), (2567, 0.0), (2568, 0.0), (2570, 0.0), (2572, 0.0), (2573, 0.0), (2575, 0.0), (2576, 0.0), (2577, 0.0), (2579, 0.0), (2581, 0.0), (2582, 0.0), (2583, 0.0), (2584, 0.0), (2586, 0.0), (2587, 0.0), (2589, 0.0), (2590, 0.0), (2592, 0.0), (2593, 0.0), (2594, 0.0), (2595, 0.0), (2596, 0.0), (2599, 0.0), (2600, 0.0), (2601, 0.0), (2602, 0.0), (2603, 0.0), (2604, 0.0), (2605, 0.0), (2606, 0.0), (2607, 0.0), (2609, 0.0), (2610, 0.0), (2611, 0.0), (2612, 0.0), (2613, 0.0), (2614, 0.0), (2615, 0.0), (2616, 0.0), (2619, 0.0), (2620, 0.0), (2621, 0.0), (2623, 0.0), (2625, 0.0), (2626, 0.0), (2628, 0.0), (2629, 0.0), (2630, 0.0), (2631, 0.0), (2632, 0.0), (2633, 0.0), (2634, 0.0), (2635, 0.0), (2636, 0.0), (2637, 0.0), (2638, 0.0), (2639, 0.0), (2640, 0.0), (2641, 0.0), (2642, 0.0), (2643, 0.0), (2644, 0.0), (2645, 0.0), (2646, 0.0), (2647, 0.0), (2648, 0.0), (2649, 0.0), (2651, 0.0), (2652, 0.0), (2653, 0.0), (2654, 0.0), (2655, 0.0), (2656, 0.0), (2657, 0.0), (2659, 0.0), (2661, 0.0), (2662, 0.0), (2663, 0.0), (2664, 0.0), (2665, 0.0), (2666, 0.0), (2667, 0.0), (2669, 0.0), (2670, 0.0), (2671, 0.0), (2672, 0.0), (2673, 0.0), (2674, 0.0), (2675, 0.0), (2676, 0.0), (2677, 0.0), (2678, 0.0), (2679, 0.0), (2680, 0.0), (2683, 0.0), (2684, 0.0), (2685, 0.0), (2686, 0.0), (2687, 0.0), (2688, 0.0), (2690, 0.0), (2692, 0.0), (2694, 0.0), (2695, 0.0), (2696, 0.0), (2697, 0.0), (2698, 0.0), (2700, 0.0), (2701, 0.0), (2702, 0.0), (2703, 0.0), (2704, 0.0), (2705, 0.0), (2706, 0.0), (2707, 0.0), (2708, 0.0), (2709, 0.0), (2710, 0.0), (2711, 0.0), (2713, 0.0), (2714, 0.0), (2715, 0.0), (2716, 0.0), (2717, 0.0), (2718, 0.0), (2719, 0.0), (2720, 0.0), (2721, 0.0), (2722, 0.0), (2723, 0.0), (2724, 0.0), (2725, 0.0), (2726, 0.0), (2727, 0.0), (2729, 0.0), (2730, 0.0), (2731, 0.0), (2732, 0.0), (2733, 0.0), (2734, 0.0), (2735, 0.0), (2737, 0.0), (2738, 0.0), (2740, 0.0), (2741, 0.0), (2742, 0.0), (2743, 0.0), (2744, 0.0), (2745, 0.0), (2747, 0.0), (2748, 0.0), (2749, 0.0), (2751, 0.0), (2752, 0.0), (2753, 0.0), (2754, 0.0), (2755, 0.0), (2756, 0.0), (2757, 0.0), (2758, 0.0), (2760, 0.0), (2761, 0.0), (2763, 0.0), (2764, 0.0), (2765, 0.0), (2767, 0.0), (2768, 0.0), (2769, 0.0), (2770, 0.0), (2771, 0.0), (2772, 0.0), (2773, 0.0), (2774, 0.0), (2775, 0.0), (2776, 0.0), (2777, 0.0), (2778, 0.0), (2779, 0.0), (2780, 0.0), (2781, 0.0), (2782, 0.0), (2783, 0.0), (2784, 0.0), (2785, 0.0), (2786, 0.0), (2787, 0.0), (2788, 0.0), (2789, 0.0), (2792, 0.0), (2793, 0.0), (2794, 0.0), (2795, 0.0), (2796, 0.0), (2797, 0.0), (2798, 0.0), (2799, 0.0), (2800, 0.0), (2802, 0.0), (2803, 0.0), (2806, 0.0), (2807, 0.0), (2808, 0.0), (2809, 0.0), (2810, 0.0), (2811, 0.0), (2812, 0.0), (2813, 0.0), (2814, 0.0), (2815, 0.0), (2816, 0.0), (2817, 0.0), (2818, 0.0), (2820, 0.0), (2822, 0.0), (2823, 0.0), (2824, 0.0), (2825, 0.0), (2826, 0.0), (2828, 0.0), (2829, 0.0), (2830, 0.0), (2831, 0.0), (2832, 0.0), (2833, 0.0), (2834, 0.0), (2835, 0.0), (2836, 0.0), (2837, 0.0), (2838, 0.0), (2840, 0.0), (2844, 0.0), (2846, 0.0), (2847, 0.0), (2849, 0.0), (2850, 0.0), (2852, 0.0), (2854, 0.0), (2855, 0.0), (2856, 0.0), (2857, 0.0), (2858, 0.0), (2860, 0.0), (2861, 0.0), (2862, 0.0), (2863, 0.0), (2864, 0.0), (2865, 0.0), (2866, 0.0), (2867, 0.0), (2868, 0.0), (2870, 0.0), (2871, 0.0), (2872, 0.0), (2873, 0.0), (2875, 0.0), (2876, 0.0), (2877, 0.0), (2878, 0.0), (2879, 0.0), (2880, 0.0), (2881, 0.0), (2882, 0.0), (2883, 0.0), (2884, 0.0), (2885, 0.0), (2886, 0.0), (2887, 0.0), (2888, 0.0), (2889, 0.0), (2890, 0.0), (2891, 0.0), (2892, 0.0), (2893, 0.0), (2895, 0.0), (2896, 0.0), (2897, 0.0), (2898, 0.0), (2900, 0.0), (2901, 0.0), (2902, 0.0), (2903, 0.0), (2904, 0.0), (2906, 0.0), (2907, 0.0), (2910, 0.0), (2911, 0.0), (2912, 0.0), (2913, 0.0), (2914, 0.0), (2915, 0.0), (2916, 0.0), (2917, 0.0), (2918, 0.0), (2920, 0.0), (2921, 0.0), (2922, 0.0), (2923, 0.0), (2925, 0.0), (2926, 0.0), (2927, 0.0), (2928, 0.0), (2930, 0.0), (2932, 0.0), (2933, 0.0), (2934, 0.0), (2935, 0.0), (2936, 0.0), (2937, 0.0), (2938, 0.0), (2939, 0.0), (2940, 0.0), (2941, 0.0), (2942, 0.0), (2943, 0.0), (2944, 0.0), (2945, 0.0), (2946, 0.0), (2947, 0.0), (2948, 0.0), (2950, 0.0), (2951, 0.0), (2952, 0.0), (2953, 0.0), (2954, 0.0), (2955, 0.0), (2956, 0.0), (2957, 0.0), (2958, 0.0), (2959, 0.0), (2960, 0.0), (2961, 0.0), (2962, 0.0), (2963, 0.0), (2964, 0.0), (2965, 0.0), (2966, 0.0), (2967, 0.0), (2969, 0.0), (2970, 0.0), (2971, 0.0), (2972, 0.0), (2973, 0.0), (2974, 0.0), (2976, 0.0), (2977, 0.0), (2979, 0.0), (2980, 0.0), (2982, 0.0), (2983, 0.0), (2984, 0.0), (2985, 0.0), (2986, 0.0), (2987, 0.0), (2989, 0.0), (2990, 0.0), (2991, 0.0), (2993, 0.0), (2994, 0.0), (2996, 0.0), (2997, 0.0), (2998, 0.0), (2999, 0.0), (3001, 0.0), (3002, 0.0), (3003, 0.0), (3004, 0.0), (3007, 0.0), (3008, 0.0), (3009, 0.0), (3012, 0.0), (3013, 0.0), (3014, 0.0), (3015, 0.0), (3017, 0.0), (3018, 0.0), (3019, 0.0), (3020, 0.0), (3021, 0.0), (3022, 0.0), (3023, 0.0), (3024, 0.0), (3026, 0.0), (3027, 0.0), (3028, 0.0), (3030, 0.0), (3031, 0.0), (3032, 0.0), (3033, 0.0), (3034, 0.0), (3035, 0.0), (3036, 0.0), (3037, 0.0), (3038, 0.0), (3039, 0.0), (3040, 0.0), (3041, 0.0), (3042, 0.0), (3043, 0.0), (3044, 0.0), (3046, 0.0), (3047, 0.0), (3048, 0.0), (3049, 0.0), (3050, 0.0), (3051, 0.0), (3052, 0.0), (3053, 0.0), (3054, 0.0), (3055, 0.0), (3056, 0.0), (3057, 0.0), (3058, 0.0), (3059, 0.0), (3060, 0.0), (3061, 0.0), (3062, 0.0), (3063, 0.0), (3064, 0.0), (3065, 0.0), (3066, 0.0), (3067, 0.0), (3069, 0.0), (3070, 0.0), (3072, 0.0), (3074, 0.0), (3075, 0.0), (3076, 0.0), (3078, 0.0), (3079, 0.0), (3080, 0.0), (3081, 0.0), (3082, 0.0), (3084, 0.0), (3086, 0.0), (3087, 0.0), (3088, 0.0), (3089, 0.0), (3090, 0.0), (3091, 0.0), (3093, 0.0), (3094, 0.0), (3096, 0.0), (3097, 0.0), (3100, 0.0), (3103, 0.0), (3105, 0.0), (3106, 0.0), (3108, 0.0), (3109, 0.0), (3110, 0.0), (3112, 0.0), (3113, 0.0), (3114, 0.0), (3115, 0.0), (3116, 0.0), (3118, 0.0), (3119, 0.0), (3120, 0.0), (3121, 0.0), (3122, 0.0), (3123, 0.0), (3124, 0.0), (3125, 0.0), (3126, 0.0), (3127, 0.0), (3128, 0.0), (3130, 0.0), (3131, 0.0), (3132, 0.0), (3133, 0.0), (3134, 0.0), (3135, 0.0), (3136, 0.0), (3137, 0.0), (3138, 0.0), (3139, 0.0), (3140, 0.0), (3143, 0.0), (3146, 0.0), (3148, 0.0), (3150, 0.0), (3151, 0.0), (3153, 0.0), (3154, 0.0), (3155, 0.0), (3156, 0.0), (3157, 0.0), (3158, 0.0), (3159, 0.0), (3161, 0.0), (3162, 0.0), (3163, 0.0), (3164, 0.0), (3165, 0.0), (3166, 0.0), (3168, 0.0), (3169, 0.0), (3170, 0.0), (3171, 0.0), (3172, 0.0), (3173, 0.0), (3174, 0.0), (3177, 0.0), (3178, 0.0), (3180, 0.0), (3181, 0.0), (3183, 0.0), (3184, 0.0), (3185, 0.0), (3187, 0.0), (3189, 0.0), (3190, 0.0), (3191, 0.0), (3192, 0.0), (3194, 0.0), (3195, 0.0), (3196, 0.0), (3197, 0.0), (3198, 0.0), (3199, 0.0), (3201, 0.0), (3202, 0.0), (3203, 0.0), (3204, 0.0), (3205, 0.0), (3206, 0.0), (3207, 0.0), (3208, 0.0), (3209, 0.0), (3210, 0.0), (3212, 0.0), (3213, 0.0), (3214, 0.0), (3215, 0.0), (3216, 0.0), (3217, 0.0), (3218, 0.0), (3219, 0.0), (3220, 0.0), (3221, 0.0), (3223, 0.0), (3224, 0.0), (3226, 0.0), (3227, 0.0), (3228, 0.0), (3229, 0.0), (3230, 0.0), (3231, 0.0), (3232, 0.0), (3233, 0.0), (3235, 0.0), (3236, 0.0), (3237, 0.0), (3238, 0.0), (3239, 0.0), (3240, 0.0), (3241, 0.0), (3242, 0.0), (3244, 0.0), (3245, 0.0), (3246, 0.0), (3247, 0.0), (3248, 0.0), (3249, 0.0), (3250, 0.0), (3252, 0.0), (3253, 0.0), (3254, 0.0), (3256, 0.0), (3257, 0.0), (3258, 0.0), (3259, 0.0), (3260, 0.0), (3262, 0.0), (3264, 0.0), (3265, 0.0), (3266, 0.0), (3267, 0.0), (3268, 0.0), (3269, 0.0), (3270, 0.0), (3271, 0.0), (3272, 0.0), (3273, 0.0), (3274, 0.0), (3275, 0.0), (3276, 0.0), (3277, 0.0), (3278, 0.0), (3280, 0.0), (3281, 0.0), (3282, 0.0), (3283, 0.0), (3284, 0.0), (3286, 0.0), (3287, 0.0), (3288, 0.0), (3290, 0.0), (3291, 0.0), (3292, 0.0), (3293, 0.0), (3294, 0.0), (3295, 0.0), (3296, 0.0), (3298, 0.0), (3299, 0.0), (3300, 0.0), (3301, 0.0), (3302, 0.0), (3303, 0.0), (3304, 0.0), (3305, 0.0), (3306, 0.0), (3307, 0.0), (3309, 0.0), (3311, 0.0), (3312, 0.0), (3313, 0.0), (3314, 0.0), (3316, 0.0), (3317, 0.0), (3319, 0.0), (3320, 0.0), (3321, 0.0), (3322, 0.0), (3323, 0.0), (3324, 0.0), (3325, 0.0), (3326, 0.0), (3327, 0.0), (3330, 0.0), (3331, 0.0), (3332, 0.0), (3334, 0.0), (3337, 0.0), (3339, 0.0), (3340, 0.0), (3341, 0.0), (3342, 0.0), (3343, 0.0), (3346, 0.0), (3347, 0.0), (3348, 0.0), (3349, 0.0), (3350, 0.0), (3351, 0.0), (3353, 0.0), (3354, 0.0), (3355, 0.0), (3357, 0.0), (3358, 0.0), (3361, 0.0), (3363, 0.0), (3364, 0.0), (3365, 0.0), (3366, 0.0), (3367, 0.0), (3368, 0.0), (3370, 0.0), (3372, 0.0), (3373, 0.0), (3374, 0.0), (3376, 0.0), (3378, 0.0), (3379, 0.0), (3382, 0.0), (3383, 0.0), (3384, 0.0), (3385, 0.0), (3388, 0.0), (3390, 0.0), (3391, 0.0), (3393, 0.0), (3395, 0.0), (3396, 0.0), (3397, 0.0), (3398, 0.0), (3399, 0.0), (3400, 0.0), (3402, 0.0), (3403, 0.0), (3404, 0.0), (3405, 0.0), (3407, 0.0), (3409, 0.0), (3410, 0.0), (3411, 0.0), (3412, 0.0), (3414, 0.0), (3415, 0.0), (3416, 0.0), (3417, 0.0), (3419, 0.0), (3422, 0.0), (3423, 0.0), (3424, 0.0), (3425, 0.0), (3426, 0.0), (3427, 0.0), (3429, 0.0), (3431, 0.0), (3432, 0.0), (3434, 0.0), (3436, 0.0), (3437, 0.0), (3438, 0.0), (3439, 0.0), (3440, 0.0), (3441, 0.0), (3442, 0.0), (3444, 0.0), (3445, 0.0), (3446, 0.0), (3447, 0.0), (3448, 0.0), (3450, 0.0), (3451, 0.0), (3452, 0.0), (3454, 0.0), (3455, 0.0), (3456, 0.0), (3457, 0.0), (3459, 0.0), (3461, 0.0), (3462, 0.0), (3464, 0.0), (3465, 0.0), (3467, 0.0), (3468, 0.0), (3469, 0.0), (3470, 0.0), (3472, 0.0), (3473, 0.0), (3475, 0.0), (3476, 0.0), (3477, 0.0), (3478, 0.0), (3479, 0.0), (3480, 0.0), (3481, 0.0), (3482, 0.0), (3483, 0.0), (3484, 0.0), (3485, 0.0), (3486, 0.0), (3487, 0.0), (3488, 0.0), (3489, 0.0), (3490, 0.0), (3491, 0.0), (3492, 0.0), (3493, 0.0), (3494, 0.0), (3495, 0.0), (3496, 0.0), (3497, 0.0), (3499, 0.0), (3501, 0.0), (3502, 0.0), (3503, 0.0), (3504, 0.0), (3505, 0.0), (3506, 0.0), (3507, 0.0), (3508, 0.0), (3512, 0.0), (3513, 0.0), (3514, 0.0), (3515, 0.0), (3517, 0.0), (3518, 0.0), (3519, 0.0), (3520, 0.0), (3521, 0.0), (3522, 0.0), (3523, 0.0), (3525, 0.0), (3526, 0.0), (3527, 0.0), (3529, 0.0), (3530, 0.0), (3531, 0.0), (3534, 0.0), (3535, 0.0), (3536, 0.0), (3538, 0.0), (3539, 0.0), (3540, 0.0), (3541, 0.0), (3542, 0.0), (3543, 0.0), (3544, 0.0), (3545, 0.0), (3546, 0.0), (3547, 0.0), (3548, 0.0), (3549, 0.0), (3550, 0.0), (3551, 0.0), (3552, 0.0), (3554, 0.0), (3555, 0.0), (3556, 0.0), (3557, 0.0), (3558, 0.0), (3559, 0.0), (3560, 0.0), (3561, 0.0), (3562, 0.0), (3563, 0.0), (3565, 0.0), (3566, 0.0), (3567, 0.0), (3568, 0.0), (3569, 0.0), (3570, 0.0), (3571, 0.0), (3572, 0.0), (3574, 0.0), (3575, 0.0), (3576, 0.0), (3577, 0.0), (3578, 0.0), (3579, 0.0), (3581, 0.0), (3582, 0.0), (3583, 0.0), (3584, 0.0), (3586, 0.0), (3587, 0.0), (3588, 0.0), (3589, 0.0), (3590, 0.0), (3591, 0.0), (3592, 0.0), (3593, 0.0), (3594, 0.0), (3595, 0.0), (3596, 0.0), (3598, 0.0), (3599, 0.0), (3600, 0.0), (3601, 0.0), (3602, 0.0), (3603, 0.0), (3604, 0.0), (3605, 0.0), (3606, 0.0), (3607, 0.0), (3608, 0.0), (3609, 0.0), (3610, 0.0), (3613, 0.0), (3615, 0.0), (3616, 0.0), (3617, 0.0), (3618, 0.0), (3620, 0.0), (3621, 0.0), (3622, 0.0), (3623, 0.0), (3624, 0.0), (3625, 0.0), (3626, 0.0), (3627, 0.0), (3628, 0.0), (3629, 0.0), (3630, 0.0), (3631, 0.0), (3632, 0.0), (3633, 0.0), (3634, 0.0), (3635, 0.0), (3636, 0.0), (3638, 0.0), (3639, 0.0), (3640, 0.0), (3641, 0.0), (3643, 0.0), (3644, 0.0), (3646, 0.0), (3647, 0.0), (3648, 0.0), (3649, 0.0), (3651, 0.0), (3652, 0.0), (3653, 0.0), (3654, 0.0), (3655, 0.0), (3656, 0.0), (3657, 0.0), (3660, 0.0), (3661, 0.0), (3662, 0.0), (3664, 0.0), (3666, 0.0), (3667, 0.0), (3668, 0.0), (3669, 0.0), (3670, 0.0), (3671, 0.0), (3672, 0.0), (3673, 0.0), (3674, 0.0), (3675, 0.0), (3676, 0.0), (3677, 0.0), (3678, 0.0), (3679, 0.0), (3680, 0.0), (3681, 0.0), (3683, 0.0), (3685, 0.0), (3686, 0.0), (3687, 0.0), (3688, 0.0), (3689, 0.0), (3690, 0.0), (3691, 0.0), (3692, 0.0), (3693, 0.0), (3694, 0.0), (3695, 0.0), (3696, 0.0), (3697, 0.0), (3698, 0.0), (3699, 0.0), (3700, 0.0), (3701, 0.0), (3702, 0.0), (3703, 0.0), (3704, 0.0), (3705, 0.0), (3706, 0.0), (3708, 0.0), (3710, 0.0), (3711, 0.0), (3713, 0.0), (3714, 0.0), (3715, 0.0), (3716, 0.0), (3718, 0.0), (3719, 0.0), (3720, 0.0), (3721, 0.0), (3722, 0.0), (3723, 0.0), (3724, 0.0), (3725, 0.0), (3726, 0.0), (3727, 0.0), (3728, 0.0), (3729, 0.0), (3730, 0.0), (3731, 0.0), (3732, 0.0), (3733, 0.0), (3734, 0.0), (3735, 0.0), (3736, 0.0), (3737, 0.0), (3739, 0.0), (3740, 0.0), (3741, 0.0), (3742, 0.0), (3743, 0.0), (3744, 0.0), (3745, 0.0), (3746, 0.0), (3748, 0.0), (3749, 0.0), (3751, 0.0), (3752, 0.0), (3753, 0.0), (3754, 0.0), (3755, 0.0), (3756, 0.0), (3757, 0.0), (3758, 0.0), (3759, 0.0), (3761, 0.0), (3762, 0.0), (3763, 0.0), (3765, 0.0), (3766, 0.0), (3767, 0.0), (3768, 0.0), (3769, 0.0), (3770, 0.0), (3771, 0.0), (3772, 0.0), (3773, 0.0), (3775, 0.0), (3776, 0.0), (3777, 0.0), (3778, 0.0), (3779, 0.0), (3781, 0.0), (3782, 0.0), (3783, 0.0), (3784, 0.0), (3785, 0.0), (3786, 0.0), (3787, 0.0), (3788, 0.0), (3789, 0.0), (3790, 0.0), (3791, 0.0), (3792, 0.0), (3793, 0.0), (3794, 0.0), (3795, 0.0), (3796, 0.0), (3798, 0.0), (3799, 0.0), (3800, 0.0), (3801, 0.0), (3803, 0.0), (3804, 0.0), (3805, 0.0), (3808, 0.0), (3809, 0.0), (3810, 0.0), (3811, 0.0), (3812, 0.0), (3813, 0.0), (3815, 0.0), (3816, 0.0), (3817, 0.0), (3818, 0.0), (3819, 0.0), (3820, 0.0), (3821, 0.0), (3822, 0.0), (3823, 0.0), (3824, 0.0), (3826, 0.0), (3827, 0.0), (3828, 0.0), (3829, 0.0), (3832, 0.0), (3834, 0.0), (3835, 0.0), (3836, 0.0), (3837, 0.0), (3840, 0.0), (3841, 0.0), (3843, 0.0), (3844, 0.0), (3846, 0.0), (3848, 0.0), (3850, 0.0), (3851, 0.0), (3852, 0.0), (3854, 0.0), (3855, 0.0), (3858, 0.0), (3859, 0.0), (3860, 0.0), (3861, 0.0), (3862, 0.0), (3863, 0.0), (3864, 0.0), (3865, 0.0), (3866, 0.0), (3867, 0.0), (3869, 0.0), (3870, 0.0), (3871, 0.0), (3873, 0.0), (3874, 0.0), (3875, 0.0), (3878, 0.0), (3880, 0.0), (3881, 0.0), (3883, 0.0), (3884, 0.0), (3885, 0.0), (3886, 0.0), (3888, 0.0), (3890, 0.0), (3892, 0.0), (3893, 0.0), (3894, 0.0), (3895, 0.0), (3896, 0.0), (3897, 0.0), (3899, 0.0), (3900, 0.0), (3901, 0.0), (3902, 0.0), (3903, 0.0), (3904, 0.0), (3905, 0.0), (3906, 0.0), (3907, 0.0), (3908, 0.0), (3911, 0.0), (3912, 0.0), (3913, 0.0), (3914, 0.0), (3916, 0.0), (3917, 0.0), (3920, 0.0), (3921, 0.0), (3922, 0.0), (3923, 0.0), (3924, 0.0), (3925, 0.0), (3926, 0.0), (3930, 0.0), (3931, 0.0), (3932, 0.0), (3933, 0.0), (3934, 0.0), (3935, 0.0), (3936, 0.0), (3937, 0.0), (3939, 0.0), (3940, 0.0), (3941, 0.0), (3942, 0.0), (3943, 0.0), (3944, 0.0), (3945, 0.0), (3946, 0.0), (3947, 0.0), (3948, 0.0), (3949, 0.0), (3950, 0.0), (3951, 0.0), (3952, 0.0), (3953, 0.0), (3954, 0.0), (3955, 0.0), (3959, 0.0), (3960, 0.0), (3961, 0.0), (3962, 0.0), (3963, 0.0), (3964, 0.0), (3966, 0.0), (3967, 0.0), (3968, 0.0), (3969, 0.0), (3970, 0.0), (3971, 0.0), (3972, 0.0), (3974, 0.0), (3975, 0.0), (3977, 0.0), (3978, 0.0), (3979, 0.0), (3980, 0.0), (3982, 0.0), (3984, 0.0), (3986, 0.0), (3987, 0.0), (3988, 0.0), (3990, 0.0), (3991, 0.0), (3993, 0.0), (3994, 0.0), (3995, 0.0), (3996, 0.0), (3997, 0.0), (3998, 0.0), (3999, 0.0), (4000, 0.0), (4001, 0.0), (4002, 0.0), (4003, 0.0), (4004, 0.0), (4005, 0.0), (4007, 0.0), (4008, 0.0), (4009, 0.0), (4010, 0.0), (4011, 0.0), (4012, 0.0), (4014, 0.0), (4015, 0.0), (4016, 0.0), (4017, 0.0), (4019, 0.0), (4021, 0.0), (4024, 0.0), (4025, 0.0), (4026, 0.0), (4030, 0.0), (4031, 0.0), (4032, 0.0), (4033, 0.0), (4034, 0.0), (4035, 0.0), (4036, 0.0), (4037, 0.0), (4038, 0.0), (4039, 0.0), (4040, 0.0), (4042, 0.0), (4043, 0.0), (4044, 0.0), (4046, 0.0), (4047, 0.0), (4048, 0.0), (4049, 0.0), (4051, 0.0), (4052, 0.0), (4054, 0.0), (4058, 0.0), (4060, 0.0), (4061, 0.0), (4062, 0.0), (4064, 0.0), (4066, 0.0), (4068, 0.0), (4069, 0.0), (4070, 0.0), (4071, 0.0), (4073, 0.0), (4075, 0.0), (4076, 0.0), (4077, 0.0), (4078, 0.0), (4079, 0.0), (4080, 0.0), (4081, 0.0), (4082, 0.0), (4083, 0.0), (4084, 0.0), (4085, 0.0), (4086, 0.0), (4087, 0.0), (4088, 0.0), (4090, 0.0), (4091, 0.0), (4092, 0.0), (4093, 0.0), (4094, 0.0), (4095, 0.0), (4096, 0.0), (4097, 0.0), (4099, 0.0), (4100, 0.0), (4101, 0.0), (4102, 0.0), (4103, 0.0), (4105, 0.0), (4106, 0.0), (4107, 0.0), (4108, 0.0), (4109, 0.0), (4111, 0.0), (4112, 0.0), (4113, 0.0), (4114, 0.0), (4116, 0.0), (4117, 0.0), (4118, 0.0), (4119, 0.0), (4120, 0.0), (4121, 0.0), (4122, 0.0), (4123, 0.0), (4126, 0.0), (4127, 0.0), (4128, 0.0), (4129, 0.0), (4130, 0.0), (4131, 0.0), (4132, 0.0), (4133, 0.0), (4134, 0.0), (4135, 0.0), (4136, 0.0), (4137, 0.0), (4139, 0.0), (4140, 0.0), (4141, 0.0), (4142, 0.0), (4143, 0.0), (4144, 0.0), (4145, 0.0), (4146, 0.0), (4147, 0.0), (4149, 0.0), (4151, 0.0), (4152, 0.0), (4154, 0.0), (4156, 0.0), (4157, 0.0), (4158, 0.0), (4160, 0.0), (4161, 0.0), (4162, 0.0), (4163, 0.0), (4164, 0.0), (4165, 0.0), (4166, 0.0), (4168, 0.0), (4172, 0.0), (4173, 0.0), (4174, 0.0), (4175, 0.0), (4180, 0.0), (4181, 0.0), (4183, 0.0), (4184, 0.0), (4185, 0.0), (4186, 0.0), (4187, 0.0), (4188, 0.0), (4190, 0.0), (4191, 0.0), (4192, 0.0), (4194, 0.0), (4195, 0.0), (4196, 0.0), (4198, 0.0), (4199, 0.0), (4200, 0.0), (4202, 0.0), (4203, 0.0), (4204, 0.0), (4205, 0.0), (4206, 0.0), (4207, 0.0), (4208, 0.0), (4209, 0.0), (4210, 0.0), (4211, 0.0), (4213, 0.0), (4214, 0.0), (4218, 0.0), (4219, 0.0), (4220, 0.0), (4221, 0.0), (4222, 0.0), (4223, 0.0), (4224, 0.0), (4225, 0.0), (4227, 0.0), (4228, 0.0), (4229, 0.0), (4230, 0.0), (4231, 0.0), (4233, 0.0), (4234, 0.0), (4235, 0.0), (4236, 0.0), (4237, 0.0), (4239, 0.0), (4240, 0.0), (4241, 0.0), (4243, 0.0), (4244, 0.0), (4246, 0.0), (4247, 0.0), (4248, 0.0), (4249, 0.0), (4250, 0.0), (4251, 0.0), (4252, 0.0), (4253, 0.0), (4254, 0.0), (4255, 0.0), (4257, 0.0), (4258, 0.0), (4259, 0.0), (4260, 0.0), (4261, 0.0), (4264, 0.0), (4265, 0.0), (4266, 0.0), (4268, 0.0), (4270, 0.0), (4272, 0.0), (4273, 0.0), (4276, 0.0), (4277, 0.0), (4278, 0.0), (4279, 0.0), (4280, 0.0), (4282, 0.0), (4283, 0.0), (4284, 0.0), (4285, 0.0), (4287, 0.0), (4289, 0.0), (4290, 0.0), (4291, 0.0), (4293, 0.0), (4294, 0.0), (4295, 0.0), (4296, 0.0), (4297, 0.0), (4298, 0.0), (4300, 0.0), (4302, 0.0), (4303, 0.0), (4305, 0.0), (4306, 0.0), (4307, 0.0), (4308, 0.0), (4310, 0.0), (4311, 0.0), (4312, 0.0), (4313, 0.0), (4314, 0.0), (4315, 0.0), (4316, 0.0), (4317, 0.0), (4318, 0.0), (4319, 0.0), (4320, 0.0), (4322, 0.0), (4326, 0.0), (4328, 0.0), (4330, 0.0), (4331, 0.0), (4332, 0.0), (4333, 0.0), (4334, 0.0), (4335, 0.0), (4336, 0.0), (4338, 0.0), (4339, 0.0), (4340, 0.0), (4341, 0.0), (4342, 0.0), (4344, 0.0), (4345, 0.0), (4346, 0.0), (4347, 0.0), (4348, 0.0), (4349, 0.0), (4350, 0.0), (4352, 0.0), (4353, 0.0), (4354, 0.0), (4355, 0.0), (4356, 0.0), (4357, 0.0), (4358, 0.0), (4360, 0.0), (4361, 0.0), (4362, 0.0), (4363, 0.0), (4364, 0.0), (4365, 0.0), (4366, 0.0), (4367, 0.0), (4368, 0.0), (4370, 0.0), (4371, 0.0), (4372, 0.0), (4373, 0.0), (4376, 0.0), (4378, 0.0), (4379, 0.0), (4380, 0.0), (4381, 0.0), (4382, 0.0), (4383, 0.0), (4384, 0.0), (4385, 0.0), (4386, 0.0), (4387, 0.0), (4388, 0.0), (4390, 0.0), (4391, 0.0), (4392, 0.0), (4393, 0.0), (4394, 0.0), (4395, 0.0), (4396, 0.0), (4397, 0.0), (4398, 0.0), (4400, 0.0), (4401, 0.0), (4402, 0.0), (4405, 0.0), (4406, 0.0), (4407, 0.0), (4408, 0.0), (4409, 0.0), (4410, 0.0), (4412, 0.0), (4413, 0.0), (4414, 0.0), (4416, 0.0), (4418, 0.0), (4419, 0.0), (4421, 0.0), (4422, 0.0), (4423, 0.0), (4426, 0.0), (4428, 0.0), (4429, 0.0), (4430, 0.0), (4431, 0.0), (4432, 0.0), (4434, 0.0), (4435, 0.0), (4436, 0.0), (4438, 0.0), (4439, 0.0), (4441, 0.0), (4442, 0.0), (4443, 0.0), (4444, 0.0), (4445, 0.0), (4446, 0.0), (4447, 0.0), (4448, 0.0), (4449, 0.0), (4450, 0.0), (4451, 0.0), (4452, 0.0), (4453, 0.0), (4454, 0.0), (4455, 0.0), (4456, 0.0), (4457, 0.0), (4458, 0.0), (4459, 0.0), (4460, 0.0), (4461, 0.0), (4462, 0.0), (4463, 0.0), (4464, 0.0), (4465, 0.0), (4467, 0.0), (4468, 0.0), (4469, 0.0), (4470, 0.0), (4471, 0.0), (4472, 0.0), (4473, 0.0), (4474, 0.0), (4475, 0.0), (4476, 0.0), (4477, 0.0), (4478, 0.0), (4479, 0.0), (4480, 0.0), (4481, 0.0), (4483, 0.0), (4484, 0.0), (4486, 0.0), (4487, 0.0), (4488, 0.0), (4489, 0.0), (4490, 0.0), (4491, 0.0), (4492, 0.0), (4493, 0.0), (4494, 0.0), (4495, 0.0), (4496, 0.0), (4497, 0.0), (4499, 0.0), (4500, 0.0), (4501, 0.0), (4502, 0.0), (4503, 0.0), (4504, 0.0), (4505, 0.0), (4506, 0.0), (4507, 0.0), (4509, 0.0), (4510, 0.0), (4511, 0.0), (4512, 0.0), (4514, 0.0), (4515, 0.0), (4516, 0.0), (4518, 0.0), (4519, 0.0), (4520, 0.0), (4521, 0.0), (4522, 0.0), (4523, 0.0), (4524, 0.0), (4525, 0.0), (4526, 0.0), (4527, 0.0), (4528, 0.0), (4529, 0.0), (4530, 0.0), (4531, 0.0), (4532, 0.0), (4533, 0.0), (4535, 0.0), (4536, 0.0), (4537, 0.0), (4538, 0.0), (4539, 0.0), (4540, 0.0), (4543, 0.0), (4544, 0.0), (4545, 0.0), (4546, 0.0), (4547, 0.0), (4548, 0.0), (4549, 0.0), (4550, 0.0), (4551, 0.0), (4552, 0.0), (4553, 0.0), (4555, 0.0), (4556, 0.0), (4558, 0.0), (4559, 0.0), (4560, 0.0), (4562, 0.0), (4563, 0.0), (4564, 0.0), (4565, 0.0), (4566, 0.0), (4567, 0.0), (4568, 0.0), (4569, 0.0), (4570, 0.0), (4571, 0.0), (4572, 0.0), (4573, 0.0), (4574, 0.0), (4575, 0.0), (4576, 0.0), (4577, 0.0), (4579, 0.0), (4580, 0.0), (4581, 0.0), (4584, 0.0), (4585, 0.0), (4586, 0.0), (4588, 0.0), (4589, 0.0), (4590, 0.0), (4591, 0.0), (4592, 0.0), (4593, 0.0), (4594, 0.0), (4595, 0.0), (4596, 0.0), (4597, 0.0), (4599, 0.0), (4600, 0.0), (4601, 0.0), (4602, 0.0), (4603, 0.0), (4604, 0.0), (4605, 0.0), (4606, 0.0), (4607, 0.0), (4608, 0.0), (4609, 0.0), (4610, 0.0), (4611, 0.0), (4612, 0.0), (4613, 0.0), (4614, 0.0), (4615, 0.0), (4616, 0.0), (4617, 0.0), (4618, 0.0), (4619, 0.0), (4620, 0.0), (4622, 0.0), (4623, 0.0), (4624, 0.0), (4625, 0.0), (4626, 0.0), (4629, 0.0), (4630, 0.0), (4631, 0.0), (4632, 0.0), (4633, 0.0), (4634, 0.0), (4637, 0.0), (4638, 0.0), (4639, 0.0), (4640, 0.0), (4641, 0.0), (4642, 0.0), (4643, 0.0), (4645, 0.0), (4646, 0.0), (4647, 0.0), (4648, 0.0), (4649, 0.0), (4650, 0.0), (4652, 0.0), (4654, 0.0), (4655, 0.0), (4656, 0.0), (4657, 0.0), (4658, 0.0), (4659, 0.0), (4660, 0.0), (4662, 0.0), (4664, 0.0), (4665, 0.0), (4666, 0.0), (4667, 0.0), (4668, 0.0), (4669, 0.0), (4670, 0.0), (4674, 0.0), (4675, 0.0), (4676, 0.0), (4677, 0.0), (4678, 0.0), (4679, 0.0), (4680, 0.0), (4682, 0.0), (4685, 0.0), (4686, 0.0), (4687, 0.0), (4688, 0.0), (4689, 0.0), (4690, 0.0), (4691, 0.0), (4692, 0.0), (4693, 0.0), (4694, 0.0), (4695, 0.0), (4696, 0.0), (4697, 0.0), (4698, 0.0), (4700, 0.0), (4701, 0.0), (4702, 0.0), (4704, 0.0), (4705, 0.0), (4706, 0.0), (4707, 0.0), (4709, 0.0), (4710, 0.0), (4711, 0.0), (4713, 0.0), (4714, 0.0), (4715, 0.0), (4716, 0.0), (4717, 0.0), (4718, 0.0), (4719, 0.0), (4720, 0.0), (4722, 0.0), (4723, 0.0), (4724, 0.0), (4725, 0.0), (4727, 0.0), (4729, 0.0), (4730, 0.0), (4731, 0.0), (4733, 0.0), (4734, 0.0), (4735, 0.0), (4736, 0.0), (4737, 0.0), (4738, 0.0), (4739, 0.0), (4740, 0.0), (4741, 0.0), (4742, 0.0), (4743, 0.0), (4744, 0.0), (4746, 0.0), (4747, 0.0), (4748, 0.0), (4749, 0.0), (4750, 0.0), (4751, 0.0), (4752, 0.0), (4753, 0.0), (4754, 0.0), (4755, 0.0), (4756, 0.0), (4758, 0.0)]\n"
          ]
        }
      ],
      "source": [
        "Sorted_Similar_Movies=sorted(Recommendation_Score,key=lambda x:x[1],reverse=True)\n",
        "print(Sorted_Similar_Movies)"
      ]
    },
    {
      "cell_type": "code",
      "execution_count": 44,
      "metadata": {
        "colab": {
          "base_uri": "https://localhost:8080/"
        },
        "id": "cN_z7UaKG1Bc",
        "outputId": "342b3a47-5c00-4d97-ede5-5e62c3b6484c"
      },
      "outputs": [
        {
          "output_type": "stream",
          "name": "stdout",
          "text": [
            "Top 30 Movies suggested for you: \n",
            "\n",
            "1 . Freakonomics\n",
            "2 . Sex With Strangers\n",
            "3 . Hollow Man\n",
            "4 . Lords of Dogtown\n",
            "5 . Body Double\n",
            "6 . Brooklyn's Finest\n",
            "7 . Masked and Anonymous\n",
            "8 . The Rage: Carrie 2\n",
            "9 . Logan's Run\n",
            "10 . The R.M.\n",
            "11 . Losin' It\n",
            "12 . Jason Goes to Hell: The Final Friday\n",
            "13 . The Lady from Shanghai\n",
            "14 . Over Her Dead Body\n",
            "15 . The Apparition\n",
            "16 . Last Holiday\n",
            "17 . Lesbian Vampire Killers\n",
            "18 . Owning Mahowny\n",
            "19 . Daybreakers\n",
            "20 . Crash\n",
            "21 . Gone Girl\n",
            "22 . City of God\n",
            "23 . Kindergarten Cop\n",
            "24 . Gossip\n",
            "25 . Sugar Town\n",
            "26 . Charly\n",
            "27 . Like Crazy\n",
            "28 . Alfie\n",
            "29 . Halloween\n",
            "30 . Meek's Cutoff\n"
          ]
        }
      ],
      "source": [
        "print('Top 30 Movies suggested for you: \\n')\n",
        "i=1\n",
        "for movie in Sorted_Similar_Movies:\n",
        "    index=movie[0]\n",
        "    title_from_index=df[df.index==index]['Movie_Title'].values[0]\n",
        "    if(i<31):\n",
        "        print(i,'.',title_from_index)\n",
        "        i+=1"
      ]
    }
  ],
  "metadata": {
    "colab": {
      "provenance": []
    },
    "kernelspec": {
      "display_name": "Python 3 (ipykernel)",
      "language": "python",
      "name": "python3"
    },
    "language_info": {
      "codemirror_mode": {
        "name": "ipython",
        "version": 3
      },
      "file_extension": ".py",
      "mimetype": "text/x-python",
      "name": "python",
      "nbconvert_exporter": "python",
      "pygments_lexer": "ipython3",
      "version": "3.10.4"
    }
  },
  "nbformat": 4,
  "nbformat_minor": 0
}